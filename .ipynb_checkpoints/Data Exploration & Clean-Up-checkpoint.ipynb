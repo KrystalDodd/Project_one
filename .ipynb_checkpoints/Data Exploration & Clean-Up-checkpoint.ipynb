{
 "cells": [
  {
   "cell_type": "markdown",
   "metadata": {},
   "source": [
    "# Population: CENSUS csv\n",
    "-\tOur population data were retrieved from the 2019 census dataset csv. \n",
    "-\tA random sample of 100 cities with a population of less than 50,000 were selected as our rural city data. \n",
    "-\tA random sample of 100 cities with a population more than 50,000 were selected as our urban city data.\n",
    "-\tOnly incorporated locations with population over 1,000 people.\n",
    "-\tRemoved counties (summed data of cities within the county).\n",
    "\n"
   ]
  },
  {
   "cell_type": "markdown",
   "metadata": {},
   "source": [
    "# Restaurants: Yelp API data \n",
    "-\tOur results for vegan restaurants were drawn from the Yelp API businesses search. \n",
    "-\tDictionaries collected from the API were: cities searched, city, state, latitude, longitude, restaurant name, category         (i.e. pizza, vegan, seafood, donuts), and transactions (i.e. pick-up or delivery). \n"
   ]
  },
  {
   "cell_type": "markdown",
   "metadata": {},
   "source": [
    "# Problem 1\n",
    "-\tAPI response: first Yelp API pull, our results were limited to 20 – 40 responses"
   ]
  },
  {
   "cell_type": "markdown",
   "metadata": {},
   "source": [
    "# Resolution\n",
    "- API response: Parameters for the request were edited. \n",
    "\n",
    "‘location’ : f “{city}, {state}”  -- ADDED AS A STRING\n",
    "‘radius’ : 8047  -- INCREASED FROM 4000 (is this correct?)\n",
    "‘limit’ : 50  -- ADDED LIMIT PARAMETER AS SUGGESTED FROM API DOCUMENTATION\n",
    "‘offset’ : offset[i] – ADDED PARAMETER AND SET ARANGE FUNCTION\n"
   ]
  },
  {
   "cell_type": "markdown",
   "metadata": {},
   "source": [
    "# Problem 2\n",
    "-\tLimited to 5000 API calls per day"
   ]
  },
  {
   "cell_type": "markdown",
   "metadata": {},
   "source": [
    "# Resolution\n",
    "Divided pull requests between available API keys, and saved copies of csv files for accessibility and further data retrieval and clean-up."
   ]
  },
  {
   "cell_type": "markdown",
   "metadata": {},
   "source": [
    "# Problem 3\n",
    "- Category responses were returned as a list"
   ]
  },
  {
   "cell_type": "markdown",
   "metadata": {},
   "source": [
    "# Resolution\n",
    "- First attempted to parse out category responses within the loop. However, this did not work out.\n",
    "- Instead, we accepted the cateogry as one criteria and subdivided it out in a new dataframe and then merged back in to           original dataframe as separate columns."
   ]
  },
  {
   "cell_type": "markdown",
   "metadata": {},
   "source": [
    "# Problem 4\n",
    "-\tDuplicated results for our final urban and clean population dataframes. "
   ]
  },
  {
   "cell_type": "markdown",
   "metadata": {},
   "source": [
    "# Resolution\n",
    "Census csv was further cleaned to eliminate duplicated population results from city results. Selective manipulation of pertinent population data was also applied.  "
   ]
  },
  {
   "cell_type": "markdown",
   "metadata": {},
   "source": [
    "# Data Insights\n",
    "-\tPopulation data from census.gov provided us a reliable source of current total population in U.S. cities. \n",
    "-\tSummary distribution of vegan restaurants across the U.S. is significant in coastal states; however, still at a low             percentage in comparison to other restaurant options. \n",
    "-   The average percent vegan restaurants in urban cities is .53% where as the average percent vegan restaurants in rural           cities is .18%. \t\n",
    "-   The average vegan restaurants per capita in rural cities was .000035 whereas in rural cities it was .000121.\n",
    "-   While the per capita for the rural cities is higher than the urban cities, based on the T score, these are skewed to           outliers.\n",
    "-   There is a positive correlation between population and number of vegan restaurants in both rural and urban cities. The         correlation is slightly higher in urban cities (r-value of .433) than in rural cities (r-value of .302)."
   ]
  },
  {
   "cell_type": "markdown",
   "metadata": {},
   "source": [
    "# Interesting \n",
    "-\tWith our rural heat maps the population of this specific area is smaller than urban; the number of vegan restaurants shows       to be more concentrated around major cities. \n",
    "-   Also with the rural areas the number of vegan restaurants reflects a high level of bicoastility, where as with the urban       there is a presence of these establishments in central US. \n",
    "-\tTop 5 urban vegan cities\n",
    "-\tTop 5 rural vegan cities\n"
   ]
  }
 ],
 "metadata": {
  "kernelspec": {
   "display_name": "Python 3",
   "language": "python",
   "name": "python3"
  },
  "language_info": {
   "codemirror_mode": {
    "name": "ipython",
    "version": 3
   },
   "file_extension": ".py",
   "mimetype": "text/x-python",
   "name": "python",
   "nbconvert_exporter": "python",
   "pygments_lexer": "ipython3",
   "version": "3.8.3"
  }
 },
 "nbformat": 4,
 "nbformat_minor": 4
}
