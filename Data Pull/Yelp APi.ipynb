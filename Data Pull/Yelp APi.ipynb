{
 "cells": [
  {
   "cell_type": "code",
   "execution_count": 302,
   "metadata": {},
   "outputs": [],
   "source": [
    "import matplotlib.pyplot as plt\n",
    "import pandas as pd\n",
    "import numpy as np\n",
    "import scipy.stats as st\n",
    "from scipy.stats import linregress\n",
    "from yelp.client import Client\n",
    "import json\n",
    "from ratelimit import limits\n",
    "import requests\n",
    "import csv\n",
    "import random\n",
    "# from keys import my_api_key\n",
    "my_api_key = \"ANN46mKbNdox3JenUq08MlOjXEqNsDNt71rKpaZwsceDlcfE012_OiylHMfgZsfXSiO5J7ORNuVxD_vXixknTHgq6GMDzJlfZu4Ywnl-KxABRTkn2atLNONB_z7IX3Yx\""
   ]
  },
  {
   "cell_type": "code",
   "execution_count": 303,
   "metadata": {},
   "outputs": [],
   "source": [
    "df = pd.read_csv(\"../sub-est2019_all.csv\", engine='python')\n",
    "rural_city = df[(df[\"POPESTIMATE2019\"]< 50000) & (df[\"POPESTIMATE2019\"] > 1000) & (df[\"PRIMGEO_FLAG\"]==0)]\n",
    "rural_df = rural_city[[\"NAME\", \"STNAME\", \"POPESTIMATE2019\"]]\n",
    "urban_city = df[df[\"POPESTIMATE2019\"]>= 50000]\n",
    "urban_df = urban_city[[\"NAME\", \"STNAME\", \"POPESTIMATE2019\"]]\n",
    "urban_index = urban_df.loc[urban_df[\"NAME\"] == urban_df[\"STNAME\"]].index\n",
    "urban_clean = urban_df.drop(urban_index)\n",
    "random_urban_city = urban_clean[[\"NAME\", \"STNAME\",\"POPESTIMATE2019\"]].sample(n=100, random_state=1)\n",
    "random_rural_city = rural_df[[\"NAME\", \"STNAME\", \"POPESTIMATE2019\"]].sample(n=100, random_state=1)"
   ]
  },
  {
   "cell_type": "code",
   "execution_count": 306,
   "metadata": {},
   "outputs": [],
   "source": [
    "my_api_key= \"ANN46mKbNdox3JenUq08MlOjXEqNsDNt71rKpaZwsceDlcfE012_OiylHMfgZsfXSiO5J7ORNuVxD_vXixknTHgq6GMDzJlfZu4Ywnl-KxABRTkn2atLNONB_z7IX3Yx\"\n",
    "headers = {'Authorization': 'Bearer %s' % my_api_key}\n",
    "\n",
    "rural_dict = {\n",
    "    \"Searched\": [],\n",
    "    \"City\": [],\n",
    "    \"State\": [],\n",
    "    \"Lat\": [],\n",
    "    \"Lng\": [],\n",
    "    \"Restaurant\": [],\n",
    "    \"Category\": [],\n",
    "#     \"Category 2\": [],\n",
    "#     \"Category 3\": [],\n",
    "    \"Transactions\":[]\n",
    "}\n",
    "\n",
    "url='https://api.yelp.com/v3/businesses/search'\n",
    "offset = np.arange(0,950,50).tolist() \n",
    "\n",
    "for city, state in zip(random_rural_city[\"NAME\"], random_rural_city[\"STNAME\"]):\n",
    "    for i in range(len(offset)):\n",
    "        params = {\n",
    "            'location': f\"{city}, {state}\",\n",
    "            'radius': 8047,\n",
    "            'limit': 50,\n",
    "            'offset': offset[i]\n",
    "                 }\n",
    "        response = requests.get(url, params = params, headers = headers).json()\n",
    "        try:\n",
    "            for business in range(len(response[\"businesses\"])):\n",
    "                try:\n",
    "                    rural_dict[\"Searched\"].append(f\"{city}, {state}\")\n",
    "                    rural_dict[\"City\"].append(response[\"businesses\"][business][\"location\"][\"city\"])\n",
    "                    rural_dict[\"State\"].append(response[\"businesses\"][business][\"location\"][\"state\"])\n",
    "                    rural_dict[\"Lat\"].append(response[\"businesses\"][business][\"coordinates\"][\"latitude\"])\n",
    "                    rural_dict[\"Lng\"].append(response[\"businesses\"][business][\"coordinates\"][\"longitude\"])\n",
    "                    rural_dict[\"Restaurant\"].append(response[\"businesses\"][business][\"name\"])\n",
    "                    rural_dict[\"Category\"].append([response[\"businesses\"][business][\"categories\"][i][\"title\"] for i in range(len(response[\"businesses\"][business][\"categories\"]))])\n",
    "#                     rural_dict[\"Category\"].append(response[\"businesses\"][business][\"categories\"][0][\"title\"])\n",
    "#                     rural_dict[\"Category 2\"].append(response[\"businesses\"][business][\"categories\"][1][\"title\"])\n",
    "#                     rural_dict[\"Category 3\"].append(response[\"businesses\"][business][\"categories\"][2][\"title\"])\n",
    "                    rural_dict[\"Transactions\"].append(response[\"businesses\"][business][\"transactions\"])\n",
    "                except KeyError:\n",
    "                    rural_dict[\"Searched\"].append(\"No City Found\")\n",
    "                    rural_dict[\"City\"].append(\"No City Found\")\n",
    "                    rural_dict[\"State\"].append(\"No State Found\")\n",
    "                    rural_dict[\"Lat\"].append(\"No Lat Found\")\n",
    "                    rural_dict[\"Lng\"].append(\"No Lng Found\")\n",
    "                    rural_dict[\"Restaurant\"].append(\"No Restaurant Found\")\n",
    "                    rural_dict[\"Category\"].append(\"No Categories\")\n",
    "                    rural_dict[\"Transactions\"].append(\"No Transactions Found\")\n",
    "#                 except IndexError:\n",
    "#                     rural_dict[\"Category 2\"].append(\"\")\n",
    "#                     rural_dict[\"Category 3\"].append(\"\")\n",
    "        except KeyError:\n",
    "                pass"
   ]
  },
  {
   "cell_type": "code",
   "execution_count": 307,
   "metadata": {},
   "outputs": [],
   "source": [
    "rural = pd.DataFrame.from_dict(rural_dict, orient='index')\n",
    "rural = rural.transpose()"
   ]
  },
  {
   "cell_type": "code",
   "execution_count": 309,
   "metadata": {},
   "outputs": [],
   "source": [
    "my_api_key= \"ANN46mKbNdox3JenUq08MlOjXEqNsDNt71rKpaZwsceDlcfE012_OiylHMfgZsfXSiO5J7ORNuVxD_vXixknTHgq6GMDzJlfZu4Ywnl-KxABRTkn2atLNONB_z7IX3Yx\"\n",
    "headers = {'Authorization': 'Bearer %s' % my_api_key}\n",
    "\n",
    "urban_dict = {\n",
    "    \"Searched\": [],\n",
    "    \"City\": [],\n",
    "    \"State\": [],\n",
    "    \"Lat\": [],\n",
    "    \"Lng\": [],\n",
    "    \"Restaurant\": [],\n",
    "    \"Category\": [],\n",
    "#     \"Category 2\": [],\n",
    "#     \"Category 3\": [],\n",
    "    \"Transactions\":[]\n",
    "}\n",
    "\n",
    "url='https://api.yelp.com/v3/businesses/search'\n",
    "offset = np.arange(0,950,50).tolist() \n",
    "\n",
    "for city, state in zip(random_urban_city[\"NAME\"], random_urban_city[\"STNAME\"]):\n",
    "    for i in range(len(offset)):\n",
    "        params = {\n",
    "            'location': f\"{city}, {state}\",\n",
    "            'radius': 8047,\n",
    "            'limit': 50,\n",
    "            'offset': offset[i]\n",
    "                 }\n",
    "        response = requests.get(url, params = params, headers = headers).json()\n",
    "        try:\n",
    "            for business in range(len(response[\"businesses\"])):\n",
    "                try:\n",
    "                    urban_dict[\"Searched\"].append(f\"{city}, {state}\")\n",
    "                    urban_dict[\"City\"].append(response[\"businesses\"][business][\"location\"][\"city\"])\n",
    "                    urban_dict[\"State\"].append(response[\"businesses\"][business][\"location\"][\"state\"])\n",
    "                    urban_dict[\"Lat\"].append(response[\"businesses\"][business][\"coordinates\"][\"latitude\"])\n",
    "                    urban_dict[\"Lng\"].append(response[\"businesses\"][business][\"coordinates\"][\"longitude\"])\n",
    "                    urban_dict[\"Restaurant\"].append(response[\"businesses\"][business][\"name\"])\n",
    "                    urban_dict[\"Category\"].append([response[\"businesses\"][business][\"categories\"][i][\"title\"] for i in range(len(response[\"businesses\"][business][\"categories\"]))])\n",
    "#                     rural_dict[\"Category\"].append(response[\"businesses\"][business][\"categories\"][0][\"title\"])\n",
    "#                     rural_dict[\"Category 2\"].append(response[\"businesses\"][business][\"categories\"][1][\"title\"])\n",
    "#                     rural_dict[\"Category 3\"].append(response[\"businesses\"][business][\"categories\"][2][\"title\"])\n",
    "                    urban_dict[\"Transactions\"].append(response[\"businesses\"][business][\"transactions\"])\n",
    "                except KeyError:\n",
    "                    urban_dict[\"Searched\"].append(\"No City Found\")\n",
    "                    urban_dict[\"City\"].append(\"No City Found\")\n",
    "                    urban_dict[\"State\"].append(\"No State Found\")\n",
    "                    urban_dict[\"Lat\"].append(\"No Lat Found\")\n",
    "                    urban_dict[\"Lng\"].append(\"No Lng Found\")\n",
    "                    urban_dict[\"Restaurant\"].append(\"No Restaurant Found\")\n",
    "                    urban_dict[\"Category\"].append(\"No Categories\")\n",
    "                    urban_dict[\"Transactions\"].append(\"No Transactions Found\")\n",
    "#                 except IndexError:\n",
    "#                     rural_dict[\"Category 2\"].append(\"\")\n",
    "#                     rural_dict[\"Category 3\"].append(\"\")\n",
    "        except KeyError:\n",
    "                pass"
   ]
  },
  {
   "cell_type": "code",
   "execution_count": 310,
   "metadata": {},
   "outputs": [],
   "source": [
    "urban = pd.DataFrame.from_dict(urban_dict, orient='index')\n",
    "urban = urban.transpose()"
   ]
  },
  {
   "cell_type": "code",
   "execution_count": 311,
   "metadata": {},
   "outputs": [],
   "source": [
    "urban.to_csv(\"../urban.csv\")\n",
    "rural.to_csv(\"../rural.csv\")"
   ]
  },
  {
   "cell_type": "code",
   "execution_count": 313,
   "metadata": {},
   "outputs": [],
   "source": [
    "rural_cat= pd.DataFrame(rural[\"Category\"].to_list(), columns = [\"Category 1\", \"Category 2\", \"Category 3\", \"Category 4\"], index = rural.index)\n",
    "rural_cats = rural_cat[[\"Category 1\", \"Category 2\", \"Category 3\"]]\n",
    "rural_clean = rural.merge(rural_cats, left_index = True,right_index = True)"
   ]
  },
  {
   "cell_type": "code",
   "execution_count": 314,
   "metadata": {},
   "outputs": [],
   "source": [
    "urban_cat= pd.DataFrame(urban[\"Category\"].to_list(), columns = [\"Category 1\", \"Category 2\", \"Category 3\", \"Category 4\"], index = urban.index)\n",
    "urban_cats = urban_cat[[\"Category 1\", \"Category 2\", \"Category 3\"]]\n",
    "urban_clean = urban.merge(urban_cats, left_index = True,right_index = True)"
   ]
  },
  {
   "cell_type": "code",
   "execution_count": 315,
   "metadata": {},
   "outputs": [],
   "source": [
    "keywords = [\"Vegan\", \"vegan\"]\n",
    "rural_vegan = rural_clean[(rural_clean[\"Category 1\"].isin(keywords))|(rural_clean[\"Category 2\"].isin(keywords))|(rural_clean[\"Category 3\"].isin(keywords))]\n",
    "urban_vegan = urban_clean[(urban_clean[\"Category 1\"].isin(keywords))|(urban_clean[\"Category 2\"].isin(keywords))|(urban_clean[\"Category 3\"].isin(keywords))]"
   ]
  },
  {
   "cell_type": "code",
   "execution_count": 316,
   "metadata": {},
   "outputs": [],
   "source": [
    "rural_clean[\"Vegan Options\"] = np.where(rural_clean[\"Category 1\"].isin(keywords)|rural_clean[\"Category 2\"].isin(keywords)|rural_clean[\"Category 3\"].isin(keywords), 1, 0)\n",
    "rural_clean.to_csv(\"../Data Pull/rural_clean.csv\")"
   ]
  },
  {
   "cell_type": "code",
   "execution_count": 317,
   "metadata": {},
   "outputs": [],
   "source": [
    "urban_clean[\"Vegan Options\"] = np.where(urban_clean[\"Category 1\"].isin(keywords)|urban_clean[\"Category 2\"].isin(keywords)|urban_clean[\"Category 3\"].isin(keywords), 1, 0)\n",
    "urban_clean.to_csv(\"../Data Pull/urban_clean.csv\")"
   ]
  },
  {
   "cell_type": "code",
   "execution_count": 318,
   "metadata": {},
   "outputs": [],
   "source": [
    "urban_clean.to_csv(\"../Data Pull/urban_clean.csv\")\n",
    "rural_clean.to_csv(\"../Data Pull/rural_clean.csv\")"
   ]
  },
  {
   "cell_type": "code",
   "execution_count": 319,
   "metadata": {},
   "outputs": [],
   "source": [
    "df[\"Searched\"] = df[\"NAME\"] + \", \" + df[\"STNAME\"]"
   ]
  },
  {
   "cell_type": "code",
   "execution_count": 320,
   "metadata": {},
   "outputs": [],
   "source": [
    "rural_clean_pop = pd.merge(rural_clean, df[[\"POPESTIMATE2019\", \"Searched\"]],  how='left', on= \"Searched\")\n",
    "urban_clean_pop = pd.merge(urban_clean, df[[\"POPESTIMATE2019\", \"Searched\"]],  how='left', on= \"Searched\")"
   ]
  },
  {
   "cell_type": "code",
   "execution_count": 321,
   "metadata": {},
   "outputs": [],
   "source": [
    "rural_group = rural_clean_pop.groupby(\"Searched\")\n",
    "\n",
    "rural_rest_count = rural_group[\"Restaurant\"].count()\n",
    "rural_vegan_count = rural_group[\"Vegan Options\"].sum()\n",
    "rural_pop = rural_group[\"POPESTIMATE2019\"].max()\n",
    "vegan_pct = rural_vegan_count/rural_rest_count * 100\n",
    "vegan_percap = rural_vegan_count/rural_pop\n",
    "\n",
    "rural_summary = pd.DataFrame({\n",
    "    \"Population\" : rural_pop,\n",
    "    \"Total Restaurants\" : rural_rest_count,\n",
    "    \"Restaurants w/ Vegan Options\" : rural_vegan_count,\n",
    "    \"% Vegan Options\" : vegan_pct,\n",
    "    \"Vegan Options per capita\" : vegan_percap\n",
    "})\n",
    "\n",
    "# rural_summary[\"% Vegan Options\"] = rural_summary[\"% Vegan Options\"].map(\"{:.0f}%\".format)\n",
    "rural_summary = rural_summary.reset_index()\n",
    "rural_summary.to_csv(\"../Data Pull/rural_summary.csv\")"
   ]
  },
  {
   "cell_type": "code",
   "execution_count": 332,
   "metadata": {},
   "outputs": [
    {
     "data": {
      "text/html": [
       "<div>\n",
       "<style scoped>\n",
       "    .dataframe tbody tr th:only-of-type {\n",
       "        vertical-align: middle;\n",
       "    }\n",
       "\n",
       "    .dataframe tbody tr th {\n",
       "        vertical-align: top;\n",
       "    }\n",
       "\n",
       "    .dataframe thead th {\n",
       "        text-align: right;\n",
       "    }\n",
       "</style>\n",
       "<table border=\"1\" class=\"dataframe\">\n",
       "  <thead>\n",
       "    <tr style=\"text-align: right;\">\n",
       "      <th></th>\n",
       "      <th>Searched</th>\n",
       "      <th>City</th>\n",
       "      <th>State</th>\n",
       "      <th>Lat</th>\n",
       "      <th>Lng</th>\n",
       "      <th>Restaurant</th>\n",
       "      <th>Category</th>\n",
       "      <th>Transactions</th>\n",
       "      <th>Category 1</th>\n",
       "      <th>Category 2</th>\n",
       "      <th>Category 3</th>\n",
       "      <th>Vegan Options</th>\n",
       "      <th>POPESTIMATE2019</th>\n",
       "    </tr>\n",
       "  </thead>\n",
       "  <tbody>\n",
       "    <tr>\n",
       "      <th>0</th>\n",
       "      <td>Irving city, Texas</td>\n",
       "      <td>Irving</td>\n",
       "      <td>TX</td>\n",
       "      <td>32.8604</td>\n",
       "      <td>-96.9922</td>\n",
       "      <td>Empa Mundo</td>\n",
       "      <td>[Latin American, Argentine]</td>\n",
       "      <td>[delivery]</td>\n",
       "      <td>Latin American</td>\n",
       "      <td>Argentine</td>\n",
       "      <td>None</td>\n",
       "      <td>0</td>\n",
       "      <td>239798</td>\n",
       "    </tr>\n",
       "    <tr>\n",
       "      <th>1</th>\n",
       "      <td>Irving city, Texas</td>\n",
       "      <td>Irving</td>\n",
       "      <td>TX</td>\n",
       "      <td>32.8604</td>\n",
       "      <td>-96.9922</td>\n",
       "      <td>Empa Mundo</td>\n",
       "      <td>[Latin American, Argentine]</td>\n",
       "      <td>[delivery]</td>\n",
       "      <td>Latin American</td>\n",
       "      <td>Argentine</td>\n",
       "      <td>None</td>\n",
       "      <td>0</td>\n",
       "      <td>239798</td>\n",
       "    </tr>\n",
       "    <tr>\n",
       "      <th>2</th>\n",
       "      <td>Irving city, Texas</td>\n",
       "      <td>Irving</td>\n",
       "      <td>TX</td>\n",
       "      <td>32.8481</td>\n",
       "      <td>-96.9921</td>\n",
       "      <td>Mr Max</td>\n",
       "      <td>[Sushi Bars, Izakaya, Ramen]</td>\n",
       "      <td>[delivery, pickup]</td>\n",
       "      <td>Sushi Bars</td>\n",
       "      <td>Izakaya</td>\n",
       "      <td>Ramen</td>\n",
       "      <td>0</td>\n",
       "      <td>239798</td>\n",
       "    </tr>\n",
       "    <tr>\n",
       "      <th>3</th>\n",
       "      <td>Irving city, Texas</td>\n",
       "      <td>Irving</td>\n",
       "      <td>TX</td>\n",
       "      <td>32.8481</td>\n",
       "      <td>-96.9921</td>\n",
       "      <td>Mr Max</td>\n",
       "      <td>[Sushi Bars, Izakaya, Ramen]</td>\n",
       "      <td>[delivery, pickup]</td>\n",
       "      <td>Sushi Bars</td>\n",
       "      <td>Izakaya</td>\n",
       "      <td>Ramen</td>\n",
       "      <td>0</td>\n",
       "      <td>239798</td>\n",
       "    </tr>\n",
       "    <tr>\n",
       "      <th>4</th>\n",
       "      <td>Irving city, Texas</td>\n",
       "      <td>Irving</td>\n",
       "      <td>TX</td>\n",
       "      <td>32.8895</td>\n",
       "      <td>-96.9582</td>\n",
       "      <td>The Ranch</td>\n",
       "      <td>[Steakhouses, American (New)]</td>\n",
       "      <td>[delivery]</td>\n",
       "      <td>Steakhouses</td>\n",
       "      <td>American (New)</td>\n",
       "      <td>None</td>\n",
       "      <td>0</td>\n",
       "      <td>239798</td>\n",
       "    </tr>\n",
       "  </tbody>\n",
       "</table>\n",
       "</div>"
      ],
      "text/plain": [
       "             Searched    City State      Lat      Lng  Restaurant  \\\n",
       "0  Irving city, Texas  Irving    TX  32.8604 -96.9922  Empa Mundo   \n",
       "1  Irving city, Texas  Irving    TX  32.8604 -96.9922  Empa Mundo   \n",
       "2  Irving city, Texas  Irving    TX  32.8481 -96.9921      Mr Max   \n",
       "3  Irving city, Texas  Irving    TX  32.8481 -96.9921      Mr Max   \n",
       "4  Irving city, Texas  Irving    TX  32.8895 -96.9582   The Ranch   \n",
       "\n",
       "                        Category        Transactions      Category 1  \\\n",
       "0    [Latin American, Argentine]          [delivery]  Latin American   \n",
       "1    [Latin American, Argentine]          [delivery]  Latin American   \n",
       "2   [Sushi Bars, Izakaya, Ramen]  [delivery, pickup]      Sushi Bars   \n",
       "3   [Sushi Bars, Izakaya, Ramen]  [delivery, pickup]      Sushi Bars   \n",
       "4  [Steakhouses, American (New)]          [delivery]     Steakhouses   \n",
       "\n",
       "       Category 2 Category 3  Vegan Options  POPESTIMATE2019  \n",
       "0       Argentine       None              0           239798  \n",
       "1       Argentine       None              0           239798  \n",
       "2         Izakaya      Ramen              0           239798  \n",
       "3         Izakaya      Ramen              0           239798  \n",
       "4  American (New)       None              0           239798  "
      ]
     },
     "execution_count": 332,
     "metadata": {},
     "output_type": "execute_result"
    }
   ],
   "source": [
    "# urban_group = urban_clean_pop.groupby(\"Searched\")\n",
    "\n",
    "# urban_rest_count = urban_group[\"Restaurant\"].count()\n",
    "# urban_vegan_count = urban_group[\"Vegan Options\"].sum()\n",
    "# urban_pop = urban_group[\"POPESTIMATE2019\"].max()\n",
    "# vegan_pct = urban_vegan_count/urban_rest_count * 100\n",
    "# vegan_percap = urban_vegan_count/urban_pop\n",
    "\n",
    "# urban_summary = pd.DataFrame({\n",
    "#     \"Population\" : urban_pop,\n",
    "#     \"Total Restaurants\" : urban_rest_count,\n",
    "#     \"Restaurants w/ Vegan Options\" : urban_vegan_count,\n",
    "#     \"% Vegan Options\" : vegan_pct,\n",
    "#     \"Vegan Options per capita\" : vegan_percap\n",
    "# })\n",
    "\n",
    "# # urban_summary[\"% Vegan Options\"] = urban_summary[\"% Vegan Options\"].map(\"{:.0f}%\".format)\n",
    "\n",
    "# urban_summary.to_csv(\"../Data Pull/urban_summary.csv\")\n",
    "# urban_summary = urban_summary.reset_index()\n",
    "# urban_summary\n"
   ]
  },
  {
   "cell_type": "code",
   "execution_count": 252,
   "metadata": {},
   "outputs": [
    {
     "data": {
      "text/html": [
       "<div>\n",
       "<style scoped>\n",
       "    .dataframe tbody tr th:only-of-type {\n",
       "        vertical-align: middle;\n",
       "    }\n",
       "\n",
       "    .dataframe tbody tr th {\n",
       "        vertical-align: top;\n",
       "    }\n",
       "\n",
       "    .dataframe thead th {\n",
       "        text-align: right;\n",
       "    }\n",
       "</style>\n",
       "<table border=\"1\" class=\"dataframe\">\n",
       "  <thead>\n",
       "    <tr style=\"text-align: right;\">\n",
       "      <th></th>\n",
       "      <th>Tot Cities</th>\n",
       "      <th>Tot Population</th>\n",
       "      <th>Tot Restaurants</th>\n",
       "      <th>Tot Restaurants w/Vegan Options</th>\n",
       "      <th>Tot % Vegan Options</th>\n",
       "      <th>Tot Vegan Options per capita</th>\n",
       "    </tr>\n",
       "  </thead>\n",
       "  <tbody>\n",
       "    <tr>\n",
       "      <th>Total</th>\n",
       "      <td>95</td>\n",
       "      <td>154132</td>\n",
       "      <td>1186</td>\n",
       "      <td>8</td>\n",
       "      <td>0.43%</td>\n",
       "      <td>0.000083</td>\n",
       "    </tr>\n",
       "  </tbody>\n",
       "</table>\n",
       "</div>"
      ],
      "text/plain": [
       "       Tot Cities  Tot Population  Tot Restaurants  \\\n",
       "Total          95          154132             1186   \n",
       "\n",
       "       Tot Restaurants w/Vegan Options Tot % Vegan Options  \\\n",
       "Total                                8               0.43%   \n",
       "\n",
       "       Tot Vegan Options per capita  \n",
       "Total                      0.000083  "
      ]
     },
     "execution_count": 252,
     "metadata": {},
     "output_type": "execute_result"
    }
   ],
   "source": [
    "urban_tot_cities = urban_summary[\"Searched\"].nunique()\n",
    "urban_tot_pop = urban_summary[\"Population\"].mean()\n",
    "urban_tot_rest = urban_summary[\"Total Restaurants\"].mean()\n",
    "urban_tot_vegan = urban_summary[\"Restaurants w/ Vegan Options\"].mean()\n",
    "urban_tot_per = urban_summary[\"% Vegan Options\"].mean()\n",
    "urban_tot_percap = urban_summary[\"Vegan Options per capita\"].mean()\n",
    "\n",
    "urban_tot_summary = pd.DataFrame({\n",
    "    \"Tot Cities\": urban_tot_cities,\n",
    "    \"Tot Population\": round(urban_tot_pop),\n",
    "    \"Tot Restaurants\": round(urban_tot_rest),\n",
    "    \"Tot Restaurants w/Vegan Options\": round(urban_tot_vegan),\n",
    "    \"Tot % Vegan Options\": urban_tot_per,\n",
    "    \"Tot Vegan Options per capita\": urban_tot_percap\n",
    "     \n",
    "}, index = [\"Total\"])\n",
    "\n",
    "urban_tot_summary[\"Tot % Vegan Options\"] = urban_tot_summary[\"Tot % Vegan Options\"].map(\"{:.2f}%\".format)\n",
    "urban_tot_summary\n",
    "\n"
   ]
  },
  {
   "cell_type": "code",
   "execution_count": 253,
   "metadata": {},
   "outputs": [
    {
     "data": {
      "text/html": [
       "<div>\n",
       "<style scoped>\n",
       "    .dataframe tbody tr th:only-of-type {\n",
       "        vertical-align: middle;\n",
       "    }\n",
       "\n",
       "    .dataframe tbody tr th {\n",
       "        vertical-align: top;\n",
       "    }\n",
       "\n",
       "    .dataframe thead th {\n",
       "        text-align: right;\n",
       "    }\n",
       "</style>\n",
       "<table border=\"1\" class=\"dataframe\">\n",
       "  <thead>\n",
       "    <tr style=\"text-align: right;\">\n",
       "      <th></th>\n",
       "      <th>Tot Cities</th>\n",
       "      <th>Tot Population</th>\n",
       "      <th>Tot Restaurants</th>\n",
       "      <th>Tot Restaurants w/Vegan Options</th>\n",
       "      <th>Tot % Vegan Options</th>\n",
       "      <th>Tot Vegan Options per capita</th>\n",
       "    </tr>\n",
       "  </thead>\n",
       "  <tbody>\n",
       "    <tr>\n",
       "      <th>Total</th>\n",
       "      <td>99</td>\n",
       "      <td>10316</td>\n",
       "      <td>738</td>\n",
       "      <td>4</td>\n",
       "      <td>0.18%</td>\n",
       "      <td>0.000476</td>\n",
       "    </tr>\n",
       "  </tbody>\n",
       "</table>\n",
       "</div>"
      ],
      "text/plain": [
       "       Tot Cities  Tot Population  Tot Restaurants  \\\n",
       "Total          99           10316              738   \n",
       "\n",
       "       Tot Restaurants w/Vegan Options Tot % Vegan Options  \\\n",
       "Total                                4               0.18%   \n",
       "\n",
       "       Tot Vegan Options per capita  \n",
       "Total                      0.000476  "
      ]
     },
     "execution_count": 253,
     "metadata": {},
     "output_type": "execute_result"
    }
   ],
   "source": [
    "rural_tot_cities = rural_summary[\"Searched\"].nunique()\n",
    "rural_tot_pop = rural_summary[\"Population\"].mean()\n",
    "rural_tot_rest = rural_summary[\"Total Restaurants\"].mean()\n",
    "rural_tot_vegan = rural_summary[\"Restaurants w/ Vegan Options\"].mean()\n",
    "rural_tot_per = rural_summary[\"% Vegan Options\"].mean()\n",
    "rural_tot_percap = rural_summary[\"Vegan Options per capita\"].mean()\n",
    "\n",
    "rural_tot_summary = pd.DataFrame({\n",
    "    \"Tot Cities\": rural_tot_cities,\n",
    "    \"Tot Population\": round(rural_tot_pop),\n",
    "    \"Tot Restaurants\": round(rural_tot_rest),\n",
    "    \"Tot Restaurants w/Vegan Options\": round(rural_tot_vegan),\n",
    "    \"Tot % Vegan Options\": rural_tot_per,\n",
    "    \"Tot Vegan Options per capita\": rural_tot_percap\n",
    "     \n",
    "}, index = [\"Total\"])\n",
    "\n",
    "rural_tot_summary[\"Tot % Vegan Options\"] = rural_tot_summary[\"Tot % Vegan Options\"].map(\"{:.2f}%\".format)\n",
    "rural_tot_summary\n"
   ]
  },
  {
   "cell_type": "markdown",
   "metadata": {},
   "source": [
    "## Pie Charts"
   ]
  },
  {
   "cell_type": "code",
   "execution_count": 282,
   "metadata": {},
   "outputs": [
    {
     "data": {
      "image/png": "[encoded data removed]",
      "text/plain": [
       "<Figure size 432x288 with 2 Axes>"
      ]
     },
     "metadata": {},
     "output_type": "display_data"
    }
   ],
   "source": [
    "rural_veg_group = rural_clean_pop.groupby(\"Vegan Options\")\n",
    "urban_veg_group = urban_clean_pop.groupby(\"Vegan Options\")\n",
    "rural_veg = rural_veg_group[\"Vegan Options\"].count()\n",
    "urban_veg = urban_veg_group[\"Vegan Options\"].count()\n",
    "all_veg = pd.concat([rural_veg, urban_veg], axis=1)\n",
    "all_labels = [\"non-vegan\", \"vegan\"]\n",
    "all_veg.plot(kind = \"pie\", title = \"Vegan Option %\", labels = rural_labels, subplots = True, autopct = \"%1.2f%%\")\n",
    "plt.axis(\"equal\")\n",
    "plt.show()\n"
   ]
  },
  {
   "cell_type": "markdown",
   "metadata": {},
   "source": [
    "## Scatter plot"
   ]
  },
  {
   "cell_type": "code",
   "execution_count": 268,
   "metadata": {},
   "outputs": [
    {
     "name": "stdout",
     "output_type": "stream",
     "text": [
      "The correlation coefficient is -0.01\n"
     ]
    },
    {
     "data": {
      "image/png": "[encoded data removed]",
      "text/plain": [
       "<Figure size 432x288 with 1 Axes>"
      ]
     },
     "metadata": {
      "needs_background": "light"
     },
     "output_type": "display_data"
    }
   ],
   "source": [
    "urban_scatter = urban_summary[[\"Population\", \"Restaurants w/ Vegan Options\"]]\n",
    "urban_scatter.plot(x=\"Population\", y = \"Restaurants w/ Vegan Options\", kind = \"scatter\", title = \"Urban Population vs Vegan Options\")\n",
    "correlation = st.pearsonr(urban_summary[\"Population\"], urban_summary[\"Restaurants w/ Vegan Options\"])\n",
    "print(f\"The correlation coefficient is {round(correlation[0],2)}\")\n",
    "plt.show()"
   ]
  },
  {
   "cell_type": "code",
   "execution_count": 276,
   "metadata": {},
   "outputs": [
    {
     "name": "stdout",
     "output_type": "stream",
     "text": [
      "The r-value is: -0.011242154307342503\n"
     ]
    },
    {
     "data": {
      "image/png": "[encoded data removed]",
      "text/plain": [
       "<Figure size 432x288 with 1 Axes>"
      ]
     },
     "metadata": {
      "needs_background": "light"
     },
     "output_type": "display_data"
    }
   ],
   "source": [
    "x = urban_summary[\"Population\"]\n",
    "y = urban_summary[\"Restaurants w/ Vegan Options\"]\n",
    "(slope, intercept, rvalue, pvalue, stderr) = linregress(x, y)\n",
    "regress = slope * x + intercept\n",
    "eq = f\"y = {round(slope,2)}x + {round(intercept,2)}\"\n",
    "urban_scatter.plot(x = \"Population\", y = \"Restaurants w/ Vegan Options\", kind = \"scatter\", title = \"Urban Population vs Vegan Options\")\n",
    "plt.plot(x, regress, \"r-\")\n",
    "plt.annotate(eq, (1500000,20), color =\"r\")\n",
    "print(f\"The r-value is: {rvalue}\")\n",
    "plt.show()"
   ]
  },
  {
   "cell_type": "code",
   "execution_count": 283,
   "metadata": {},
   "outputs": [
    {
     "name": "stdout",
     "output_type": "stream",
     "text": [
      "The correlation coefficient is 0.28\n"
     ]
    },
    {
     "data": {
      "image/png": "[encoded data removed]",
      "text/plain": [
       "<Figure size 432x288 with 1 Axes>"
      ]
     },
     "metadata": {
      "needs_background": "light"
     },
     "output_type": "display_data"
    }
   ],
   "source": [
    "rural_scatter = rural_summary[[\"Population\", \"Restaurants w/ Vegan Options\"]]\n",
    "rural_scatter.plot(x=\"Population\", y = \"Restaurants w/ Vegan Options\", kind = \"scatter\", title = \"Rural Population vs Vegan Options\")\n",
    "correlation = st.pearsonr(rural_summary[\"Population\"], rural_summary[\"Restaurants w/ Vegan Options\"])\n",
    "print(f\"The correlation coefficient is {round(correlation[0],2)}\")\n",
    "plt.show()"
   ]
  },
  {
   "cell_type": "code",
   "execution_count": 288,
   "metadata": {},
   "outputs": [
    {
     "name": "stdout",
     "output_type": "stream",
     "text": [
      "The r-value is: 0.27777617374514224\n"
     ]
    },
    {
     "ename": "NameError",
     "evalue": "name 'figsize' is not defined",
     "output_type": "error",
     "traceback": [
      "\u001b[1;31m---------------------------------------------------------------------------\u001b[0m",
      "\u001b[1;31mNameError\u001b[0m                                 Traceback (most recent call last)",
      "\u001b[1;32m<ipython-input-288-2169d474bd54>\u001b[0m in \u001b[0;36m<module>\u001b[1;34m\u001b[0m\n\u001b[0;32m      8\u001b[0m \u001b[0mplt\u001b[0m\u001b[1;33m.\u001b[0m\u001b[0mannotate\u001b[0m\u001b[1;33m(\u001b[0m\u001b[0meq\u001b[0m\u001b[1;33m,\u001b[0m \u001b[1;33m(\u001b[0m\u001b[1;36m1500000\u001b[0m\u001b[1;33m,\u001b[0m\u001b[1;36m20\u001b[0m\u001b[1;33m)\u001b[0m\u001b[1;33m,\u001b[0m \u001b[0mcolor\u001b[0m \u001b[1;33m=\u001b[0m\u001b[1;34m\"r\"\u001b[0m\u001b[1;33m)\u001b[0m\u001b[1;33m\u001b[0m\u001b[1;33m\u001b[0m\u001b[0m\n\u001b[0;32m      9\u001b[0m \u001b[0mprint\u001b[0m\u001b[1;33m(\u001b[0m\u001b[1;34mf\"The r-value is: {rvalue}\"\u001b[0m\u001b[1;33m)\u001b[0m\u001b[1;33m\u001b[0m\u001b[1;33m\u001b[0m\u001b[0m\n\u001b[1;32m---> 10\u001b[1;33m \u001b[0mfigsize\u001b[0m\u001b[1;33m(\u001b[0m\u001b[1;36m100\u001b[0m\u001b[1;33m,\u001b[0m\u001b[1;36m100\u001b[0m\u001b[1;33m)\u001b[0m\u001b[1;33m\u001b[0m\u001b[1;33m\u001b[0m\u001b[0m\n\u001b[0m",
      "\u001b[1;31mNameError\u001b[0m: name 'figsize' is not defined"
     ]
    },
    {
     "data": {
      "image/png": "[encoded data removed]",
      "text/plain": [
       "<Figure size 432x288 with 1 Axes>"
      ]
     },
     "metadata": {
      "needs_background": "light"
     },
     "output_type": "display_data"
    }
   ],
   "source": [
    "x = rural_summary[\"Population\"]\n",
    "y = rural_summary[\"Restaurants w/ Vegan Options\"]\n",
    "(slope, intercept, rvalue, pvalue, stderr) = linregress(x, y)\n",
    "regress = slope * x + intercept\n",
    "eq = f\"y = {round(slope,2)}x + {round(intercept,2)}\"\n",
    "rural_scatter.plot(x = \"Population\", y = \"Restaurants w/ Vegan Options\", kind = \"scatter\", title = \"Rural Population vs Vegan Options\")\n",
    "plt.plot(x, regress, \"r-\")\n",
    "plt.annotate(eq, (1500000,20), color =\"r\")\n",
    "print(f\"The r-value is: {rvalue}\")\n",
    "figsize(100,100)"
   ]
  },
  {
   "cell_type": "code",
   "execution_count": null,
   "metadata": {},
   "outputs": [],
   "source": []
  }
 ],
 "metadata": {
  "kernelspec": {
   "display_name": "Python 3",
   "language": "python",
   "name": "python3"
  },
  "language_info": {
   "codemirror_mode": {
    "name": "ipython",
    "version": 3
   },
   "file_extension": ".py",
   "mimetype": "text/x-python",
   "name": "python",
   "nbconvert_exporter": "python",
   "pygments_lexer": "ipython3",
   "version": "3.8.3"
  }
 },
 "nbformat": 4,
 "nbformat_minor": 4
}
