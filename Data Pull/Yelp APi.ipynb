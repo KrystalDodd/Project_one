{
 "cells": [
  {
   "cell_type": "code",
   "execution_count": 568,
   "metadata": {},
   "outputs": [
    {
     "ename": "ImportError",
     "evalue": "cannot import name 'gkey' from 'keys' (C:\\Users\\perki\\Desktop\\Project_one\\Data Pull\\keys.py)",
     "output_type": "error",
     "traceback": [
      "\u001b[1;31m---------------------------------------------------------------------------\u001b[0m",
      "\u001b[1;31mImportError\u001b[0m                               Traceback (most recent call last)",
      "\u001b[1;32m<ipython-input-568-be135a44bf65>\u001b[0m in \u001b[0;36m<module>\u001b[1;34m\u001b[0m\n\u001b[0;32m     10\u001b[0m \u001b[1;32mimport\u001b[0m \u001b[0mcsv\u001b[0m\u001b[1;33m\u001b[0m\u001b[1;33m\u001b[0m\u001b[0m\n\u001b[0;32m     11\u001b[0m \u001b[1;32mimport\u001b[0m \u001b[0mrandom\u001b[0m\u001b[1;33m\u001b[0m\u001b[1;33m\u001b[0m\u001b[0m\n\u001b[1;32m---> 12\u001b[1;33m \u001b[1;32mfrom\u001b[0m \u001b[0mkeys\u001b[0m \u001b[1;32mimport\u001b[0m \u001b[0mmy_api_key\u001b[0m\u001b[1;33m,\u001b[0m \u001b[0mgkey\u001b[0m\u001b[1;33m\u001b[0m\u001b[1;33m\u001b[0m\u001b[0m\n\u001b[0m\u001b[0;32m     13\u001b[0m \u001b[1;32mimport\u001b[0m \u001b[0mgmaps\u001b[0m\u001b[1;33m\u001b[0m\u001b[1;33m\u001b[0m\u001b[0m\n",
      "\u001b[1;31mImportError\u001b[0m: cannot import name 'gkey' from 'keys' (C:\\Users\\perki\\Desktop\\Project_one\\Data Pull\\keys.py)"
     ]
    }
   ],
   "source": [
    "import matplotlib.pyplot as plt\n",
    "import pandas as pd\n",
    "import numpy as np\n",
    "import scipy.stats as st\n",
    "from scipy.stats import linregress\n",
    "from yelp.client import Client\n",
    "import json\n",
    "from ratelimit import limits\n",
    "import requests\n",
    "import csv\n",
    "import random\n",
    "from keys import my_api_key, gkey\n",
    "import gmaps"
   ]
  },
  {
   "cell_type": "code",
   "execution_count": 432,
   "metadata": {},
   "outputs": [],
   "source": [
    "df = pd.read_csv(\"../sub-est2019_all.csv\", engine='python')\n",
    "rural_city = df[(df[\"POPESTIMATE2019\"]< 50000) & (df[\"POPESTIMATE2019\"] > 1000) & (df[\"PRIMGEO_FLAG\"]==0)]\n",
    "rural_df = rural_city[[\"NAME\", \"STNAME\", \"POPESTIMATE2019\"]]\n",
    "urban_city = df[df[\"POPESTIMATE2019\"]>= 50000]\n",
    "urban_df = urban_city[[\"NAME\", \"STNAME\", \"POPESTIMATE2019\"]]\n",
    "urban_index = urban_df.loc[urban_df[\"NAME\"] == urban_df[\"STNAME\"]].index\n",
    "urban_clean = urban_df.drop(urban_index)\n",
    "random_urban_city = urban_clean[[\"NAME\", \"STNAME\",\"POPESTIMATE2019\"]].sample(n=100, random_state=1)\n",
    "random_rural_city = rural_df[[\"NAME\", \"STNAME\", \"POPESTIMATE2019\"]].sample(n=100, random_state=1)"
   ]
  },
  {
   "cell_type": "code",
   "execution_count": 437,
   "metadata": {},
   "outputs": [],
   "source": [
    "headers = {'Authorization': 'Bearer %s' % my_api_key}\n",
    "\n",
    "rural_dict = {\n",
    "    \"Searched\": [],\n",
    "    \"City\": [],\n",
    "    \"State\": [],\n",
    "    \"Lat\": [],\n",
    "    \"Lng\": [],\n",
    "    \"Restaurant\": [],\n",
    "    \"Category\": [],\n",
    "#     \"Category 2\": [],\n",
    "#     \"Category 3\": [],\n",
    "    \"Transactions\":[]\n",
    "}\n",
    "\n",
    "url='https://api.yelp.com/v3/businesses/search'\n",
    "offset = np.arange(0,950,50).tolist() \n",
    "\n",
    "for city, state in zip(random_rural_city[\"NAME\"], random_rural_city[\"STNAME\"]):\n",
    "    for i in range(len(offset)):\n",
    "        params = {\n",
    "            'location': f\"{city}, {state}\",\n",
    "            'radius': 8047,\n",
    "            'limit': 50,\n",
    "            'offset': offset[i]\n",
    "                 }\n",
    "        response = requests.get(url, params = params, headers = headers).json()\n",
    "        try:\n",
    "            for business in range(len(response[\"businesses\"])):\n",
    "                try:\n",
    "                    rural_dict[\"Searched\"].append(f\"{city}, {state}\")\n",
    "                    rural_dict[\"City\"].append(response[\"businesses\"][business][\"location\"][\"city\"])\n",
    "                    rural_dict[\"State\"].append(response[\"businesses\"][business][\"location\"][\"state\"])\n",
    "                    rural_dict[\"Lat\"].append(response[\"businesses\"][business][\"coordinates\"][\"latitude\"])\n",
    "                    rural_dict[\"Lng\"].append(response[\"businesses\"][business][\"coordinates\"][\"longitude\"])\n",
    "                    rural_dict[\"Restaurant\"].append(response[\"businesses\"][business][\"name\"])\n",
    "                    rural_dict[\"Category\"].append([response[\"businesses\"][business][\"categories\"][i][\"title\"] for i in range(len(response[\"businesses\"][business][\"categories\"]))])\n",
    "#                     rural_dict[\"Category\"].append(response[\"businesses\"][business][\"categories\"][0][\"title\"])\n",
    "#                     rural_dict[\"Category 2\"].append(response[\"businesses\"][business][\"categories\"][1][\"title\"])\n",
    "#                     rural_dict[\"Category 3\"].append(response[\"businesses\"][business][\"categories\"][2][\"title\"])\n",
    "                    rural_dict[\"Transactions\"].append(response[\"businesses\"][business][\"transactions\"])\n",
    "                except KeyError:\n",
    "                    rural_dict[\"Searched\"].append(\"No City Found\")\n",
    "                    rural_dict[\"City\"].append(\"No City Found\")\n",
    "                    rural_dict[\"State\"].append(\"No State Found\")\n",
    "                    rural_dict[\"Lat\"].append(\"No Lat Found\")\n",
    "                    rural_dict[\"Lng\"].append(\"No Lng Found\")\n",
    "                    rural_dict[\"Restaurant\"].append(\"No Restaurant Found\")\n",
    "                    rural_dict[\"Category\"].append(\"No Categories\")\n",
    "                    rural_dict[\"Transactions\"].append(\"No Transactions Found\")\n",
    "#                 except IndexError:\n",
    "#                     rural_dict[\"Category 2\"].append(\"\")\n",
    "#                     rural_dict[\"Category 3\"].append(\"\")\n",
    "        except KeyError:\n",
    "                pass"
   ]
  },
  {
   "cell_type": "code",
   "execution_count": 438,
   "metadata": {},
   "outputs": [],
   "source": [
    "rural = pd.DataFrame.from_dict(rural_dict, orient='index')\n",
    "rural = rural.transpose()"
   ]
  },
  {
   "cell_type": "code",
   "execution_count": 434,
   "metadata": {},
   "outputs": [],
   "source": [
    "headers = {'Authorization': 'Bearer %s' % my_api_key}\n",
    "\n",
    "urban_dict = {\n",
    "    \"Searched\": [],\n",
    "    \"City\": [],\n",
    "    \"State\": [],\n",
    "    \"Lat\": [],\n",
    "    \"Lng\": [],\n",
    "    \"Restaurant\": [],\n",
    "    \"Category\": [],\n",
    "#     \"Category 2\": [],\n",
    "#     \"Category 3\": [],\n",
    "    \"Transactions\":[]\n",
    "}\n",
    "\n",
    "url='https://api.yelp.com/v3/businesses/search'\n",
    "offset = np.arange(0,950,50).tolist() \n",
    "\n",
    "for city, state in zip(random_urban_city[\"NAME\"], random_urban_city[\"STNAME\"]):\n",
    "    for i in range(len(offset)):\n",
    "        params = {\n",
    "            'location': f\"{city}, {state}\",\n",
    "            'radius': 8047,\n",
    "            'limit': 50,\n",
    "            'offset': offset[i]\n",
    "                 }\n",
    "        response = requests.get(url, params = params, headers = headers).json()\n",
    "        try:\n",
    "            for business in range(len(response[\"businesses\"])):\n",
    "                try:\n",
    "                    urban_dict[\"Searched\"].append(f\"{city}, {state}\")\n",
    "                    urban_dict[\"City\"].append(response[\"businesses\"][business][\"location\"][\"city\"])\n",
    "                    urban_dict[\"State\"].append(response[\"businesses\"][business][\"location\"][\"state\"])\n",
    "                    urban_dict[\"Lat\"].append(response[\"businesses\"][business][\"coordinates\"][\"latitude\"])\n",
    "                    urban_dict[\"Lng\"].append(response[\"businesses\"][business][\"coordinates\"][\"longitude\"])\n",
    "                    urban_dict[\"Restaurant\"].append(response[\"businesses\"][business][\"name\"])\n",
    "                    urban_dict[\"Category\"].append([response[\"businesses\"][business][\"categories\"][i][\"title\"] for i in range(len(response[\"businesses\"][business][\"categories\"]))])\n",
    "#                     rural_dict[\"Category\"].append(response[\"businesses\"][business][\"categories\"][0][\"title\"])\n",
    "#                     rural_dict[\"Category 2\"].append(response[\"businesses\"][business][\"categories\"][1][\"title\"])\n",
    "#                     rural_dict[\"Category 3\"].append(response[\"businesses\"][business][\"categories\"][2][\"title\"])\n",
    "                    urban_dict[\"Transactions\"].append(response[\"businesses\"][business][\"transactions\"])\n",
    "                except KeyError:\n",
    "                    urban_dict[\"Searched\"].append(\"No City Found\")\n",
    "                    urban_dict[\"City\"].append(\"No City Found\")\n",
    "                    urban_dict[\"State\"].append(\"No State Found\")\n",
    "                    urban_dict[\"Lat\"].append(\"No Lat Found\")\n",
    "                    urban_dict[\"Lng\"].append(\"No Lng Found\")\n",
    "                    urban_dict[\"Restaurant\"].append(\"No Restaurant Found\")\n",
    "                    urban_dict[\"Category\"].append(\"No Categories\")\n",
    "                    urban_dict[\"Transactions\"].append(\"No Transactions Found\")\n",
    "#                 except IndexError:\n",
    "#                     rural_dict[\"Category 2\"].append(\"\")\n",
    "#                     rural_dict[\"Category 3\"].append(\"\")\n",
    "        except KeyError:\n",
    "                pass"
   ]
  },
  {
   "cell_type": "code",
   "execution_count": 435,
   "metadata": {},
   "outputs": [],
   "source": [
    "urban = pd.DataFrame.from_dict(urban_dict, orient='index')\n",
    "urban = urban.transpose()"
   ]
  },
  {
   "cell_type": "code",
   "execution_count": 439,
   "metadata": {},
   "outputs": [],
   "source": [
    "urban.to_csv(\"../urban.csv\")\n",
    "rural.to_csv(\"../rural.csv\")"
   ]
  },
  {
   "cell_type": "code",
   "execution_count": 443,
   "metadata": {},
   "outputs": [],
   "source": [
    "rural_cat= pd.DataFrame(rural[\"Category\"].to_list(), columns = [\"Category 1\", \"Category 2\", \"Category 3\", \"Category 4\", \"Category 5\", \"Category 6\"], index = rural.index)\n",
    "rural_cats = rural_cat[[\"Category 1\", \"Category 2\", \"Category 3\"]]\n",
    "rural_clean = rural.merge(rural_cats, left_index = True,right_index = True)"
   ]
  },
  {
   "cell_type": "code",
   "execution_count": 445,
   "metadata": {},
   "outputs": [],
   "source": [
    "urban_cat= pd.DataFrame(urban[\"Category\"].to_list(), columns = [\"Category 1\", \"Category 2\", \"Category 3\", \"Category 4\"], index = urban.index)\n",
    "urban_cats = urban_cat[[\"Category 1\", \"Category 2\", \"Category 3\"]]\n",
    "urban_clean = urban.merge(urban_cats, left_index = True,right_index = True)\n"
   ]
  },
  {
   "cell_type": "code",
   "execution_count": 446,
   "metadata": {},
   "outputs": [],
   "source": [
    "keywords = [\"Vegan\", \"vegan\"]\n",
    "rural_vegan = rural_clean[(rural_clean[\"Category 1\"].isin(keywords))|(rural_clean[\"Category 2\"].isin(keywords))|(rural_clean[\"Category 3\"].isin(keywords))]\n",
    "urban_vegan = urban_clean[(urban_clean[\"Category 1\"].isin(keywords))|(urban_clean[\"Category 2\"].isin(keywords))|(urban_clean[\"Category 3\"].isin(keywords))]"
   ]
  },
  {
   "cell_type": "code",
   "execution_count": 447,
   "metadata": {},
   "outputs": [],
   "source": [
    "rural_clean[\"Vegan Options\"] = np.where(rural_clean[\"Category 1\"].isin(keywords)|rural_clean[\"Category 2\"].isin(keywords)|rural_clean[\"Category 3\"].isin(keywords), 1, 0)\n",
    "rural_clean.to_csv(\"../Data Pull/rural_clean.csv\")"
   ]
  },
  {
   "cell_type": "code",
   "execution_count": 448,
   "metadata": {},
   "outputs": [],
   "source": [
    "urban_clean[\"Vegan Options\"] = np.where(urban_clean[\"Category 1\"].isin(keywords)|urban_clean[\"Category 2\"].isin(keywords)|urban_clean[\"Category 3\"].isin(keywords), 1, 0)\n",
    "urban_clean.to_csv(\"../Data Pull/urban_clean.csv\")"
   ]
  },
  {
   "cell_type": "code",
   "execution_count": 449,
   "metadata": {},
   "outputs": [],
   "source": [
    "urban_clean.to_csv(\"../Data Pull/urban_clean.csv\")\n",
    "rural_clean.to_csv(\"../Data Pull/rural_clean.csv\")"
   ]
  },
  {
   "cell_type": "code",
   "execution_count": 450,
   "metadata": {},
   "outputs": [],
   "source": [
    "df[\"Searched\"] = df[\"NAME\"] + \", \" + df[\"STNAME\"]"
   ]
  },
  {
   "cell_type": "code",
   "execution_count": 451,
   "metadata": {},
   "outputs": [],
   "source": [
    "rural_clean_pop = pd.merge(rural_clean, df[[\"POPESTIMATE2019\", \"Searched\"]],  how='left', on= \"Searched\")\n",
    "urban_clean_pop = pd.merge(urban_clean, df[[\"POPESTIMATE2019\", \"Searched\"]],  how='left', on= \"Searched\")\n",
    "urban_clean_pop.drop_duplicates(subset = ['Searched', 'Restaurant'], keep = 'first')\n",
    "rural_clean_pop.drop_duplicates(subset = ['Searched', 'Restaurant'], keep = 'first')\n",
    "urban_clean_pop.to_csv(\"../Data Pull/urban_clean_pop.csv\")\n",
    "rural_clean_pop.to_csv(\"../Data Pull/rural_clean_pop.csv\")"
   ]
  },
  {
   "cell_type": "code",
   "execution_count": 452,
   "metadata": {},
   "outputs": [],
   "source": [
    "rural_group = rural_clean_pop.groupby(\"Searched\")\n",
    "\n",
    "rural_rest_count = rural_group[\"Restaurant\"].count()\n",
    "rural_vegan_count = rural_group[\"Vegan Options\"].sum()\n",
    "rural_pop = rural_group[\"POPESTIMATE2019\"].max()\n",
    "vegan_pct = rural_vegan_count/rural_rest_count * 100\n",
    "vegan_percap = rural_vegan_count/rural_pop\n",
    "\n",
    "rural_summary = pd.DataFrame({\n",
    "    \"Population\" : rural_pop,\n",
    "    \"Total Restaurants\" : rural_rest_count,\n",
    "    \"Vegan Restaurants\" : rural_vegan_count,\n",
    "    \"% Vegan Restaurants\" : vegan_pct,\n",
    "    \"Vegan Restaurants per capita\" : vegan_percap\n",
    "})\n",
    "\n",
    "# rural_summary[\"% Vegan Options\"] = rural_summary[\"% Vegan Options\"].map(\"{:.0f}%\".format)\n",
    "rural_summary = rural_summary.reset_index()\n",
    "rural_summary.to_csv(\"../Data Pull/rural_summary.csv\")"
   ]
  },
  {
   "cell_type": "code",
   "execution_count": 457,
   "metadata": {},
   "outputs": [
    {
     "data": {
      "text/html": [
       "<div>\n",
       "<style scoped>\n",
       "    .dataframe tbody tr th:only-of-type {\n",
       "        vertical-align: middle;\n",
       "    }\n",
       "\n",
       "    .dataframe tbody tr th {\n",
       "        vertical-align: top;\n",
       "    }\n",
       "\n",
       "    .dataframe thead th {\n",
       "        text-align: right;\n",
       "    }\n",
       "</style>\n",
       "<table border=\"1\" class=\"dataframe\">\n",
       "  <thead>\n",
       "    <tr style=\"text-align: right;\">\n",
       "      <th></th>\n",
       "      <th>Searched</th>\n",
       "      <th>Population</th>\n",
       "      <th>Total Restaurants</th>\n",
       "      <th>Vegan Restaurants</th>\n",
       "      <th>% Vegan Restaurants</th>\n",
       "      <th>Vegan Restaurants per capita</th>\n",
       "    </tr>\n",
       "  </thead>\n",
       "  <tbody>\n",
       "    <tr>\n",
       "      <th>0</th>\n",
       "      <td>Asheville, North Carolina</td>\n",
       "      <td>92870</td>\n",
       "      <td>688</td>\n",
       "      <td>5</td>\n",
       "      <td>0.726744</td>\n",
       "      <td>0.000054</td>\n",
       "    </tr>\n",
       "    <tr>\n",
       "      <th>1</th>\n",
       "      <td>Auburn, Washington</td>\n",
       "      <td>81464</td>\n",
       "      <td>441</td>\n",
       "      <td>0</td>\n",
       "      <td>0.000000</td>\n",
       "      <td>0.000000</td>\n",
       "    </tr>\n",
       "    <tr>\n",
       "      <th>2</th>\n",
       "      <td>Aurora, Illinois</td>\n",
       "      <td>197757</td>\n",
       "      <td>423</td>\n",
       "      <td>0</td>\n",
       "      <td>0.000000</td>\n",
       "      <td>0.000000</td>\n",
       "    </tr>\n",
       "    <tr>\n",
       "      <th>3</th>\n",
       "      <td>Austin, Texas</td>\n",
       "      <td>978908</td>\n",
       "      <td>950</td>\n",
       "      <td>26</td>\n",
       "      <td>2.736842</td>\n",
       "      <td>0.000027</td>\n",
       "    </tr>\n",
       "    <tr>\n",
       "      <th>4</th>\n",
       "      <td>Baldwin Park, California</td>\n",
       "      <td>75251</td>\n",
       "      <td>950</td>\n",
       "      <td>7</td>\n",
       "      <td>0.736842</td>\n",
       "      <td>0.000093</td>\n",
       "    </tr>\n",
       "    <tr>\n",
       "      <th>...</th>\n",
       "      <td>...</td>\n",
       "      <td>...</td>\n",
       "      <td>...</td>\n",
       "      <td>...</td>\n",
       "      <td>...</td>\n",
       "      <td>...</td>\n",
       "    </tr>\n",
       "    <tr>\n",
       "      <th>95</th>\n",
       "      <td>Waterloo, Iowa</td>\n",
       "      <td>67328</td>\n",
       "      <td>175</td>\n",
       "      <td>0</td>\n",
       "      <td>0.000000</td>\n",
       "      <td>0.000000</td>\n",
       "    </tr>\n",
       "    <tr>\n",
       "      <th>96</th>\n",
       "      <td>Wichita, Kansas</td>\n",
       "      <td>389938</td>\n",
       "      <td>598</td>\n",
       "      <td>2</td>\n",
       "      <td>0.334448</td>\n",
       "      <td>0.000005</td>\n",
       "    </tr>\n",
       "    <tr>\n",
       "      <th>97</th>\n",
       "      <td>Wilmington, North Carolina</td>\n",
       "      <td>123744</td>\n",
       "      <td>682</td>\n",
       "      <td>1</td>\n",
       "      <td>0.146628</td>\n",
       "      <td>0.000008</td>\n",
       "    </tr>\n",
       "    <tr>\n",
       "      <th>98</th>\n",
       "      <td>Wylie, Texas</td>\n",
       "      <td>53067</td>\n",
       "      <td>227</td>\n",
       "      <td>0</td>\n",
       "      <td>0.000000</td>\n",
       "      <td>0.000000</td>\n",
       "    </tr>\n",
       "    <tr>\n",
       "      <th>99</th>\n",
       "      <td>Yakima, Washington</td>\n",
       "      <td>93637</td>\n",
       "      <td>353</td>\n",
       "      <td>1</td>\n",
       "      <td>0.283286</td>\n",
       "      <td>0.000011</td>\n",
       "    </tr>\n",
       "  </tbody>\n",
       "</table>\n",
       "<p>100 rows × 6 columns</p>\n",
       "</div>"
      ],
      "text/plain": [
       "                      Searched  Population  Total Restaurants  \\\n",
       "0    Asheville, North Carolina       92870                688   \n",
       "1           Auburn, Washington       81464                441   \n",
       "2             Aurora, Illinois      197757                423   \n",
       "3                Austin, Texas      978908                950   \n",
       "4     Baldwin Park, California       75251                950   \n",
       "..                         ...         ...                ...   \n",
       "95              Waterloo, Iowa       67328                175   \n",
       "96             Wichita, Kansas      389938                598   \n",
       "97  Wilmington, North Carolina      123744                682   \n",
       "98                Wylie, Texas       53067                227   \n",
       "99          Yakima, Washington       93637                353   \n",
       "\n",
       "    Vegan Restaurants  % Vegan Restaurants  Vegan Restaurants per capita  \n",
       "0                   5             0.726744                      0.000054  \n",
       "1                   0             0.000000                      0.000000  \n",
       "2                   0             0.000000                      0.000000  \n",
       "3                  26             2.736842                      0.000027  \n",
       "4                   7             0.736842                      0.000093  \n",
       "..                ...                  ...                           ...  \n",
       "95                  0             0.000000                      0.000000  \n",
       "96                  2             0.334448                      0.000005  \n",
       "97                  1             0.146628                      0.000008  \n",
       "98                  0             0.000000                      0.000000  \n",
       "99                  1             0.283286                      0.000011  \n",
       "\n",
       "[100 rows x 6 columns]"
      ]
     },
     "execution_count": 457,
     "metadata": {},
     "output_type": "execute_result"
    }
   ],
   "source": [
    "urban_group = urban_clean_pop.groupby(\"Searched\")\n",
    "\n",
    "urban_rest_count = urban_group[\"Restaurant\"].count()\n",
    "urban_vegan_count = urban_group[\"Vegan Options\"].sum()\n",
    "urban_pop = urban_group[\"POPESTIMATE2019\"].max()\n",
    "vegan_pct = urban_vegan_count/urban_rest_count * 100\n",
    "vegan_percap = urban_vegan_count/urban_pop\n",
    "\n",
    "urban_summary = pd.DataFrame({\n",
    "    \"Population\" : urban_pop,\n",
    "    \"Total Restaurants\" : urban_rest_count,\n",
    "    \"Vegan Restaurants\" : urban_vegan_count,\n",
    "    \"% Vegan Restaurants\" : vegan_pct,\n",
    "    \"Vegan Restaurants per capita\" : vegan_percap\n",
    "})\n",
    "\n",
    "# urban_summary[\"% Vegan Restaurants\"] = urban_summary[\"% Vegan Restaurants\"].map(\"{:.1f}%\".format)\n",
    "\n",
    "urban_summary.to_csv(\"../Data Pull/urban_summary.csv\")\n",
    "urban_summary = urban_summary.reset_index()\n",
    "urban_summary\n"
   ]
  },
  {
   "cell_type": "code",
   "execution_count": 460,
   "metadata": {},
   "outputs": [
    {
     "data": {
      "text/html": [
       "<div>\n",
       "<style scoped>\n",
       "    .dataframe tbody tr th:only-of-type {\n",
       "        vertical-align: middle;\n",
       "    }\n",
       "\n",
       "    .dataframe tbody tr th {\n",
       "        vertical-align: top;\n",
       "    }\n",
       "\n",
       "    .dataframe thead th {\n",
       "        text-align: right;\n",
       "    }\n",
       "</style>\n",
       "<table border=\"1\" class=\"dataframe\">\n",
       "  <thead>\n",
       "    <tr style=\"text-align: right;\">\n",
       "      <th></th>\n",
       "      <th>Cities</th>\n",
       "      <th>Avg Population</th>\n",
       "      <th>Avg Restaurants</th>\n",
       "      <th>Avg Vegan Restaurants</th>\n",
       "      <th>Avg % Vegan Restaurants</th>\n",
       "      <th>Avg Vegan Restaurants per capita</th>\n",
       "    </tr>\n",
       "  </thead>\n",
       "  <tbody>\n",
       "    <tr>\n",
       "      <th>Total</th>\n",
       "      <td>100</td>\n",
       "      <td>140131</td>\n",
       "      <td>551</td>\n",
       "      <td>4</td>\n",
       "      <td>0.53%</td>\n",
       "      <td>0.000035</td>\n",
       "    </tr>\n",
       "  </tbody>\n",
       "</table>\n",
       "</div>"
      ],
      "text/plain": [
       "       Cities  Avg Population  Avg Restaurants  Avg Vegan Restaurants  \\\n",
       "Total     100          140131              551                      4   \n",
       "\n",
       "      Avg % Vegan Restaurants  Avg Vegan Restaurants per capita  \n",
       "Total                   0.53%                          0.000035  "
      ]
     },
     "execution_count": 460,
     "metadata": {},
     "output_type": "execute_result"
    }
   ],
   "source": [
    "urban_tot_cities = urban_summary[\"Searched\"].nunique()\n",
    "urban_tot_pop = urban_summary[\"Population\"].mean()\n",
    "urban_tot_rest = urban_summary[\"Total Restaurants\"].mean()\n",
    "urban_tot_vegan = urban_summary[\"Vegan Restaurants\"].mean()\n",
    "urban_tot_per = urban_summary[\"% Vegan Restaurants\"].mean()\n",
    "urban_tot_percap = urban_summary[\"Vegan Restaurants per capita\"].mean()\n",
    "\n",
    "urban_tot_summary = pd.DataFrame({\n",
    "    \"Cities\": urban_tot_cities,\n",
    "    \"Avg Population\": round(urban_tot_pop),\n",
    "    \"Avg Restaurants\": round(urban_tot_rest),\n",
    "    \"Avg Vegan Restaurants\": round(urban_tot_vegan),\n",
    "    \"Avg % Vegan Restaurants\": urban_tot_per,\n",
    "    \"Avg Vegan Restaurants per capita\": urban_tot_percap\n",
    "     \n",
    "}, index = [\"Total\"])\n",
    "\n",
    "urban_tot_summary[\"Avg % Vegan Restaurants\"] = urban_tot_summary[\"Avg % Vegan Restaurants\"].map(\"{:.2f}%\".format)\n",
    "urban_tot_summary\n",
    "\n"
   ]
  },
  {
   "cell_type": "code",
   "execution_count": 461,
   "metadata": {},
   "outputs": [
    {
     "data": {
      "text/html": [
       "<div>\n",
       "<style scoped>\n",
       "    .dataframe tbody tr th:only-of-type {\n",
       "        vertical-align: middle;\n",
       "    }\n",
       "\n",
       "    .dataframe tbody tr th {\n",
       "        vertical-align: top;\n",
       "    }\n",
       "\n",
       "    .dataframe thead th {\n",
       "        text-align: right;\n",
       "    }\n",
       "</style>\n",
       "<table border=\"1\" class=\"dataframe\">\n",
       "  <thead>\n",
       "    <tr style=\"text-align: right;\">\n",
       "      <th></th>\n",
       "      <th>Cities</th>\n",
       "      <th>Avg Population</th>\n",
       "      <th>Avg Restaurants</th>\n",
       "      <th>Avg Vegan Restaurants</th>\n",
       "      <th>Avg % Vegan Restaurants</th>\n",
       "      <th>Avg Vegan Restaurants per capita</th>\n",
       "    </tr>\n",
       "  </thead>\n",
       "  <tbody>\n",
       "    <tr>\n",
       "      <th>Total</th>\n",
       "      <td>98</td>\n",
       "      <td>6973</td>\n",
       "      <td>141</td>\n",
       "      <td>1</td>\n",
       "      <td>0.18%</td>\n",
       "      <td>0.000121</td>\n",
       "    </tr>\n",
       "  </tbody>\n",
       "</table>\n",
       "</div>"
      ],
      "text/plain": [
       "       Cities  Avg Population  Avg Restaurants  Avg Vegan Restaurants  \\\n",
       "Total      98            6973              141                      1   \n",
       "\n",
       "      Avg % Vegan Restaurants  Avg Vegan Restaurants per capita  \n",
       "Total                   0.18%                          0.000121  "
      ]
     },
     "execution_count": 461,
     "metadata": {},
     "output_type": "execute_result"
    }
   ],
   "source": [
    "rural_tot_cities = rural_summary[\"Searched\"].nunique()\n",
    "rural_tot_pop = rural_summary[\"Population\"].mean()\n",
    "rural_tot_rest = rural_summary[\"Total Restaurants\"].mean()\n",
    "rural_tot_vegan = rural_summary[\"Vegan Restaurants\"].mean()\n",
    "rural_tot_per = rural_summary[\"% Vegan Restaurants\"].mean()\n",
    "rural_tot_percap = rural_summary[\"Vegan Restaurants per capita\"].mean()\n",
    "\n",
    "rural_tot_summary = pd.DataFrame({\n",
    "    \"Cities\": rural_tot_cities,\n",
    "    \"Avg Population\": round(rural_tot_pop),\n",
    "    \"Avg Restaurants\": round(rural_tot_rest),\n",
    "    \"Avg Vegan Restaurants\": round(rural_tot_vegan),\n",
    "    \"Avg % Vegan Restaurants\": rural_tot_per,\n",
    "    \"Avg Vegan Restaurants per capita\": rural_tot_percap\n",
    "     \n",
    "}, index = [\"Total\"])\n",
    "\n",
    "rural_tot_summary[\"Avg % Vegan Restaurants\"] = rural_tot_summary[\"Avg % Vegan Restaurants\"].map(\"{:.2f}%\".format)\n",
    "rural_tot_summary\n"
   ]
  },
  {
   "cell_type": "markdown",
   "metadata": {},
   "source": [
    "## Pie Charts"
   ]
  },
  {
   "cell_type": "code",
   "execution_count": 539,
   "metadata": {},
   "outputs": [
    {
     "data": {
      "image/png": "[encoded data removed]",
      "text/plain": [
       "<Figure size 720x720 with 2 Axes>"
      ]
     },
     "metadata": {},
     "output_type": "display_data"
    }
   ],
   "source": [
    "rural_veg_group = rural_clean_pop.groupby(\"Vegan Options\")\n",
    "urban_veg_group = urban_clean_pop.groupby(\"Vegan Options\")\n",
    "rural_veg = rural_veg_group[\"Vegan Options\"].count()\n",
    "urban_veg = urban_veg_group[\"Vegan Options\"].count()\n",
    "all_labels = [\"Non-Vegan\", \"Vegan\"]\n",
    "explode = (0, 0.2)\n",
    "fig, (ax1,ax2) = plt.subplots(1,2, figsize =(10,10))\n",
    "ax1.pie(urban_veg, explode = explode, labels = all_labels, autopct = \"%1.2f%%\", pctdistance = 0.3, shadow = True, startangle =135, textprops = {'weight': 'bold', 'ha':'left'})\n",
    "ax2.pie(rural_veg, explode = explode, labels = all_labels, autopct = \"%1.2f%%\", pctdistance = 0.3, shadow = True, startangle =135, textprops = {'weight': 'bold', 'ha':'left'})\n",
    "ax1.set_title(\"Urban Restaurants\")\n",
    "ax2.set_title(\"Rural Restaurants\")\n",
    "\n",
    "plt.savefig(\"../Images/piechart.jpg\", dpi = 100)\n",
    "plt.show()\n"
   ]
  },
  {
   "cell_type": "markdown",
   "metadata": {},
   "source": [
    "## Scatter plot"
   ]
  },
  {
   "cell_type": "code",
   "execution_count": 542,
   "metadata": {},
   "outputs": [
    {
     "name": "stdout",
     "output_type": "stream",
     "text": [
      "The correlation coefficient is 0.43\n"
     ]
    },
    {
     "data": {
      "image/png": "[encoded data removed]",
      "text/plain": [
       "<Figure size 432x288 with 1 Axes>"
      ]
     },
     "metadata": {
      "needs_background": "light"
     },
     "output_type": "display_data"
    }
   ],
   "source": [
    "urban_scatter = urban_summary[[\"Population\", \"Vegan Restaurants\"]]\n",
    "urban_scatter.plot(x=\"Population\", y = \"Vegan Restaurants\", kind = \"scatter\", title = \"Urban Population vs Vegan Options\")\n",
    "correlation = st.pearsonr(urban_summary[\"Population\"], urban_summary[\"Vegan Restaurants\"])\n",
    "print(f\"The correlation coefficient is {round(correlation[0],2)}\")\n",
    "plt.show()"
   ]
  },
  {
   "cell_type": "code",
   "execution_count": 546,
   "metadata": {},
   "outputs": [
    {
     "name": "stdout",
     "output_type": "stream",
     "text": [
      "The r-value is: 0.43393336395681886 & the correlation coefficient is 0.43\n"
     ]
    },
    {
     "data": {
      "image/png": "[encoded data removed]",
      "text/plain": [
       "<Figure size 432x288 with 1 Axes>"
      ]
     },
     "metadata": {
      "needs_background": "light"
     },
     "output_type": "display_data"
    }
   ],
   "source": [
    "x = urban_summary[\"Population\"]\n",
    "y = urban_summary[\"Vegan Restaurants\"]\n",
    "(slope, intercept, rvalue, pvalue, stderr) = linregress(x, y)\n",
    "regress = slope * x + intercept\n",
    "eq = f\"y = {round(slope,2)}x + {round(intercept,2)}\"\n",
    "urban_scatter.plot(x = \"Population\", y = \"Vegan Restaurants\", kind = \"scatter\", title = \"Urban Population vs Vegan Options\")\n",
    "plt.plot(x, regress, \"r-\")\n",
    "plt.annotate(eq, (1000000,10), color =\"r\")\n",
    "print(f\"The r-value is: {rvalue} & the correlation coefficient is {round(correlation[0],2)}\")\n",
    "plt.savefig(\"../Images/urbanscatter.jpg\", dpi = 100)\n",
    "plt.show()"
   ]
  },
  {
   "cell_type": "code",
   "execution_count": 547,
   "metadata": {},
   "outputs": [
    {
     "name": "stdout",
     "output_type": "stream",
     "text": [
      "The correlation coefficient is 0.3\n"
     ]
    },
    {
     "data": {
      "image/png": "[encoded data removed]",
      "text/plain": [
       "<Figure size 432x288 with 1 Axes>"
      ]
     },
     "metadata": {
      "needs_background": "light"
     },
     "output_type": "display_data"
    }
   ],
   "source": [
    "rural_scatter = rural_summary[[\"Population\", \"Vegan Restaurants\"]]\n",
    "rural_scatter.plot(x=\"Population\", y = \"Vegan Restaurants\", kind = \"scatter\", title = \"Rural Population vs Vegan Options\")\n",
    "correlation = st.pearsonr(rural_summary[\"Population\"], rural_summary[\"Vegan Restaurants\"])\n",
    "print(f\"The correlation coefficient is {round(correlation[0],2)}\")\n",
    "plt.show()"
   ]
  },
  {
   "cell_type": "code",
   "execution_count": 551,
   "metadata": {},
   "outputs": [
    {
     "name": "stdout",
     "output_type": "stream",
     "text": [
      "The r-value is: 0.30166056212192144 & the correlation coefficient is 0.3\n"
     ]
    },
    {
     "data": {
      "image/png": "[encoded data removed]",
      "text/plain": [
       "<Figure size 432x288 with 1 Axes>"
      ]
     },
     "metadata": {
      "needs_background": "light"
     },
     "output_type": "display_data"
    }
   ],
   "source": [
    "x = rural_summary[\"Population\"]\n",
    "y = rural_summary[\"Vegan Restaurants\"]\n",
    "(slope, intercept, rvalue, pvalue, stderr) = linregress(x, y)\n",
    "regress = slope * x + intercept\n",
    "eq = f\"y = {round(slope,2)}x + {round(intercept,2)}\"\n",
    "rural_scatter.plot(x = \"Population\", y = \"Vegan Restaurants\", kind = \"scatter\", title = \"Rural Population vs Vegan Options\")\n",
    "plt.plot(x, regress, \"r-\")\n",
    "plt.annotate(eq, (20000,2.5), color =\"r\")\n",
    "print(f\"The r-value is: {rvalue} & the correlation coefficient is {round(correlation[0],2)}\")\n",
    "plt.savefig(\"../Images/ruralscatter.jpg\", dpi = 100)\n",
    "plt.show()"
   ]
  },
  {
   "cell_type": "code",
   "execution_count": null,
   "metadata": {},
   "outputs": [],
   "source": []
  }
 ],
 "metadata": {
  "kernelspec": {
   "display_name": "Python 3",
   "language": "python",
   "name": "python3"
  },
  "language_info": {
   "codemirror_mode": {
    "name": "ipython",
    "version": 3
   },
   "file_extension": ".py",
   "mimetype": "text/x-python",
   "name": "python",
   "nbconvert_exporter": "python",
   "pygments_lexer": "ipython3",
   "version": "3.8.3"
  }
 },
 "nbformat": 4,
 "nbformat_minor": 4
}
