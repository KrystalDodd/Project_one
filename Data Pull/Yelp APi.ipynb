{
 "cells": [
  {
   "cell_type": "code",
   "execution_count": 1,
   "metadata": {},
   "outputs": [],
   "source": [
    "import matplotlib.pyplot as plt\n",
    "import pandas as pd\n",
    "import numpy as np\n",
    "from scipy.stats import linregress\n",
    "#from yelp.client import Client\n",
    "import json\n",
    "from ratelimit import limits\n",
    "import requests\n",
    "import csv\n",
    "import random\n",
    "from keys import yelp_key\n",
    "\n",
    "\n",
    "df = pd.read_csv(\"../sub-est2019_all.csv\", engine='python')\n",
    "rural_city = df[(df[\"POPESTIMATE2019\"]< 50000) & (df[\"POPESTIMATE2019\"] > 1000)]\n",
    "rural_df = rural_city[[\"NAME\", \"STNAME\", \"POPESTIMATE2019\"]]\n",
    "urban_city = df[df[\"POPESTIMATE2019\"]>= 50000]\n",
    "urban_df = urban_city[[\"NAME\", \"STNAME\", \"POPESTIMATE2019\"]]\n",
    "urban_index = urban_df.loc[urban_df[\"NAME\"] == urban_df[\"STNAME\"]].index\n",
    "urban_clean = urban_df.drop(urban_index)\n",
    "random_urban_city = urban_clean[[\"NAME\", \"STNAME\",\"POPESTIMATE2019\"]].sample(n=100, random_state=1)\n",
    "random_rural_city = rural_df[[\"NAME\", \"STNAME\", \"POPESTIMATE2019\"]].sample(n=100, random_state=1)\n"
   ]
  },
  {
   "cell_type": "code",
   "execution_count": 2,
   "metadata": {},
   "outputs": [
    {
     "ename": "KeyError",
     "evalue": "'businesses'",
     "output_type": "error",
     "traceback": [
      "\u001b[1;31m---------------------------------------------------------------------------\u001b[0m",
      "\u001b[1;31mKeyError\u001b[0m                                  Traceback (most recent call last)",
      "\u001b[1;32m<ipython-input-2-37fad53353e9>\u001b[0m in \u001b[0;36m<module>\u001b[1;34m\u001b[0m\n\u001b[0;32m     22\u001b[0m              }\n\u001b[0;32m     23\u001b[0m     \u001b[0mresponse\u001b[0m \u001b[1;33m=\u001b[0m \u001b[0mrequests\u001b[0m\u001b[1;33m.\u001b[0m\u001b[0mget\u001b[0m\u001b[1;33m(\u001b[0m\u001b[0murl\u001b[0m\u001b[1;33m,\u001b[0m \u001b[0mparams\u001b[0m \u001b[1;33m=\u001b[0m \u001b[0mparams\u001b[0m\u001b[1;33m,\u001b[0m \u001b[0mheaders\u001b[0m \u001b[1;33m=\u001b[0m \u001b[0mheaders\u001b[0m\u001b[1;33m)\u001b[0m\u001b[1;33m.\u001b[0m\u001b[0mjson\u001b[0m\u001b[1;33m(\u001b[0m\u001b[1;33m)\u001b[0m\u001b[1;33m\u001b[0m\u001b[1;33m\u001b[0m\u001b[0m\n\u001b[1;32m---> 24\u001b[1;33m     \u001b[1;32mfor\u001b[0m \u001b[0mbusiness\u001b[0m \u001b[1;32min\u001b[0m \u001b[0mrange\u001b[0m\u001b[1;33m(\u001b[0m\u001b[0mlen\u001b[0m\u001b[1;33m(\u001b[0m\u001b[0mresponse\u001b[0m\u001b[1;33m[\u001b[0m\u001b[1;34m\"businesses\"\u001b[0m\u001b[1;33m]\u001b[0m\u001b[1;33m)\u001b[0m\u001b[1;33m)\u001b[0m\u001b[1;33m:\u001b[0m\u001b[1;33m\u001b[0m\u001b[1;33m\u001b[0m\u001b[0m\n\u001b[0m\u001b[0;32m     25\u001b[0m         \u001b[1;32mtry\u001b[0m\u001b[1;33m:\u001b[0m\u001b[1;33m\u001b[0m\u001b[1;33m\u001b[0m\u001b[0m\n\u001b[0;32m     26\u001b[0m             \u001b[0mrural_dict\u001b[0m\u001b[1;33m[\u001b[0m\u001b[1;34m\"Searched\"\u001b[0m\u001b[1;33m]\u001b[0m\u001b[1;33m.\u001b[0m\u001b[0mappend\u001b[0m\u001b[1;33m(\u001b[0m\u001b[0mcity\u001b[0m\u001b[1;33m)\u001b[0m\u001b[1;33m\u001b[0m\u001b[1;33m\u001b[0m\u001b[0m\n",
      "\u001b[1;31mKeyError\u001b[0m: 'businesses'"
     ]
    }
   ],
   "source": [
    "\n",
    "headers = {'Authorization': 'Bearer %s' % yelp_key}\n",
    "\n",
    "rural_dict = {\n",
    "    \"Searched\": [],\n",
    "    \"City\": [],\n",
    "    \"State\": [],\n",
    "    \"Lat\": [],\n",
    "    \"Lng\": [],\n",
    "    \"Restaurant\": [],\n",
    "    \"Category\": [],\n",
    "    \"Transactions\":[]\n",
    "}\n",
    "\n",
    "url='https://api.yelp.com/v3/businesses/search'\n",
    " \n",
    "for city in random_rural_city[\"NAME\"]:\n",
    "    params = {\n",
    "        'location': city,\n",
    "        'limit': 50,\n",
    "        'offset':1100,\n",
    "        'radius': 4000\n",
    "             }\n",
    "    response = requests.get(url, params = params, headers = headers).json()\n",
    "    for business in range(len(response[\"businesses\"])):\n",
    "        try:\n",
    "            rural_dict[\"Searched\"].append(city)\n",
    "            rural_dict[\"City\"].append(response[\"businesses\"][business][\"location\"][\"city\"])\n",
    "            rural_dict[\"State\"].append(response[\"businesses\"][business][\"location\"][\"state\"])\n",
    "            rural_dict[\"Lat\"].append(response[\"businesses\"][business][\"coordinates\"][\"latitude\"])\n",
    "            rural_dict[\"Lng\"].append(response[\"businesses\"][business][\"coordinates\"][\"longitude\"])\n",
    "            rural_dict[\"Restaurant\"].append(response[\"businesses\"][business][\"name\"])\n",
    "            rural_dict[\"Category\"].append([response[\"businesses\"][business][\"categories\"][i][\"title\"] for i in range(len(response[\"businesses\"][business][\"categories\"]))])\n",
    "            rural_dict[\"Transactions\"].append(response[\"businesses\"][business][\"transactions\"])\n",
    "        except KeyError:\n",
    "            rural_dict[\"Searched\"].append(city)\n",
    "            rural_dict[\"City\"].append(\"No City Found\")\n",
    "            rural_dict[\"State\"].append(\"No City Found\")\n",
    "            rural_dict[\"Lat\"].append(\"No City Found\")\n",
    "            rural_dict[\"Lng\"].append(\"No City Found\")\n",
    "            rural_dict[\"Restaurant\"].append(\"No City Found\")\n",
    "            rural_dict[\"Category\"].append(\"No City Found\")\n",
    "            rural_dict[\"Transactions\"].append(\"No City Found\")"
   ]
  },
  {
   "cell_type": "code",
   "execution_count": null,
   "metadata": {},
   "outputs": [],
   "source": [
    "rural = pd.DataFrame.from_dict(rural_dict, orient='index')\n",
    "rural = rural.transpose()\n",
    "rural.head()"
   ]
  },
  {
   "cell_type": "code",
   "execution_count": null,
   "metadata": {
    "scrolled": false
   },
   "outputs": [],
   "source": [
    "headers = {'Authorization': 'Bearer %s' % yelp_key}\n",
    "\n",
    "urban_dict = {\n",
    "    \"Searched\": [],\n",
    "    \"City\": [],\n",
    "    \"State\": [],\n",
    "    \"Lat\": [],\n",
    "    \"Lng\": [],\n",
    "    \"Restaurant\": [],\n",
    "    \"Category\": [],\n",
    "    \"Transactions\":[],\n",
    "    \"Total\": []\n",
    "}\n",
    "\n",
    "url='https://api.yelp.com/v3/businesses/search'\n",
    " \n",
    "for city in random_urban_city[\"NAME\"]:\n",
    "    params = {\n",
    "        'limit': 50,\n",
    "        'offset': 1100,\n",
    "        'location': city,\n",
    "        'radius': 4000\n",
    "             }\n",
    "    response = requests.get(url, params = params, headers = headers).json()\n",
    "    for business in range(len(response[\"businesses\"])):\n",
    "        try:\n",
    "            \n",
    "            urban_dict[\"Searched\"].append(city)\n",
    "            urban_dict[\"Total\"].append(response[\"total\"])\n",
    "            urban_dict[\"City\"].append(response[\"businesses\"][business][\"location\"][\"city\"])\n",
    "            urban_dict[\"State\"].append(response[\"businesses\"][business][\"location\"][\"state\"])\n",
    "            urban_dict[\"Lat\"].append(response[\"businesses\"][business][\"coordinates\"][\"latitude\"])\n",
    "            urban_dict[\"Lng\"].append(response[\"businesses\"][business][\"coordinates\"][\"longitude\"])\n",
    "            urban_dict[\"Restaurant\"].append(response[\"businesses\"][business][\"name\"])\n",
    "            urban_dict[\"Category\"].append([response[\"businesses\"][business][\"categories\"][i][\"title\"] for i in range(len(response[\"businesses\"][business][\"categories\"]))])\n",
    "            urban_dict[\"Transactions\"].append(response[\"businesses\"][business][\"transactions\"])\n",
    "        except KeyError:\n",
    "            urban_dict[\"Searched\"].append(city)\n",
    "            urban_dict[\"City\"].append(\"No City Found\")\n",
    "            urban_dict[\"State\"].append(\"No City Found\")\n",
    "            urban_dict[\"Lat\"].append(\"No City Found\")\n",
    "            urban_dict[\"Lng\"].append(\"No City Found\")\n",
    "            urban_dict[\"Restaurant\"].append(\"No City Found\")\n",
    "            urban_dict[\"Category\"].append(\"No City Found\")\n",
    "            urban_dict[\"Transactions\"].append(\"No City Found\")\n",
    "#print(urban_dict[\"Total\"])"
   ]
  },
  {
   "cell_type": "code",
   "execution_count": null,
   "metadata": {},
   "outputs": [],
   "source": []
  },
  {
   "cell_type": "code",
   "execution_count": null,
   "metadata": {
    "scrolled": false
   },
   "outputs": [],
   "source": [
    "urban = pd.DataFrame.from_dict(urban_dict, orient = \"index\")\n",
    "urban = urban.transpose()\n",
    "urban"
   ]
  },
  {
   "cell_type": "code",
   "execution_count": null,
   "metadata": {
    "scrolled": true
   },
   "outputs": [],
   "source": [
    "urban[\"Total\"].max()"
   ]
  },
  {
   "cell_type": "code",
   "execution_count": null,
   "metadata": {},
   "outputs": [],
   "source": [
    "urban.to_csv(\"../urban.csv\")\n",
    "rural.to_csv(\"../rural.csv\")"
   ]
  },
  {
   "cell_type": "code",
   "execution_count": null,
   "metadata": {
    "scrolled": true
   },
   "outputs": [],
   "source": [
    "urban_vegan = urban.loc[urban[\"Category\"] == \"Vegan\"]\n",
    "urban_vegan.head()\n",
    "rural_vegan = rural.loc[rural[\"Category\"] == \"Vegan\"]\n",
    "rural_vegan.head()"
   ]
  },
  {
   "cell_type": "code",
   "execution_count": null,
   "metadata": {
    "scrolled": false
   },
   "outputs": [],
   "source": [
    "Category.str.findall('Vegan')"
   ]
  },
  {
   "cell_type": "code",
   "execution_count": null,
   "metadata": {
    "scrolled": true
   },
   "outputs": [],
   "source": [
    "location = list(zip(random_rural_city[\"NAME\"], random_rural_city[\"STNAME\"]))\n",
    "print(location)\n",
    "                "
   ]
  },
  {
   "cell_type": "code",
   "execution_count": null,
   "metadata": {
    "scrolled": false
   },
   "outputs": [],
   "source": [
    "urban_grouped = urban.groupby(\"Category\").max()"
   ]
  },
  {
   "cell_type": "code",
   "execution_count": null,
   "metadata": {},
   "outputs": [],
   "source": []
  }
 ],
 "metadata": {
  "kernelspec": {
   "display_name": "Python 3",
   "language": "python",
   "name": "python3"
  },
  "language_info": {
   "codemirror_mode": {
    "name": "ipython",
    "version": 3
   },
   "file_extension": ".py",
   "mimetype": "text/x-python",
   "name": "python",
   "nbconvert_exporter": "python",
   "pygments_lexer": "ipython3",
   "version": "3.8.3"
  }
 },
 "nbformat": 4,
 "nbformat_minor": 4
}
