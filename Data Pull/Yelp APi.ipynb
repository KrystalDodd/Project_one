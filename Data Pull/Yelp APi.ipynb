{
 "cells": [
  {
   "cell_type": "code",
   "execution_count": 80,
   "metadata": {},
   "outputs": [],
   "source": [
    "import matplotlib.pyplot as plt\n",
    "import pandas as pd\n",
    "import numpy as np\n",
    "import scipy.stats as st\n",
    "from scipy.stats import linregress\n",
    "from yelp.client import Client\n",
    "import json\n",
    "from ratelimit import limits\n",
    "import requests\n",
    "import csv\n",
    "import random\n",
    "from keys import my_api_key, gkey\n",
    "import gmaps\n",
    "\n",
    "%matplotlib inline"
   ]
  },
  {
   "cell_type": "markdown",
   "metadata": {},
   "source": [
    "## Read in Census data"
   ]
  },
  {
   "cell_type": "code",
   "execution_count": 618,
   "metadata": {},
   "outputs": [],
   "source": [
    "# read in cleaned census data and subset the data to segment rural (population > 1000 & < 50000 + exclude primitive locations)\n",
    "# urban (population > 50000) areas. Once data was subset, took 100 random samples from both data sets\n"
   ]
  },
  {
   "cell_type": "code",
   "execution_count": 432,
   "metadata": {},
   "outputs": [],
   "source": [
    "df = pd.read_csv(\"../sub-est2019_all.csv\", engine='python')\n",
    "rural_city = df[(df[\"POPESTIMATE2019\"]< 50000) & (df[\"POPESTIMATE2019\"] > 1000) & (df[\"PRIMGEO_FLAG\"]==0)]\n",
    "rural_df = rural_city[[\"NAME\", \"STNAME\", \"POPESTIMATE2019\"]]\n",
    "urban_city = df[df[\"POPESTIMATE2019\"]>= 50000]\n",
    "urban_df = urban_city[[\"NAME\", \"STNAME\", \"POPESTIMATE2019\"]]\n",
    "urban_index = urban_df.loc[urban_df[\"NAME\"] == urban_df[\"STNAME\"]].index\n",
    "urban_clean = urban_df.drop(urban_index)\n",
    "random_urban_city = urban_clean[[\"NAME\", \"STNAME\",\"POPESTIMATE2019\"]].sample(n=100, random_state=1)\n",
    "random_rural_city = rural_df[[\"NAME\", \"STNAME\", \"POPESTIMATE2019\"]].sample(n=100, random_state=1)"
   ]
  },
  {
   "cell_type": "markdown",
   "metadata": {},
   "source": [
    "## Yelp API calls"
   ]
  },
  {
   "cell_type": "code",
   "execution_count": null,
   "metadata": {},
   "outputs": [],
   "source": [
    "# Looped through city and state names from the urban and rural dataframes to call Yelp API business search parameters.\n",
    "# Set search radius of each call to be 5 miles (standard delivery distance).\n",
    "# Used nested loop for offset parameter in order to pull multiple pages of results per search\n",
    "# For each loop, returned search term, city, state, lat, lng, rest. name, category, and transactions & assigned them to dict"
   ]
  },
  {
   "cell_type": "code",
   "execution_count": 78,
   "metadata": {},
   "outputs": [],
   "source": [
    "headers = {'Authorization': 'Bearer %s' % my_api_key}\n",
    "\n",
    "rural_dict = {\n",
    "    \"Searched\": [],\n",
    "    \"City\": [],\n",
    "    \"State\": [],\n",
    "    \"Lat\": [],\n",
    "    \"Lng\": [],\n",
    "    \"Restaurant\": [],\n",
    "    \"Category\": [],\n",
    "#     \"Category 2\": [],\n",
    "#     \"Category 3\": [],\n",
    "    \"Transactions\":[]\n",
    "}\n",
    "\n",
    "url='https://api.yelp.com/v3/businesses/search'\n",
    "offset = np.arange(0,950,50).tolist() \n",
    "\n",
    "for city, state in zip(random_rural_city[\"NAME\"], random_rural_city[\"STNAME\"]):\n",
    "    for i in range(len(offset)):\n",
    "        params = {\n",
    "            'term': 'restaurant',\n",
    "            'location': f\"{city}, {state}\",\n",
    "            'radius': 8047,\n",
    "            'limit': 50,\n",
    "            'offset': offset[i]\n",
    "                 }\n",
    "        response = requests.get(url, params = params, headers = headers).json()\n",
    "        try:\n",
    "            for business in range(len(response[\"businesses\"])):\n",
    "                try:\n",
    "                    rural_dict[\"Searched\"].append(f\"{city}, {state}\")\n",
    "                    rural_dict[\"City\"].append(response[\"businesses\"][business][\"location\"][\"city\"])\n",
    "                    rural_dict[\"State\"].append(response[\"businesses\"][business][\"location\"][\"state\"])\n",
    "                    rural_dict[\"Lat\"].append(response[\"businesses\"][business][\"coordinates\"][\"latitude\"])\n",
    "                    rural_dict[\"Lng\"].append(response[\"businesses\"][business][\"coordinates\"][\"longitude\"])\n",
    "                    rural_dict[\"Restaurant\"].append(response[\"businesses\"][business][\"name\"])\n",
    "                    rural_dict[\"Category\"].append([response[\"businesses\"][business][\"categories\"][i][\"title\"] for i in range(len(response[\"businesses\"][business][\"categories\"]))])\n",
    "#                     rural_dict[\"Category\"].append(response[\"businesses\"][business][\"categories\"][0][\"title\"])\n",
    "#                     rural_dict[\"Category 2\"].append(response[\"businesses\"][business][\"categories\"][1][\"title\"])\n",
    "#                     rural_dict[\"Category 3\"].append(response[\"businesses\"][business][\"categories\"][2][\"title\"])\n",
    "                    rural_dict[\"Transactions\"].append(response[\"businesses\"][business][\"transactions\"])\n",
    "                except KeyError:\n",
    "                    rural_dict[\"Searched\"].append(\"No City Found\")\n",
    "                    rural_dict[\"City\"].append(\"No City Found\")\n",
    "                    rural_dict[\"State\"].append(\"No State Found\")\n",
    "                    rural_dict[\"Lat\"].append(\"No Lat Found\")\n",
    "                    rural_dict[\"Lng\"].append(\"No Lng Found\")\n",
    "                    rural_dict[\"Restaurant\"].append(\"No Restaurant Found\")\n",
    "                    rural_dict[\"Category\"].append(\"No Categories\")\n",
    "                    rural_dict[\"Transactions\"].append(\"No Transactions Found\")\n",
    "#                 except IndexError:\n",
    "#                     rural_dict[\"Category 2\"].append(\"\")\n",
    "#                     rural_dict[\"Category 3\"].append(\"\")\n",
    "        except KeyError:\n",
    "                pass"
   ]
  },
  {
   "cell_type": "code",
   "execution_count": 79,
   "metadata": {},
   "outputs": [
    {
     "data": {
      "text/html": [
       "<div>\n",
       "<style scoped>\n",
       "    .dataframe tbody tr th:only-of-type {\n",
       "        vertical-align: middle;\n",
       "    }\n",
       "\n",
       "    .dataframe tbody tr th {\n",
       "        vertical-align: top;\n",
       "    }\n",
       "\n",
       "    .dataframe thead th {\n",
       "        text-align: right;\n",
       "    }\n",
       "</style>\n",
       "<table border=\"1\" class=\"dataframe\">\n",
       "  <thead>\n",
       "    <tr style=\"text-align: right;\">\n",
       "      <th></th>\n",
       "      <th>Searched</th>\n",
       "      <th>City</th>\n",
       "      <th>State</th>\n",
       "      <th>Lat</th>\n",
       "      <th>Lng</th>\n",
       "      <th>Restaurant</th>\n",
       "      <th>Category</th>\n",
       "      <th>Transactions</th>\n",
       "    </tr>\n",
       "  </thead>\n",
       "  <tbody>\n",
       "    <tr>\n",
       "      <th>0</th>\n",
       "      <td>Parker, Arizona</td>\n",
       "      <td>Parker</td>\n",
       "      <td>AZ</td>\n",
       "      <td>34.1508</td>\n",
       "      <td>-114.291</td>\n",
       "      <td>Tierra Caliente</td>\n",
       "      <td>[Mexican]</td>\n",
       "      <td>[]</td>\n",
       "    </tr>\n",
       "    <tr>\n",
       "      <th>1</th>\n",
       "      <td>Parker, Arizona</td>\n",
       "      <td>Parker</td>\n",
       "      <td>AZ</td>\n",
       "      <td>34.2319</td>\n",
       "      <td>-114.188</td>\n",
       "      <td>Roadrunner Floating Dock Bar</td>\n",
       "      <td>[Bars, Seafood, American (Traditional)]</td>\n",
       "      <td>[]</td>\n",
       "    </tr>\n",
       "    <tr>\n",
       "      <th>2</th>\n",
       "      <td>Parker, Arizona</td>\n",
       "      <td>Parker</td>\n",
       "      <td>AZ</td>\n",
       "      <td>34.1843</td>\n",
       "      <td>-114.226</td>\n",
       "      <td>Mi Tierra</td>\n",
       "      <td>[Mexican]</td>\n",
       "      <td>[]</td>\n",
       "    </tr>\n",
       "    <tr>\n",
       "      <th>3</th>\n",
       "      <td>Parker, Arizona</td>\n",
       "      <td>Parker</td>\n",
       "      <td>AZ</td>\n",
       "      <td>34.2166</td>\n",
       "      <td>-114.202</td>\n",
       "      <td>Stroke's Bar &amp; Grill</td>\n",
       "      <td>[Bars, American (Traditional), Steakhouses]</td>\n",
       "      <td>[]</td>\n",
       "    </tr>\n",
       "    <tr>\n",
       "      <th>4</th>\n",
       "      <td>Parker, Arizona</td>\n",
       "      <td>Parker</td>\n",
       "      <td>AZ</td>\n",
       "      <td>34.2245</td>\n",
       "      <td>-114.192</td>\n",
       "      <td>Pirate's Den Bar &amp; Grill</td>\n",
       "      <td>[American (Traditional), Bars, Steakhouses]</td>\n",
       "      <td>[]</td>\n",
       "    </tr>\n",
       "  </tbody>\n",
       "</table>\n",
       "</div>"
      ],
      "text/plain": [
       "          Searched    City State      Lat      Lng  \\\n",
       "0  Parker, Arizona  Parker    AZ  34.1508 -114.291   \n",
       "1  Parker, Arizona  Parker    AZ  34.2319 -114.188   \n",
       "2  Parker, Arizona  Parker    AZ  34.1843 -114.226   \n",
       "3  Parker, Arizona  Parker    AZ  34.2166 -114.202   \n",
       "4  Parker, Arizona  Parker    AZ  34.2245 -114.192   \n",
       "\n",
       "                     Restaurant                                     Category  \\\n",
       "0               Tierra Caliente                                    [Mexican]   \n",
       "1  Roadrunner Floating Dock Bar      [Bars, Seafood, American (Traditional)]   \n",
       "2                     Mi Tierra                                    [Mexican]   \n",
       "3          Stroke's Bar & Grill  [Bars, American (Traditional), Steakhouses]   \n",
       "4      Pirate's Den Bar & Grill  [American (Traditional), Bars, Steakhouses]   \n",
       "\n",
       "  Transactions  \n",
       "0           []  \n",
       "1           []  \n",
       "2           []  \n",
       "3           []  \n",
       "4           []  "
      ]
     },
     "execution_count": 79,
     "metadata": {},
     "output_type": "execute_result"
    }
   ],
   "source": [
    "#convert dict to dataframe\n",
    "rural = pd.DataFrame.from_dict(rural_dict, orient='index')\n",
    "rural = rural.transpose()\n",
    "rural.head()"
   ]
  },
  {
   "cell_type": "code",
   "execution_count": 74,
   "metadata": {},
   "outputs": [],
   "source": [
    "#urban API call loop\n",
    "headers = {'Authorization': 'Bearer %s' % my_api_key}\n",
    "\n",
    "urban_dict = {\n",
    "    \"Searched\": [],\n",
    "    \"City\": [],\n",
    "    \"State\": [],\n",
    "    \"Lat\": [],\n",
    "    \"Lng\": [],\n",
    "    \"Restaurant\": [],\n",
    "    \"Category\": [],\n",
    "#     \"Category 2\": [],\n",
    "#     \"Category 3\": [],\n",
    "    \"Transactions\":[]\n",
    "}\n",
    "\n",
    "url='https://api.yelp.com/v3/businesses/search'\n",
    "offset = np.arange(0,950,50).tolist() \n",
    "\n",
    "for city, state in zip(random_urban_city[\"NAME\"], random_urban_city[\"STNAME\"]):\n",
    "    for i in range(len(offset)):\n",
    "        params = {\n",
    "            'term': 'restaurant',\n",
    "            'location': f\"{city}, {state}\",\n",
    "            'radius': 8047,\n",
    "            'limit': 50,\n",
    "            'offset': offset[i]\n",
    "                 }\n",
    "        response = requests.get(url, params = params, headers = headers).json()\n",
    "        try:\n",
    "            for business in range(len(response[\"businesses\"])):\n",
    "                try:\n",
    "                    urban_dict[\"Searched\"].append(f\"{city}, {state}\")\n",
    "                    urban_dict[\"City\"].append(response[\"businesses\"][business][\"location\"][\"city\"])\n",
    "                    urban_dict[\"State\"].append(response[\"businesses\"][business][\"location\"][\"state\"])\n",
    "                    urban_dict[\"Lat\"].append(response[\"businesses\"][business][\"coordinates\"][\"latitude\"])\n",
    "                    urban_dict[\"Lng\"].append(response[\"businesses\"][business][\"coordinates\"][\"longitude\"])\n",
    "                    urban_dict[\"Restaurant\"].append(response[\"businesses\"][business][\"name\"])\n",
    "                    urban_dict[\"Category\"].append([response[\"businesses\"][business][\"categories\"][i][\"title\"] for i in range(len(response[\"businesses\"][business][\"categories\"]))])\n",
    "#                     rural_dict[\"Category\"].append(response[\"businesses\"][business][\"categories\"][0][\"title\"])\n",
    "#                     rural_dict[\"Category 2\"].append(response[\"businesses\"][business][\"categories\"][1][\"title\"])\n",
    "#                     rural_dict[\"Category 3\"].append(response[\"businesses\"][business][\"categories\"][2][\"title\"])\n",
    "                    urban_dict[\"Transactions\"].append(response[\"businesses\"][business][\"transactions\"])\n",
    "                except KeyError:\n",
    "                    urban_dict[\"Searched\"].append(\"No City Found\")\n",
    "                    urban_dict[\"City\"].append(\"No City Found\")\n",
    "                    urban_dict[\"State\"].append(\"No State Found\")\n",
    "                    urban_dict[\"Lat\"].append(\"No Lat Found\")\n",
    "                    urban_dict[\"Lng\"].append(\"No Lng Found\")\n",
    "                    urban_dict[\"Restaurant\"].append(\"No Restaurant Found\")\n",
    "                    urban_dict[\"Category\"].append(\"No Categories\")\n",
    "                    urban_dict[\"Transactions\"].append(\"No Transactions Found\")\n",
    "#                 except IndexError:\n",
    "#                     rural_dict[\"Category 2\"].append(\"\")\n",
    "#                     rural_dict[\"Category 3\"].append(\"\")\n",
    "        except KeyError:\n",
    "                pass"
   ]
  },
  {
   "cell_type": "code",
   "execution_count": 75,
   "metadata": {},
   "outputs": [
    {
     "data": {
      "text/html": [
       "<div>\n",
       "<style scoped>\n",
       "    .dataframe tbody tr th:only-of-type {\n",
       "        vertical-align: middle;\n",
       "    }\n",
       "\n",
       "    .dataframe tbody tr th {\n",
       "        vertical-align: top;\n",
       "    }\n",
       "\n",
       "    .dataframe thead th {\n",
       "        text-align: right;\n",
       "    }\n",
       "</style>\n",
       "<table border=\"1\" class=\"dataframe\">\n",
       "  <thead>\n",
       "    <tr style=\"text-align: right;\">\n",
       "      <th></th>\n",
       "      <th>Searched</th>\n",
       "      <th>City</th>\n",
       "      <th>State</th>\n",
       "      <th>Lat</th>\n",
       "      <th>Lng</th>\n",
       "      <th>Restaurant</th>\n",
       "      <th>Category</th>\n",
       "      <th>Transactions</th>\n",
       "    </tr>\n",
       "  </thead>\n",
       "  <tbody>\n",
       "    <tr>\n",
       "      <th>0</th>\n",
       "      <td>Montgomery, Alabama</td>\n",
       "      <td>Montgomery</td>\n",
       "      <td>AL</td>\n",
       "      <td>32.357</td>\n",
       "      <td>-86.2649</td>\n",
       "      <td>Cork &amp; Cleaver</td>\n",
       "      <td>[Gastropubs]</td>\n",
       "      <td>[pickup, delivery]</td>\n",
       "    </tr>\n",
       "    <tr>\n",
       "      <th>1</th>\n",
       "      <td>Montgomery, Alabama</td>\n",
       "      <td>Montgomery</td>\n",
       "      <td>AL</td>\n",
       "      <td>32.3802</td>\n",
       "      <td>-86.3106</td>\n",
       "      <td>Central</td>\n",
       "      <td>[Bars, American (Traditional), Venues &amp; Event ...</td>\n",
       "      <td>[delivery]</td>\n",
       "    </tr>\n",
       "    <tr>\n",
       "      <th>2</th>\n",
       "      <td>Montgomery, Alabama</td>\n",
       "      <td>Montgomery</td>\n",
       "      <td>AL</td>\n",
       "      <td>32.3797</td>\n",
       "      <td>-86.3108</td>\n",
       "      <td>Sa Za</td>\n",
       "      <td>[Italian]</td>\n",
       "      <td>[restaurant_reservation, delivery]</td>\n",
       "    </tr>\n",
       "    <tr>\n",
       "      <th>3</th>\n",
       "      <td>Montgomery, Alabama</td>\n",
       "      <td>Montgomery</td>\n",
       "      <td>AL</td>\n",
       "      <td>32.3489</td>\n",
       "      <td>-86.22</td>\n",
       "      <td>Baumhower's Victory Grille</td>\n",
       "      <td>[Chicken Wings, American (Traditional), Sports...</td>\n",
       "      <td>[delivery]</td>\n",
       "    </tr>\n",
       "    <tr>\n",
       "      <th>4</th>\n",
       "      <td>Montgomery, Alabama</td>\n",
       "      <td>Montgomery</td>\n",
       "      <td>AL</td>\n",
       "      <td>32.3543</td>\n",
       "      <td>-86.2161</td>\n",
       "      <td>So Gong Dong Tofu &amp; BBQ</td>\n",
       "      <td>[Korean]</td>\n",
       "      <td>[delivery]</td>\n",
       "    </tr>\n",
       "  </tbody>\n",
       "</table>\n",
       "</div>"
      ],
      "text/plain": [
       "              Searched        City State      Lat      Lng  \\\n",
       "0  Montgomery, Alabama  Montgomery    AL   32.357 -86.2649   \n",
       "1  Montgomery, Alabama  Montgomery    AL  32.3802 -86.3106   \n",
       "2  Montgomery, Alabama  Montgomery    AL  32.3797 -86.3108   \n",
       "3  Montgomery, Alabama  Montgomery    AL  32.3489   -86.22   \n",
       "4  Montgomery, Alabama  Montgomery    AL  32.3543 -86.2161   \n",
       "\n",
       "                   Restaurant  \\\n",
       "0              Cork & Cleaver   \n",
       "1                     Central   \n",
       "2                       Sa Za   \n",
       "3  Baumhower's Victory Grille   \n",
       "4     So Gong Dong Tofu & BBQ   \n",
       "\n",
       "                                            Category  \\\n",
       "0                                       [Gastropubs]   \n",
       "1  [Bars, American (Traditional), Venues & Event ...   \n",
       "2                                          [Italian]   \n",
       "3  [Chicken Wings, American (Traditional), Sports...   \n",
       "4                                           [Korean]   \n",
       "\n",
       "                         Transactions  \n",
       "0                  [pickup, delivery]  \n",
       "1                          [delivery]  \n",
       "2  [restaurant_reservation, delivery]  \n",
       "3                          [delivery]  \n",
       "4                          [delivery]  "
      ]
     },
     "execution_count": 75,
     "metadata": {},
     "output_type": "execute_result"
    }
   ],
   "source": [
    "#convert dict to dataframe\n",
    "urban = pd.DataFrame.from_dict(urban_dict, orient='index')\n",
    "urban = urban.transpose()\n",
    "urban.head()"
   ]
  },
  {
   "cell_type": "code",
   "execution_count": 81,
   "metadata": {},
   "outputs": [],
   "source": [
    "#export dataframes to csv files\n",
    "urban.to_csv(\"../urban.csv\")\n",
    "rural.to_csv(\"../rural.csv\")"
   ]
  },
  {
   "cell_type": "markdown",
   "metadata": {},
   "source": [
    "## Subset and Transform API data"
   ]
  },
  {
   "cell_type": "code",
   "execution_count": 83,
   "metadata": {},
   "outputs": [],
   "source": [
    "#transform \"Category\" row list contents to individual columns and drop empty cells\n",
    "rural_cat= pd.DataFrame(rural[\"Category\"].to_list(), columns = [\"Category 1\", \"Category 2\", \"Category 3\"], index = rural.index)\n",
    "rural_cats = rural_cat[[\"Category 1\", \"Category 2\", \"Category 3\"]]\n",
    "rural_clean = rural.merge(rural_cats, left_index = True,right_index = True)"
   ]
  },
  {
   "cell_type": "code",
   "execution_count": 84,
   "metadata": {},
   "outputs": [],
   "source": [
    "#transform \"Category\" row list contents to individual columns and drop empty cells\n",
    "urban_cat= pd.DataFrame(urban[\"Category\"].to_list(), columns = [\"Category 1\", \"Category 2\", \"Category 3\", \"Category 4\"], index = urban.index)\n",
    "urban_cats = urban_cat[[\"Category 1\", \"Category 2\", \"Category 3\"]]\n",
    "urban_clean = urban.merge(urban_cats, left_index = True,right_index = True)\n"
   ]
  },
  {
   "cell_type": "code",
   "execution_count": 87,
   "metadata": {},
   "outputs": [
    {
     "data": {
      "text/html": [
       "<div>\n",
       "<style scoped>\n",
       "    .dataframe tbody tr th:only-of-type {\n",
       "        vertical-align: middle;\n",
       "    }\n",
       "\n",
       "    .dataframe tbody tr th {\n",
       "        vertical-align: top;\n",
       "    }\n",
       "\n",
       "    .dataframe thead th {\n",
       "        text-align: right;\n",
       "    }\n",
       "</style>\n",
       "<table border=\"1\" class=\"dataframe\">\n",
       "  <thead>\n",
       "    <tr style=\"text-align: right;\">\n",
       "      <th></th>\n",
       "      <th>Searched</th>\n",
       "      <th>City</th>\n",
       "      <th>State</th>\n",
       "      <th>Lat</th>\n",
       "      <th>Lng</th>\n",
       "      <th>Restaurant</th>\n",
       "      <th>Category</th>\n",
       "      <th>Transactions</th>\n",
       "      <th>Category 1</th>\n",
       "      <th>Category 2</th>\n",
       "      <th>Category 3</th>\n",
       "    </tr>\n",
       "  </thead>\n",
       "  <tbody>\n",
       "    <tr>\n",
       "      <th>0</th>\n",
       "      <td>Montgomery, Alabama</td>\n",
       "      <td>Montgomery</td>\n",
       "      <td>AL</td>\n",
       "      <td>32.357</td>\n",
       "      <td>-86.2649</td>\n",
       "      <td>Cork &amp; Cleaver</td>\n",
       "      <td>[Gastropubs]</td>\n",
       "      <td>[pickup, delivery]</td>\n",
       "      <td>Gastropubs</td>\n",
       "      <td>None</td>\n",
       "      <td>None</td>\n",
       "    </tr>\n",
       "    <tr>\n",
       "      <th>1</th>\n",
       "      <td>Montgomery, Alabama</td>\n",
       "      <td>Montgomery</td>\n",
       "      <td>AL</td>\n",
       "      <td>32.3802</td>\n",
       "      <td>-86.3106</td>\n",
       "      <td>Central</td>\n",
       "      <td>[Bars, American (Traditional), Venues &amp; Event ...</td>\n",
       "      <td>[delivery]</td>\n",
       "      <td>Bars</td>\n",
       "      <td>American (Traditional)</td>\n",
       "      <td>Venues &amp; Event Spaces</td>\n",
       "    </tr>\n",
       "    <tr>\n",
       "      <th>2</th>\n",
       "      <td>Montgomery, Alabama</td>\n",
       "      <td>Montgomery</td>\n",
       "      <td>AL</td>\n",
       "      <td>32.3797</td>\n",
       "      <td>-86.3108</td>\n",
       "      <td>Sa Za</td>\n",
       "      <td>[Italian]</td>\n",
       "      <td>[restaurant_reservation, delivery]</td>\n",
       "      <td>Italian</td>\n",
       "      <td>None</td>\n",
       "      <td>None</td>\n",
       "    </tr>\n",
       "    <tr>\n",
       "      <th>3</th>\n",
       "      <td>Montgomery, Alabama</td>\n",
       "      <td>Montgomery</td>\n",
       "      <td>AL</td>\n",
       "      <td>32.3489</td>\n",
       "      <td>-86.22</td>\n",
       "      <td>Baumhower's Victory Grille</td>\n",
       "      <td>[Chicken Wings, American (Traditional), Sports...</td>\n",
       "      <td>[delivery]</td>\n",
       "      <td>Chicken Wings</td>\n",
       "      <td>American (Traditional)</td>\n",
       "      <td>Sports Bars</td>\n",
       "    </tr>\n",
       "    <tr>\n",
       "      <th>4</th>\n",
       "      <td>Montgomery, Alabama</td>\n",
       "      <td>Montgomery</td>\n",
       "      <td>AL</td>\n",
       "      <td>32.3543</td>\n",
       "      <td>-86.2161</td>\n",
       "      <td>So Gong Dong Tofu &amp; BBQ</td>\n",
       "      <td>[Korean]</td>\n",
       "      <td>[delivery]</td>\n",
       "      <td>Korean</td>\n",
       "      <td>None</td>\n",
       "      <td>None</td>\n",
       "    </tr>\n",
       "  </tbody>\n",
       "</table>\n",
       "</div>"
      ],
      "text/plain": [
       "              Searched        City State      Lat      Lng  \\\n",
       "0  Montgomery, Alabama  Montgomery    AL   32.357 -86.2649   \n",
       "1  Montgomery, Alabama  Montgomery    AL  32.3802 -86.3106   \n",
       "2  Montgomery, Alabama  Montgomery    AL  32.3797 -86.3108   \n",
       "3  Montgomery, Alabama  Montgomery    AL  32.3489   -86.22   \n",
       "4  Montgomery, Alabama  Montgomery    AL  32.3543 -86.2161   \n",
       "\n",
       "                   Restaurant  \\\n",
       "0              Cork & Cleaver   \n",
       "1                     Central   \n",
       "2                       Sa Za   \n",
       "3  Baumhower's Victory Grille   \n",
       "4     So Gong Dong Tofu & BBQ   \n",
       "\n",
       "                                            Category  \\\n",
       "0                                       [Gastropubs]   \n",
       "1  [Bars, American (Traditional), Venues & Event ...   \n",
       "2                                          [Italian]   \n",
       "3  [Chicken Wings, American (Traditional), Sports...   \n",
       "4                                           [Korean]   \n",
       "\n",
       "                         Transactions     Category 1              Category 2  \\\n",
       "0                  [pickup, delivery]     Gastropubs                    None   \n",
       "1                          [delivery]           Bars  American (Traditional)   \n",
       "2  [restaurant_reservation, delivery]        Italian                    None   \n",
       "3                          [delivery]  Chicken Wings  American (Traditional)   \n",
       "4                          [delivery]         Korean                    None   \n",
       "\n",
       "              Category 3  \n",
       "0                   None  \n",
       "1  Venues & Event Spaces  \n",
       "2                   None  \n",
       "3            Sports Bars  \n",
       "4                   None  "
      ]
     },
     "execution_count": 87,
     "metadata": {},
     "output_type": "execute_result"
    }
   ],
   "source": [
    "urban_clean.head()"
   ]
  },
  {
   "cell_type": "code",
   "execution_count": 88,
   "metadata": {},
   "outputs": [],
   "source": [
    "#subset urban and rural dataframes to only vegan restaurants\n",
    "keywords = [\"Vegan\", \"vegan\"]\n",
    "rural_vegan = rural_clean[(rural_clean[\"Category 1\"].isin(keywords))|(rural_clean[\"Category 2\"].isin(keywords))|(rural_clean[\"Category 3\"].isin(keywords))]\n",
    "urban_vegan = urban_clean[(urban_clean[\"Category 1\"].isin(keywords))|(urban_clean[\"Category 2\"].isin(keywords))|(urban_clean[\"Category 3\"].isin(keywords))]"
   ]
  },
  {
   "cell_type": "code",
   "execution_count": 89,
   "metadata": {},
   "outputs": [],
   "source": [
    "#append new column to dataframe that identifies (true = 1, false = 0) if category cells within row contain keywords\n",
    "rural_clean[\"Vegan Options\"] = np.where(rural_clean[\"Category 1\"].isin(keywords)|rural_clean[\"Category 2\"].isin(keywords)|rural_clean[\"Category 3\"].isin(keywords), 1, 0)\n",
    "urban_clean[\"Vegan Options\"] = np.where(urban_clean[\"Category 1\"].isin(keywords)|urban_clean[\"Category 2\"].isin(keywords)|urban_clean[\"Category 3\"].isin(keywords), 1, 0)\n"
   ]
  },
  {
   "cell_type": "code",
   "execution_count": 90,
   "metadata": {},
   "outputs": [],
   "source": [
    "#export dataframe to csv\n",
    "rural_clean.to_csv(\"../Data Pull/rural_clean.csv\")\n",
    "urban_clean.to_csv(\"../Data Pull/urban_clean.csv\")"
   ]
  },
  {
   "cell_type": "markdown",
   "metadata": {},
   "source": [
    "## Merge Census 2019 population data with urban and rural yelp dataframes"
   ]
  },
  {
   "cell_type": "code",
   "execution_count": 91,
   "metadata": {},
   "outputs": [],
   "source": [
    "#add \"Searched\" column to census dataframe to have common column on which to join both dataframes\n",
    "df[\"Searched\"] = df[\"NAME\"] + \", \" + df[\"STNAME\"]"
   ]
  },
  {
   "cell_type": "code",
   "execution_count": 106,
   "metadata": {},
   "outputs": [],
   "source": [
    "rural_clean_pop = pd.merge(rural_clean, df[[\"POPESTIMATE2019\", \"Searched\"]],  how='left', on= \"Searched\")\n",
    "urban_clean_pop = pd.merge(urban_clean, df[[\"POPESTIMATE2019\", \"Searched\"]],  how='left', on= \"Searched\")\n",
    "urban_clean_pop.drop_duplicates(subset = ['Searched', 'Restaurant'], keep = 'first')\n",
    "rural_clean_pop.drop_duplicates(subset = ['Searched', 'Restaurant'], keep = 'first')\n",
    "urban_clean_pop.to_csv(\"../Data Pull/urban_clean_pop.csv\")\n",
    "rural_clean_pop.to_csv(\"../Data Pull/rural_clean_pop.csv\")"
   ]
  },
  {
   "cell_type": "code",
   "execution_count": 122,
   "metadata": {},
   "outputs": [
    {
     "data": {
      "text/html": [
       "<div>\n",
       "<style scoped>\n",
       "    .dataframe tbody tr th:only-of-type {\n",
       "        vertical-align: middle;\n",
       "    }\n",
       "\n",
       "    .dataframe tbody tr th {\n",
       "        vertical-align: top;\n",
       "    }\n",
       "\n",
       "    .dataframe thead th {\n",
       "        text-align: right;\n",
       "    }\n",
       "</style>\n",
       "<table border=\"1\" class=\"dataframe\">\n",
       "  <thead>\n",
       "    <tr style=\"text-align: right;\">\n",
       "      <th></th>\n",
       "      <th>Searched</th>\n",
       "      <th>Population</th>\n",
       "      <th>Total Restaurants</th>\n",
       "      <th>Vegan Restaurants</th>\n",
       "      <th>% Vegan Restaurants</th>\n",
       "      <th>Vegan Restaurants per capita</th>\n",
       "    </tr>\n",
       "  </thead>\n",
       "  <tbody>\n",
       "    <tr>\n",
       "      <th>0</th>\n",
       "      <td>Americus, Georgia</td>\n",
       "      <td>15108</td>\n",
       "      <td>49</td>\n",
       "      <td>0</td>\n",
       "      <td>0.000000</td>\n",
       "      <td>0.000000</td>\n",
       "    </tr>\n",
       "    <tr>\n",
       "      <th>1</th>\n",
       "      <td>Anchorage, Kentucky</td>\n",
       "      <td>2423</td>\n",
       "      <td>386</td>\n",
       "      <td>1</td>\n",
       "      <td>0.259067</td>\n",
       "      <td>0.000413</td>\n",
       "    </tr>\n",
       "    <tr>\n",
       "      <th>2</th>\n",
       "      <td>Anderson, California</td>\n",
       "      <td>10630</td>\n",
       "      <td>48</td>\n",
       "      <td>0</td>\n",
       "      <td>0.000000</td>\n",
       "      <td>0.000000</td>\n",
       "    </tr>\n",
       "    <tr>\n",
       "      <th>3</th>\n",
       "      <td>Ansonia, Ohio</td>\n",
       "      <td>1121</td>\n",
       "      <td>2</td>\n",
       "      <td>0</td>\n",
       "      <td>0.000000</td>\n",
       "      <td>0.000000</td>\n",
       "    </tr>\n",
       "    <tr>\n",
       "      <th>4</th>\n",
       "      <td>Anthony, New Mexico</td>\n",
       "      <td>9239</td>\n",
       "      <td>31</td>\n",
       "      <td>0</td>\n",
       "      <td>0.000000</td>\n",
       "      <td>0.000000</td>\n",
       "    </tr>\n",
       "  </tbody>\n",
       "</table>\n",
       "</div>"
      ],
      "text/plain": [
       "               Searched  Population  Total Restaurants  Vegan Restaurants  \\\n",
       "0     Americus, Georgia       15108                 49                  0   \n",
       "1   Anchorage, Kentucky        2423                386                  1   \n",
       "2  Anderson, California       10630                 48                  0   \n",
       "3         Ansonia, Ohio        1121                  2                  0   \n",
       "4   Anthony, New Mexico        9239                 31                  0   \n",
       "\n",
       "   % Vegan Restaurants  Vegan Restaurants per capita  \n",
       "0             0.000000                      0.000000  \n",
       "1             0.259067                      0.000413  \n",
       "2             0.000000                      0.000000  \n",
       "3             0.000000                      0.000000  \n",
       "4             0.000000                      0.000000  "
      ]
     },
     "execution_count": 122,
     "metadata": {},
     "output_type": "execute_result"
    }
   ],
   "source": [
    "#group by location searched\n",
    "rural_group = rural_clean_pop.groupby(\"Searched\")\n",
    "\n",
    "#create variables based on data from grouped df\n",
    "rural_rest_count = rural_group[\"Restaurant\"].count()\n",
    "rural_vegan_count = rural_group[\"Vegan Options\"].sum()\n",
    "rural_pop = rural_group[\"POPESTIMATE2019\"].max()\n",
    "vegan_pct = rural_vegan_count/rural_rest_count * 100\n",
    "vegan_percap = rural_vegan_count/rural_pop\n",
    "\n",
    "#create dataframe from dict of lists\n",
    "rural_summary = pd.DataFrame({\n",
    "    \"Population\" : rural_pop,\n",
    "    \"Total Restaurants\" : rural_rest_count,\n",
    "    \"Vegan Restaurants\" : rural_vegan_count,\n",
    "    \"% Vegan Restaurants\" : vegan_pct,\n",
    "    \"Vegan Restaurants per capita\" : vegan_percap\n",
    "})\n",
    "\n",
    "#reset index and export to csv\n",
    "rural_summary = rural_summary.reset_index()\n",
    "rural_summary.to_csv(\"../Data Pull/rural_summary.csv\")\n",
    "rural_summary.head()"
   ]
  },
  {
   "cell_type": "code",
   "execution_count": 108,
   "metadata": {},
   "outputs": [
    {
     "data": {
      "text/html": [
       "<div>\n",
       "<style scoped>\n",
       "    .dataframe tbody tr th:only-of-type {\n",
       "        vertical-align: middle;\n",
       "    }\n",
       "\n",
       "    .dataframe tbody tr th {\n",
       "        vertical-align: top;\n",
       "    }\n",
       "\n",
       "    .dataframe thead th {\n",
       "        text-align: right;\n",
       "    }\n",
       "</style>\n",
       "<table border=\"1\" class=\"dataframe\">\n",
       "  <thead>\n",
       "    <tr style=\"text-align: right;\">\n",
       "      <th></th>\n",
       "      <th>Searched</th>\n",
       "      <th>Population</th>\n",
       "      <th>Total Restaurants</th>\n",
       "      <th>Vegan Restaurants</th>\n",
       "      <th>% Vegan Restaurants</th>\n",
       "      <th>Vegan Restaurants per capita</th>\n",
       "    </tr>\n",
       "  </thead>\n",
       "  <tbody>\n",
       "    <tr>\n",
       "      <th>0</th>\n",
       "      <td>Asheville, North Carolina</td>\n",
       "      <td>92870</td>\n",
       "      <td>440</td>\n",
       "      <td>5</td>\n",
       "      <td>1.136364</td>\n",
       "      <td>0.000054</td>\n",
       "    </tr>\n",
       "    <tr>\n",
       "      <th>1</th>\n",
       "      <td>Auburn, Washington</td>\n",
       "      <td>81464</td>\n",
       "      <td>302</td>\n",
       "      <td>0</td>\n",
       "      <td>0.000000</td>\n",
       "      <td>0.000000</td>\n",
       "    </tr>\n",
       "    <tr>\n",
       "      <th>2</th>\n",
       "      <td>Aurora, Illinois</td>\n",
       "      <td>197757</td>\n",
       "      <td>294</td>\n",
       "      <td>0</td>\n",
       "      <td>0.000000</td>\n",
       "      <td>0.000000</td>\n",
       "    </tr>\n",
       "    <tr>\n",
       "      <th>3</th>\n",
       "      <td>Austin, Texas</td>\n",
       "      <td>978908</td>\n",
       "      <td>950</td>\n",
       "      <td>26</td>\n",
       "      <td>2.736842</td>\n",
       "      <td>0.000027</td>\n",
       "    </tr>\n",
       "    <tr>\n",
       "      <th>4</th>\n",
       "      <td>Baldwin Park, California</td>\n",
       "      <td>75251</td>\n",
       "      <td>950</td>\n",
       "      <td>5</td>\n",
       "      <td>0.526316</td>\n",
       "      <td>0.000066</td>\n",
       "    </tr>\n",
       "  </tbody>\n",
       "</table>\n",
       "</div>"
      ],
      "text/plain": [
       "                    Searched  Population  Total Restaurants  \\\n",
       "0  Asheville, North Carolina       92870                440   \n",
       "1         Auburn, Washington       81464                302   \n",
       "2           Aurora, Illinois      197757                294   \n",
       "3              Austin, Texas      978908                950   \n",
       "4   Baldwin Park, California       75251                950   \n",
       "\n",
       "   Vegan Restaurants  % Vegan Restaurants  Vegan Restaurants per capita  \n",
       "0                  5             1.136364                      0.000054  \n",
       "1                  0             0.000000                      0.000000  \n",
       "2                  0             0.000000                      0.000000  \n",
       "3                 26             2.736842                      0.000027  \n",
       "4                  5             0.526316                      0.000066  "
      ]
     },
     "execution_count": 108,
     "metadata": {},
     "output_type": "execute_result"
    }
   ],
   "source": [
    "#group by location searched\n",
    "urban_group = urban_clean_pop.groupby(\"Searched\")\n",
    "\n",
    "#create variables based on data from grouped df\n",
    "urban_rest_count = urban_group[\"Restaurant\"].count()\n",
    "urban_vegan_count = urban_group[\"Vegan Options\"].sum()\n",
    "urban_pop = urban_group[\"POPESTIMATE2019\"].max()\n",
    "vegan_pct = urban_vegan_count/urban_rest_count * 100\n",
    "vegan_percap = urban_vegan_count/urban_pop\n",
    "\n",
    "#create dataframe from dict of lists\n",
    "urban_summary = pd.DataFrame({\n",
    "    \"Population\" : urban_pop,\n",
    "    \"Total Restaurants\" : urban_rest_count,\n",
    "    \"Vegan Restaurants\" : urban_vegan_count,\n",
    "    \"% Vegan Restaurants\" : vegan_pct,\n",
    "    \"Vegan Restaurants per capita\" : vegan_percap\n",
    "})\n",
    "\n",
    "#reset index and export to csv\n",
    "urban_summary.to_csv(\"../Data Pull/urban_summary.csv\")\n",
    "urban_summary = urban_summary.reset_index()\n",
    "urban_summary.head()\n"
   ]
  },
  {
   "cell_type": "code",
   "execution_count": 114,
   "metadata": {},
   "outputs": [
    {
     "data": {
      "text/html": [
       "<div>\n",
       "<style scoped>\n",
       "    .dataframe tbody tr th:only-of-type {\n",
       "        vertical-align: middle;\n",
       "    }\n",
       "\n",
       "    .dataframe tbody tr th {\n",
       "        vertical-align: top;\n",
       "    }\n",
       "\n",
       "    .dataframe thead th {\n",
       "        text-align: right;\n",
       "    }\n",
       "</style>\n",
       "<table border=\"1\" class=\"dataframe\">\n",
       "  <thead>\n",
       "    <tr style=\"text-align: right;\">\n",
       "      <th></th>\n",
       "      <th>Cities</th>\n",
       "      <th>Avg Population</th>\n",
       "      <th>Avg Restaurants</th>\n",
       "      <th>Avg Vegan Restaurants</th>\n",
       "      <th>Avg % Vegan Restaurants</th>\n",
       "      <th>Avg Vegan Restaurants per capita</th>\n",
       "    </tr>\n",
       "  </thead>\n",
       "  <tbody>\n",
       "    <tr>\n",
       "      <th>Total</th>\n",
       "      <td>100</td>\n",
       "      <td>140131</td>\n",
       "      <td>441</td>\n",
       "      <td>4</td>\n",
       "      <td>0.62%</td>\n",
       "      <td>0.000032</td>\n",
       "    </tr>\n",
       "  </tbody>\n",
       "</table>\n",
       "</div>"
      ],
      "text/plain": [
       "       Cities  Avg Population  Avg Restaurants  Avg Vegan Restaurants  \\\n",
       "Total     100          140131              441                      4   \n",
       "\n",
       "      Avg % Vegan Restaurants  Avg Vegan Restaurants per capita  \n",
       "Total                   0.62%                          0.000032  "
      ]
     },
     "execution_count": 114,
     "metadata": {},
     "output_type": "execute_result"
    }
   ],
   "source": [
    "#create avgerage summary dataframe\n",
    "urban_tot_cities = urban_summary[\"Searched\"].nunique()\n",
    "urban_tot_pop = urban_summary[\"Population\"].mean()\n",
    "urban_tot_rest = urban_summary[\"Total Restaurants\"].mean()\n",
    "urban_tot_vegan = urban_summary[\"Vegan Restaurants\"].mean()\n",
    "urban_tot_per = urban_summary[\"% Vegan Restaurants\"].mean()\n",
    "urban_tot_percap = urban_summary[\"Vegan Restaurants per capita\"].mean()\n",
    "\n",
    "urban_tot_summary = pd.DataFrame({\n",
    "    \"Cities\": urban_tot_cities,\n",
    "    \"Avg Population\": round(urban_tot_pop),\n",
    "    \"Avg Restaurants\": round(urban_tot_rest),\n",
    "    \"Avg Vegan Restaurants\": round(urban_tot_vegan),\n",
    "    \"Avg % Vegan Restaurants\": urban_tot_per,\n",
    "    \"Avg Vegan Restaurants per capita\": urban_tot_percap\n",
    "     \n",
    "}, index = [\"Total\"])\n",
    "\n",
    "urban_tot_summary[\"Avg % Vegan Restaurants\"] = urban_tot_summary[\"Avg % Vegan Restaurants\"].map(\"{:.2f}%\".format)\n",
    "urban_tot_summary\n",
    "\n"
   ]
  },
  {
   "cell_type": "code",
   "execution_count": 123,
   "metadata": {},
   "outputs": [
    {
     "data": {
      "text/html": [
       "<div>\n",
       "<style scoped>\n",
       "    .dataframe tbody tr th:only-of-type {\n",
       "        vertical-align: middle;\n",
       "    }\n",
       "\n",
       "    .dataframe tbody tr th {\n",
       "        vertical-align: top;\n",
       "    }\n",
       "\n",
       "    .dataframe thead th {\n",
       "        text-align: right;\n",
       "    }\n",
       "</style>\n",
       "<table border=\"1\" class=\"dataframe\">\n",
       "  <thead>\n",
       "    <tr style=\"text-align: right;\">\n",
       "      <th></th>\n",
       "      <th>Cities</th>\n",
       "      <th>Tot Population</th>\n",
       "      <th>Tot Restaurants</th>\n",
       "      <th>Tot Vegan Restaurants</th>\n",
       "      <th>Tot % Vegan Restaurants</th>\n",
       "      <th>Tot Vegan Restaurants per capita</th>\n",
       "    </tr>\n",
       "  </thead>\n",
       "  <tbody>\n",
       "    <tr>\n",
       "      <th>Total</th>\n",
       "      <td>100</td>\n",
       "      <td>14013106</td>\n",
       "      <td>44068</td>\n",
       "      <td>372</td>\n",
       "      <td>0.84%</td>\n",
       "      <td>0.000027</td>\n",
       "    </tr>\n",
       "  </tbody>\n",
       "</table>\n",
       "</div>"
      ],
      "text/plain": [
       "       Cities  Tot Population  Tot Restaurants  Tot Vegan Restaurants  \\\n",
       "Total     100        14013106            44068                    372   \n",
       "\n",
       "      Tot % Vegan Restaurants  Tot Vegan Restaurants per capita  \n",
       "Total                   0.84%                          0.000027  "
      ]
     },
     "execution_count": 123,
     "metadata": {},
     "output_type": "execute_result"
    }
   ],
   "source": [
    "#create avgerage summary dataframe\n",
    "urban_tot_cities = urban_summary[\"Searched\"].nunique()\n",
    "urban_tot_pop = urban_summary[\"Population\"].sum()\n",
    "urban_tot_rest = urban_summary[\"Total Restaurants\"].sum()\n",
    "urban_tot_vegan = urban_summary[\"Vegan Restaurants\"].sum()\n",
    "urban_tot_per = (urban_tot_vegan/urban_tot_rest) * 100\n",
    "urban_tot_percap = urban_tot_vegan/urban_tot_pop\n",
    "\n",
    "urban_tot_summary = pd.DataFrame({\n",
    "    \"Cities\": urban_tot_cities,\n",
    "    \"Tot Population\": round(urban_tot_pop),\n",
    "    \"Tot Restaurants\": round(urban_tot_rest),\n",
    "    \"Tot Vegan Restaurants\": round(urban_tot_vegan),\n",
    "    \"Tot % Vegan Restaurants\": urban_tot_per,\n",
    "    \"Tot Vegan Restaurants per capita\": urban_tot_percap\n",
    "     \n",
    "}, index = [\"Total\"])\n",
    "\n",
    "urban_tot_summary[\"Tot % Vegan Restaurants\"] = urban_tot_summary[\"Tot % Vegan Restaurants\"].map(\"{:.2f}%\".format)\n",
    "urban_tot_summary\n",
    "\n"
   ]
  },
  {
   "cell_type": "code",
   "execution_count": 157,
   "metadata": {},
   "outputs": [
    {
     "data": {
      "text/html": [
       "<div>\n",
       "<style scoped>\n",
       "    .dataframe tbody tr th:only-of-type {\n",
       "        vertical-align: middle;\n",
       "    }\n",
       "\n",
       "    .dataframe tbody tr th {\n",
       "        vertical-align: top;\n",
       "    }\n",
       "\n",
       "    .dataframe thead th {\n",
       "        text-align: right;\n",
       "    }\n",
       "</style>\n",
       "<table border=\"1\" class=\"dataframe\">\n",
       "  <thead>\n",
       "    <tr style=\"text-align: right;\">\n",
       "      <th></th>\n",
       "      <th>Cities</th>\n",
       "      <th>Avg Population</th>\n",
       "      <th>Avg Restaurants</th>\n",
       "      <th>Avg Vegan Restaurants</th>\n",
       "      <th>Avg % Vegan Restaurants</th>\n",
       "      <th>Avg Vegan Restaurants per capita</th>\n",
       "    </tr>\n",
       "  </thead>\n",
       "  <tbody>\n",
       "    <tr>\n",
       "      <th>Total</th>\n",
       "      <td>98</td>\n",
       "      <td>6973</td>\n",
       "      <td>107</td>\n",
       "      <td>0.4</td>\n",
       "      <td>0.10%</td>\n",
       "      <td>0.000064</td>\n",
       "    </tr>\n",
       "  </tbody>\n",
       "</table>\n",
       "</div>"
      ],
      "text/plain": [
       "       Cities  Avg Population  Avg Restaurants  Avg Vegan Restaurants  \\\n",
       "Total      98            6973              107                    0.4   \n",
       "\n",
       "      Avg % Vegan Restaurants  Avg Vegan Restaurants per capita  \n",
       "Total                   0.10%                          0.000064  "
      ]
     },
     "execution_count": 157,
     "metadata": {},
     "output_type": "execute_result"
    }
   ],
   "source": [
    "#create avgerage summary dataframe\n",
    "rural_tot_cities = rural_summary[\"Searched\"].nunique()\n",
    "rural_tot_pop = rural_summary[\"Population\"].mean()\n",
    "rural_tot_rest = rural_summary[\"Total Restaurants\"].mean()\n",
    "rural_tot_vegan = rural_summary[\"Vegan Restaurants\"].mean()\n",
    "rural_tot_per = rural_summary[\"% Vegan Restaurants\"].mean()\n",
    "rural_tot_percap = rural_summary[\"Vegan Restaurants per capita\"].mean()\n",
    "\n",
    "rural_tot_summary = pd.DataFrame({\n",
    "    \"Cities\": rural_tot_cities,\n",
    "    \"Avg Population\": round(rural_tot_pop),\n",
    "    \"Avg Restaurants\": round(rural_tot_rest),\n",
    "    \"Avg Vegan Restaurants\": round(rural_tot_vegan,1),\n",
    "    \"Avg % Vegan Restaurants\": rural_tot_per,\n",
    "    \"Avg Vegan Restaurants per capita\": rural_tot_percap\n",
    "     \n",
    "}, index = [\"Total\"])\n",
    "\n",
    "rural_tot_summary[\"Avg % Vegan Restaurants\"] = rural_tot_summary[\"Avg % Vegan Restaurants\"].map(\"{:.2f}%\".format)\n",
    "rural_tot_summary\n"
   ]
  },
  {
   "cell_type": "code",
   "execution_count": 125,
   "metadata": {},
   "outputs": [
    {
     "data": {
      "text/html": [
       "<div>\n",
       "<style scoped>\n",
       "    .dataframe tbody tr th:only-of-type {\n",
       "        vertical-align: middle;\n",
       "    }\n",
       "\n",
       "    .dataframe tbody tr th {\n",
       "        vertical-align: top;\n",
       "    }\n",
       "\n",
       "    .dataframe thead th {\n",
       "        text-align: right;\n",
       "    }\n",
       "</style>\n",
       "<table border=\"1\" class=\"dataframe\">\n",
       "  <thead>\n",
       "    <tr style=\"text-align: right;\">\n",
       "      <th></th>\n",
       "      <th>Cities</th>\n",
       "      <th>Tot Population</th>\n",
       "      <th>Tot Restaurants</th>\n",
       "      <th>Tot Vegan Restaurants</th>\n",
       "      <th>Tot % Vegan Restaurants</th>\n",
       "      <th>Tot Vegan Restaurants per capita</th>\n",
       "    </tr>\n",
       "  </thead>\n",
       "  <tbody>\n",
       "    <tr>\n",
       "      <th>Total</th>\n",
       "      <td>98</td>\n",
       "      <td>683384</td>\n",
       "      <td>10467</td>\n",
       "      <td>41</td>\n",
       "      <td>0.39%</td>\n",
       "      <td>0.00006</td>\n",
       "    </tr>\n",
       "  </tbody>\n",
       "</table>\n",
       "</div>"
      ],
      "text/plain": [
       "       Cities  Tot Population  Tot Restaurants  Tot Vegan Restaurants  \\\n",
       "Total      98          683384            10467                     41   \n",
       "\n",
       "      Tot % Vegan Restaurants  Tot Vegan Restaurants per capita  \n",
       "Total                   0.39%                           0.00006  "
      ]
     },
     "execution_count": 125,
     "metadata": {},
     "output_type": "execute_result"
    }
   ],
   "source": [
    "#create avgerage summary dataframe\n",
    "rural_tot_cities = rural_summary[\"Searched\"].nunique()\n",
    "rural_tot_pop = rural_summary[\"Population\"].sum()\n",
    "rural_tot_rest = rural_summary[\"Total Restaurants\"].sum()\n",
    "rural_tot_vegan = rural_summary[\"Vegan Restaurants\"].sum()\n",
    "rural_tot_per = rural_tot_vegan/rural_tot_rest * 100\n",
    "rural_tot_percap = rural_tot_vegan/rural_tot_pop\n",
    "\n",
    "rural_tot_summary = pd.DataFrame({\n",
    "    \"Cities\": rural_tot_cities,\n",
    "    \"Tot Population\": round(rural_tot_pop),\n",
    "    \"Tot Restaurants\": round(rural_tot_rest),\n",
    "    \"Tot Vegan Restaurants\": round(rural_tot_vegan),\n",
    "    \"Tot % Vegan Restaurants\": rural_tot_per,\n",
    "    \"Tot Vegan Restaurants per capita\": rural_tot_percap\n",
    "     \n",
    "}, index = [\"Total\"])\n",
    "\n",
    "rural_tot_summary[\"Tot % Vegan Restaurants\"] = rural_tot_summary[\"Tot % Vegan Restaurants\"].map(\"{:.2f}%\".format)\n",
    "rural_tot_summary"
   ]
  },
  {
   "cell_type": "markdown",
   "metadata": {},
   "source": [
    "## Pie Charts"
   ]
  },
  {
   "cell_type": "code",
   "execution_count": 126,
   "metadata": {},
   "outputs": [
    {
     "data": {
      "image/png": "[encoded data removed]",
      "text/plain": [
       "<Figure size 720x720 with 2 Axes>"
      ]
     },
     "metadata": {},
     "output_type": "display_data"
    }
   ],
   "source": [
    "#create pie charts of vegan vs non-vegan restaurant counts in Urban and Rural datasets\n",
    "rural_veg_group = rural_clean_pop.groupby(\"Vegan Options\")\n",
    "urban_veg_group = urban_clean_pop.groupby(\"Vegan Options\")\n",
    "rural_veg = rural_veg_group[\"Vegan Options\"].count()\n",
    "urban_veg = urban_veg_group[\"Vegan Options\"].count()\n",
    "all_labels = [\"Non-Vegan\", \"Vegan\"]\n",
    "explode = (0, 0.2)\n",
    "fig, (ax1,ax2) = plt.subplots(1,2, figsize =(10,10))\n",
    "ax1.pie(urban_veg, explode = explode, labels = all_labels, autopct = \"%1.2f%%\", pctdistance = 0.3, shadow = True, startangle =135, textprops = {'weight': 'bold', 'ha':'left'})\n",
    "ax2.pie(rural_veg, explode = explode, labels = all_labels, autopct = \"%1.2f%%\", pctdistance = 0.3, shadow = True, startangle =135, textprops = {'weight': 'bold', 'ha':'left'})\n",
    "ax1.set_title(\"Urban Restaurants\")\n",
    "ax2.set_title(\"Rural Restaurants\")\n",
    "\n",
    "plt.savefig(\"../Images/piechart.jpg\", dpi = 100)\n",
    "plt.show()\n"
   ]
  },
  {
   "cell_type": "markdown",
   "metadata": {},
   "source": [
    "## Scatter plot"
   ]
  },
  {
   "cell_type": "code",
   "execution_count": 127,
   "metadata": {},
   "outputs": [
    {
     "name": "stdout",
     "output_type": "stream",
     "text": [
      "The correlation coefficient is 0.53\n"
     ]
    },
    {
     "data": {
      "image/png": "[encoded data removed]",
      "text/plain": [
       "<Figure size 432x288 with 1 Axes>"
      ]
     },
     "metadata": {
      "needs_background": "light"
     },
     "output_type": "display_data"
    }
   ],
   "source": [
    "#create scatter plots comparing area population and count of vegan restaurants\n",
    "urban_scatter = urban_summary[[\"Population\", \"Vegan Restaurants\"]]\n",
    "urban_scatter.plot(x=\"Population\", y = \"Vegan Restaurants\", kind = \"scatter\", title = \"Urban Population vs Vegan Options\")\n",
    "correlation = st.pearsonr(urban_summary[\"Population\"], urban_summary[\"Vegan Restaurants\"])\n",
    "print(f\"The correlation coefficient is {round(correlation[0],2)}\")\n",
    "plt.show()"
   ]
  },
  {
   "cell_type": "code",
   "execution_count": 128,
   "metadata": {},
   "outputs": [
    {
     "name": "stdout",
     "output_type": "stream",
     "text": [
      "The r-value is: 0.5311535229130344 & the correlation coefficient is 0.53\n"
     ]
    },
    {
     "data": {
      "image/png": "[encoded data removed]",
      "text/plain": [
       "<Figure size 432x288 with 1 Axes>"
      ]
     },
     "metadata": {
      "needs_background": "light"
     },
     "output_type": "display_data"
    }
   ],
   "source": [
    "x_val = urban_summary[\"Population\"]\n",
    "y_val = urban_summary[\"Vegan Restaurants\"]\n",
    "(slope, intercept, rvalue, pvalue, stderr) = st.linregress(x_val, y_val)\n",
    "regress = slope * x_val + intercept\n",
    "eq = f\"y = {slope}x + {round(intercept,2)}\"\n",
    "urban_scatter.plot(x = \"Population\", y = \"Vegan Restaurants\", kind = \"scatter\", title = \"Urban Population vs Vegan Options\")\n",
    "plt.plot(x_val, regress, \"r-\")\n",
    "plt.annotate(eq, (400000,5), color =\"r\")\n",
    "print(f\"The r-value is: {rvalue} & the correlation coefficient is {round(correlation[0],2)}\")\n",
    "plt.savefig(\"../Images/urbanscatter.jpg\", dpi = 100)\n",
    "plt.show()"
   ]
  },
  {
   "cell_type": "code",
   "execution_count": 129,
   "metadata": {},
   "outputs": [],
   "source": [
    "## plot shows a weak positive correlation between population and number of vegan restaurants in urban areas"
   ]
  },
  {
   "cell_type": "code",
   "execution_count": 130,
   "metadata": {},
   "outputs": [
    {
     "name": "stdout",
     "output_type": "stream",
     "text": [
      "The correlation coefficient is 0.41\n"
     ]
    },
    {
     "data": {
      "image/png": "[encoded data removed]",
      "text/plain": [
       "<Figure size 432x288 with 1 Axes>"
      ]
     },
     "metadata": {
      "needs_background": "light"
     },
     "output_type": "display_data"
    }
   ],
   "source": [
    "rural_scatter = rural_summary[[\"Population\", \"Vegan Restaurants\"]]\n",
    "rural_scatter.plot(x=\"Population\", y = \"Vegan Restaurants\", kind = \"scatter\", title = \"Rural Population vs Vegan Options\")\n",
    "correlation = st.pearsonr(rural_summary[\"Population\"], rural_summary[\"Vegan Restaurants\"])\n",
    "print(f\"The correlation coefficient is {round(correlation[0],2)}\")\n",
    "plt.show()"
   ]
  },
  {
   "cell_type": "code",
   "execution_count": 131,
   "metadata": {},
   "outputs": [
    {
     "name": "stdout",
     "output_type": "stream",
     "text": [
      "The r-value is: 0.4079222987270247 & the correlation coefficient is 0.41\n"
     ]
    },
    {
     "data": {
      "image/png": "[encoded data removed]",
      "text/plain": [
       "<Figure size 432x288 with 1 Axes>"
      ]
     },
     "metadata": {
      "needs_background": "light"
     },
     "output_type": "display_data"
    }
   ],
   "source": [
    "x_val = rural_summary[\"Population\"]\n",
    "y_val = rural_summary[\"Vegan Restaurants\"]\n",
    "(slope, intercept, rvalue, pvalue, stderr) = linregress(x_val, y_val)\n",
    "regress = slope * x_val + intercept\n",
    "eq = f\"y = {slope}x + {round(intercept,2)}\"\n",
    "rural_scatter.plot(x = \"Population\", y = \"Vegan Restaurants\", kind = \"scatter\", title = \"Rural Population vs Vegan Options\")\n",
    "plt.plot(x_val, regress, \"r-\")\n",
    "plt.annotate(eq, (12000,2.5), color =\"r\")\n",
    "print(f\"The r-value is: {rvalue} & the correlation coefficient is {round(correlation[0],2)}\")\n",
    "plt.savefig(\"../Images/ruralscatter.jpg\", dpi = 100)\n",
    "plt.show()"
   ]
  },
  {
   "cell_type": "code",
   "execution_count": null,
   "metadata": {},
   "outputs": [],
   "source": [
    "## plot shows a weak positive correlation between population and number of vegan restaurants in rural areas"
   ]
  },
  {
   "cell_type": "markdown",
   "metadata": {},
   "source": [
    "## Google Heat Maps"
   ]
  },
  {
   "cell_type": "code",
   "execution_count": 132,
   "metadata": {},
   "outputs": [],
   "source": [
    "gmaps.configure(api_key = gkey)\n",
    "urban_locations = pd.read_csv(\"../Data Pull/urban_clean.csv\", index_col=0)\n",
    "rural_locations = pd.read_csv(\"../Data Pull/rural_clean.csv\", index_col=0)\n",
    "rural_locations_df = rural_locations.copy()\n",
    "rural_locations_df = rural_locations_df[rural_locations_df['Lat'] > 0]\n",
    "urban_locations_df = urban_locations.copy()\n",
    "urban_locations_df = urban_locations_df[urban_locations_df['Lat'] > 0]"
   ]
  },
  {
   "cell_type": "code",
   "execution_count": 133,
   "metadata": {},
   "outputs": [
    {
     "data": {
      "application/vnd.jupyter.widget-view+json": {
       "model_id": "d40022fe85674c42b9c9759468b0067b",
       "version_major": 2,
       "version_minor": 0
      },
      "text/plain": [
       "Figure(layout=FigureLayout(height='420px'))"
      ]
     },
     "metadata": {},
     "output_type": "display_data"
    }
   ],
   "source": [
    "rural_rest = rural_locations_df[\"Vegan Options\"].astype(float)\n",
    "rlocations = rural_locations_df[[\"Lat\", \"Lng\"]].astype(float)\n",
    "\n",
    "rural_fig = gmaps.figure()\n",
    "\n",
    "heat_layer = gmaps.heatmap_layer(rlocations, weights=rural_rest, \n",
    "                                 dissipating=False, max_intensity=100,\n",
    "                                 point_radius = 1)\n",
    "rural_fig.add_layer(heat_layer)\n",
    "rural_fig"
   ]
  },
  {
   "cell_type": "code",
   "execution_count": 134,
   "metadata": {},
   "outputs": [
    {
     "data": {
      "application/vnd.jupyter.widget-view+json": {
       "model_id": "a8f0b609c1b74ab39ad42988c65ed2c9",
       "version_major": 2,
       "version_minor": 0
      },
      "text/plain": [
       "Figure(layout=FigureLayout(height='420px'))"
      ]
     },
     "metadata": {},
     "output_type": "display_data"
    }
   ],
   "source": [
    "urban_rest = urban_locations_df[\"Vegan Options\"].astype(float)\n",
    "ulocations = urban_locations_df[[\"Lat\", \"Lng\"]].astype(float)\n",
    "\n",
    "urban_fig = gmaps.figure()\n",
    "\n",
    "heat_layer = gmaps.heatmap_layer(ulocations, weights=urban_rest, \n",
    "                                 dissipating=False, max_intensity=100,\n",
    "                                 point_radius = 1)\n",
    "urban_fig.add_layer(heat_layer)\n",
    "urban_fig\n",
    "    "
   ]
  },
  {
   "cell_type": "code",
   "execution_count": 135,
   "metadata": {},
   "outputs": [
    {
     "data": {
      "application/vnd.jupyter.widget-view+json": {
       "model_id": "ae52cb65136c44059785db9c218c3677",
       "version_major": 2,
       "version_minor": 0
      },
      "text/plain": [
       "Figure(layout=FigureLayout(height='420px'))"
      ]
     },
     "metadata": {},
     "output_type": "display_data"
    }
   ],
   "source": [
    "combined = gmaps.figure()\n",
    "\n",
    "urban_layer = gmaps.heatmap_layer(ulocations, weights=urban_rest, \n",
    "                                 dissipating=False, max_intensity=100,\n",
    "                                 point_radius = 1)\n",
    "rural_layer = gmaps.heatmap_layer(rlocations, weights=rural_rest, \n",
    "                                 dissipating=False, max_intensity=100,\n",
    "                                 point_radius = 1)\n",
    "\n",
    "combined.add_layer(urban_layer)\n",
    "combined.add_layer(rural_layer)\n",
    "combined"
   ]
  },
  {
   "cell_type": "code",
   "execution_count": 136,
   "metadata": {},
   "outputs": [],
   "source": [
    "#plot location of vegan restaurants from urban and rural datasets \n",
    "urban_veg = urban_locations_df[urban_locations_df[\"Vegan Options\"] == 1][[\"Restaurant\",\"City\",\"State\",\"Lat\",\"Lng\"]]\n",
    "rural_veg = rural_locations_df[rural_locations_df[\"Vegan Options\"] == 1][[\"Restaurant\",\"City\",\"State\",\"Lat\",\"Lng\"]]\n",
    "veg_loc = pd.concat([urban_veg, rural_veg])"
   ]
  },
  {
   "cell_type": "code",
   "execution_count": 137,
   "metadata": {},
   "outputs": [
    {
     "data": {
      "application/vnd.jupyter.widget-view+json": {
       "model_id": "e1517c8b90eb4c2485fdb6e12e752b3e",
       "version_major": 2,
       "version_minor": 0
      },
      "text/plain": [
       "Figure(layout=FigureLayout(height='420px'))"
      ]
     },
     "metadata": {},
     "output_type": "display_data"
    }
   ],
   "source": [
    "info_box_template = \"\"\"\n",
    "<dl>\n",
    "<dt>Name</dt><dd>{Restaurant}</dd>\n",
    "<dt>City</dt><dd>{City}</dd>\n",
    "<dt>State</dt><dd>{State}</dd>\n",
    "</dl>\n",
    "\"\"\"\n",
    "veganrest_info = [info_box_template.format(**row) for index, row in veg_loc.iterrows()]\n",
    "locations = veg_loc[[\"Lat\", \"Lng\"]]\n",
    "\n",
    "fig = gmaps.figure()\n",
    "marker_layer = gmaps.marker_layer(locations, info_box_content=veganrest_info)\n",
    "fig.add_layer(marker_layer)\n",
    "\n",
    "fig"
   ]
  },
  {
   "cell_type": "markdown",
   "metadata": {},
   "source": [
    "## Bar Charts"
   ]
  },
  {
   "cell_type": "code",
   "execution_count": 138,
   "metadata": {},
   "outputs": [
    {
     "data": {
      "text/html": [
       "<div>\n",
       "<style scoped>\n",
       "    .dataframe tbody tr th:only-of-type {\n",
       "        vertical-align: middle;\n",
       "    }\n",
       "\n",
       "    .dataframe tbody tr th {\n",
       "        vertical-align: top;\n",
       "    }\n",
       "\n",
       "    .dataframe thead th {\n",
       "        text-align: right;\n",
       "    }\n",
       "</style>\n",
       "<table border=\"1\" class=\"dataframe\">\n",
       "  <thead>\n",
       "    <tr style=\"text-align: right;\">\n",
       "      <th></th>\n",
       "      <th>Searched</th>\n",
       "      <th>Population</th>\n",
       "      <th>Total Restaurants</th>\n",
       "      <th>Vegan Restaurants</th>\n",
       "      <th>% Vegan Restaurants</th>\n",
       "      <th>Vegan Restaurants per capita</th>\n",
       "    </tr>\n",
       "  </thead>\n",
       "  <tbody>\n",
       "    <tr>\n",
       "      <th>3</th>\n",
       "      <td>Austin, Texas</td>\n",
       "      <td>978908</td>\n",
       "      <td>950</td>\n",
       "      <td>26</td>\n",
       "      <td>2.736842</td>\n",
       "      <td>0.000027</td>\n",
       "    </tr>\n",
       "    <tr>\n",
       "      <th>6</th>\n",
       "      <td>Berkeley, California</td>\n",
       "      <td>121363</td>\n",
       "      <td>900</td>\n",
       "      <td>25</td>\n",
       "      <td>2.777778</td>\n",
       "      <td>0.000206</td>\n",
       "    </tr>\n",
       "    <tr>\n",
       "      <th>61</th>\n",
       "      <td>Oakland, California</td>\n",
       "      <td>433031</td>\n",
       "      <td>950</td>\n",
       "      <td>24</td>\n",
       "      <td>2.526316</td>\n",
       "      <td>0.000055</td>\n",
       "    </tr>\n",
       "    <tr>\n",
       "      <th>27</th>\n",
       "      <td>Fountain Valley, California</td>\n",
       "      <td>55357</td>\n",
       "      <td>950</td>\n",
       "      <td>17</td>\n",
       "      <td>1.789474</td>\n",
       "      <td>0.000307</td>\n",
       "    </tr>\n",
       "    <tr>\n",
       "      <th>28</th>\n",
       "      <td>Garden Grove, California</td>\n",
       "      <td>171644</td>\n",
       "      <td>950</td>\n",
       "      <td>16</td>\n",
       "      <td>1.684211</td>\n",
       "      <td>0.000093</td>\n",
       "    </tr>\n",
       "  </tbody>\n",
       "</table>\n",
       "</div>"
      ],
      "text/plain": [
       "                       Searched  Population  Total Restaurants  \\\n",
       "3                 Austin, Texas      978908                950   \n",
       "6          Berkeley, California      121363                900   \n",
       "61          Oakland, California      433031                950   \n",
       "27  Fountain Valley, California       55357                950   \n",
       "28     Garden Grove, California      171644                950   \n",
       "\n",
       "    Vegan Restaurants  % Vegan Restaurants  Vegan Restaurants per capita  \n",
       "3                  26             2.736842                      0.000027  \n",
       "6                  25             2.777778                      0.000206  \n",
       "61                 24             2.526316                      0.000055  \n",
       "27                 17             1.789474                      0.000307  \n",
       "28                 16             1.684211                      0.000093  "
      ]
     },
     "execution_count": 138,
     "metadata": {},
     "output_type": "execute_result"
    }
   ],
   "source": [
    "top_5_urban =urban_summary.nlargest(5, [\"Vegan Restaurants\"])\n",
    "top_5_urban"
   ]
  },
  {
   "cell_type": "code",
   "execution_count": 148,
   "metadata": {},
   "outputs": [
    {
     "data": {
      "image/png": "[encoded data removed]",
      "text/plain": [
       "<Figure size 432x288 with 1 Axes>"
      ]
     },
     "metadata": {
      "needs_background": "light"
     },
     "output_type": "display_data"
    }
   ],
   "source": [
    "cities =  top_5_urban[\"Searched\"]\n",
    "vegan_rest= top_5_urban[\"Vegan Restaurants\"]\n",
    "\n",
    "#Create a bar chart of the data\n",
    "plt.bar(cities, vegan_rest, color = \"blue\")\n",
    "#Create titles\n",
    "plt.xlabel(\"City\")\n",
    "plt.ylabel(\"Number of Restaurants with Vegan Options\")\n",
    "plt.title(\"Urban Cities with the Highest Number of Vegan Friendly Restaurants\")\n",
    "plt.xticks(rotation = \"vertical\")\n",
    "plt.savefig(\"../Images/Urban Cities with the Highest Number of Vegan Friendly Restaurants.png\",bbox_inches='tight')\n",
    "plt.show()"
   ]
  },
  {
   "cell_type": "code",
   "execution_count": 149,
   "metadata": {},
   "outputs": [
    {
     "data": {
      "image/png": "[encoded data removed]",
      "text/plain": [
       "<Figure size 432x288 with 1 Axes>"
      ]
     },
     "metadata": {
      "needs_background": "light"
     },
     "output_type": "display_data"
    }
   ],
   "source": [
    "# Generate a bar plot showing the population vs. top 5 cities \n",
    "\n",
    "cities =  top_5_urban[\"Searched\"]\n",
    "population = top_5_urban[\"Population\"]\n",
    "\n",
    "#Create a bar chart of the data\n",
    "plt.bar(cities, population, color = \"blue\")\n",
    "#Create titles\n",
    "plt.xlabel(\"City\")\n",
    "plt.ylabel(\"Population\")\n",
    "plt.title(\"Population of Urban Cities with the Highest Number of Vegan Friendly Restaurants\")\n",
    "plt.xticks(rotation = \"vertical\")\n",
    "plt.savefig(\"../Images/Population of Urban Cities with the Highest Number of Vegan Friendly Restaurants.png\",bbox_inches='tight')\n",
    "plt.show()"
   ]
  },
  {
   "cell_type": "code",
   "execution_count": 150,
   "metadata": {},
   "outputs": [
    {
     "data": {
      "image/png": "[encoded data removed]",
      "text/plain": [
       "<Figure size 432x288 with 1 Axes>"
      ]
     },
     "metadata": {
      "needs_background": "light"
     },
     "output_type": "display_data"
    }
   ],
   "source": [
    "# Generate a bar plot showing the vegan options per capita vs. city name\n",
    "top_5_urban_percap = urban_summary.nlargest(5, [\"Vegan Restaurants per capita\"])\n",
    "cities =  top_5_urban_percap[\"Searched\"]\n",
    "per_capita = top_5_urban_percap[\"Vegan Restaurants per capita\"]\n",
    "\n",
    "#Create a bar chart of the data\n",
    "plt.bar(cities, per_capita, color = \"blue\")\n",
    "#Create titles\n",
    "plt.xlabel(\"City\")\n",
    "plt.ylabel(\"Vegan Restaurants Per Capita\")\n",
    "plt.title(\"Vegan Restaurants Per Capita in Urban Cities with Highest Number of Vegan Friendly Restaurants\")\n",
    "plt.xticks(rotation = \"vertical\")\n",
    "plt.savefig(\"../Images/Vegan Restaurants Per Capita in Urban Cities with Highest Number of Vegan Friendly Restaurants.png\",bbox_inches='tight')\n",
    "plt.show()"
   ]
  },
  {
   "cell_type": "code",
   "execution_count": 151,
   "metadata": {},
   "outputs": [
    {
     "data": {
      "text/html": [
       "<div>\n",
       "<style scoped>\n",
       "    .dataframe tbody tr th:only-of-type {\n",
       "        vertical-align: middle;\n",
       "    }\n",
       "\n",
       "    .dataframe tbody tr th {\n",
       "        vertical-align: top;\n",
       "    }\n",
       "\n",
       "    .dataframe thead th {\n",
       "        text-align: right;\n",
       "    }\n",
       "</style>\n",
       "<table border=\"1\" class=\"dataframe\">\n",
       "  <thead>\n",
       "    <tr style=\"text-align: right;\">\n",
       "      <th></th>\n",
       "      <th>Searched</th>\n",
       "      <th>Population</th>\n",
       "      <th>Total Restaurants</th>\n",
       "      <th>Vegan Restaurants</th>\n",
       "      <th>% Vegan Restaurants</th>\n",
       "      <th>Vegan Restaurants per capita</th>\n",
       "    </tr>\n",
       "  </thead>\n",
       "  <tbody>\n",
       "    <tr>\n",
       "      <th>74</th>\n",
       "      <td>Riviera Beach, Florida</td>\n",
       "      <td>35463</td>\n",
       "      <td>526</td>\n",
       "      <td>7</td>\n",
       "      <td>1.330798</td>\n",
       "      <td>0.000197</td>\n",
       "    </tr>\n",
       "    <tr>\n",
       "      <th>37</th>\n",
       "      <td>Haledon, New Jersey</td>\n",
       "      <td>8293</td>\n",
       "      <td>905</td>\n",
       "      <td>5</td>\n",
       "      <td>0.552486</td>\n",
       "      <td>0.000603</td>\n",
       "    </tr>\n",
       "    <tr>\n",
       "      <th>56</th>\n",
       "      <td>Mission, Kansas</td>\n",
       "      <td>9911</td>\n",
       "      <td>702</td>\n",
       "      <td>5</td>\n",
       "      <td>0.712251</td>\n",
       "      <td>0.000504</td>\n",
       "    </tr>\n",
       "    <tr>\n",
       "      <th>19</th>\n",
       "      <td>Covington, Kentucky</td>\n",
       "      <td>40341</td>\n",
       "      <td>770</td>\n",
       "      <td>4</td>\n",
       "      <td>0.519481</td>\n",
       "      <td>0.000099</td>\n",
       "    </tr>\n",
       "    <tr>\n",
       "      <th>65</th>\n",
       "      <td>Orinda, California</td>\n",
       "      <td>19926</td>\n",
       "      <td>363</td>\n",
       "      <td>4</td>\n",
       "      <td>1.101928</td>\n",
       "      <td>0.000201</td>\n",
       "    </tr>\n",
       "  </tbody>\n",
       "</table>\n",
       "</div>"
      ],
      "text/plain": [
       "                  Searched  Population  Total Restaurants  Vegan Restaurants  \\\n",
       "74  Riviera Beach, Florida       35463                526                  7   \n",
       "37     Haledon, New Jersey        8293                905                  5   \n",
       "56         Mission, Kansas        9911                702                  5   \n",
       "19     Covington, Kentucky       40341                770                  4   \n",
       "65      Orinda, California       19926                363                  4   \n",
       "\n",
       "    % Vegan Restaurants  Vegan Restaurants per capita  \n",
       "74             1.330798                      0.000197  \n",
       "37             0.552486                      0.000603  \n",
       "56             0.712251                      0.000504  \n",
       "19             0.519481                      0.000099  \n",
       "65             1.101928                      0.000201  "
      ]
     },
     "execution_count": 151,
     "metadata": {},
     "output_type": "execute_result"
    }
   ],
   "source": [
    "top_5_rural =rural_summary.nlargest(5, [\"Vegan Restaurants\"])\n",
    "top_5_rural"
   ]
  },
  {
   "cell_type": "code",
   "execution_count": 152,
   "metadata": {},
   "outputs": [
    {
     "data": {
      "image/png": "[encoded data removed]",
      "text/plain": [
       "<Figure size 432x288 with 1 Axes>"
      ]
     },
     "metadata": {
      "needs_background": "light"
     },
     "output_type": "display_data"
    }
   ],
   "source": [
    "# Generate a bar plot showing the number of restaurants with vegan options vs. city name\n",
    "\n",
    "rural_cities =  top_5_rural[\"Searched\"]\n",
    "rural_vegan_rest= top_5_rural[\"Vegan Restaurants\"]\n",
    "\n",
    "#Create a bar chart of the data\n",
    "plt.bar(rural_cities, rural_vegan_rest, color = \"red\")\n",
    "#Create titles\n",
    "plt.xlabel(\"City\")\n",
    "plt.ylabel(\"Number of Restaurants with Vegan Options\")\n",
    "plt.title(\"Rural Cities with the Highest Number of Vegan Friendly Restaurants\")\n",
    "plt.xticks(rotation = \"vertical\")\n",
    "plt.savefig(\"../Images/Rural Cities with the Highest Number of Vegan Friendly Restaurants.png\",bbox_inches='tight')\n",
    "plt.show()"
   ]
  },
  {
   "cell_type": "code",
   "execution_count": 153,
   "metadata": {},
   "outputs": [
    {
     "data": {
      "image/png": "[encoded data removed]",
      "text/plain": [
       "<Figure size 432x288 with 1 Axes>"
      ]
     },
     "metadata": {
      "needs_background": "light"
     },
     "output_type": "display_data"
    }
   ],
   "source": [
    "# Generate a bar plot showing the number of restaurants with vegan options vs. city name\n",
    "\n",
    "rural_cities =  top_5_rural[\"Searched\"]\n",
    "rural_vegan_rest= top_5_rural[\"Vegan Restaurants\"]\n",
    "rural_pop = top_5_rural[\"Population\"]\n",
    "#Create a bar chart of the data\n",
    "plt.bar(rural_cities, rural_pop, color = \"red\")\n",
    "#Create titles\n",
    "plt.xlabel(\"City\")\n",
    "plt.ylabel(\"Population\")\n",
    "plt.title(\"Population of Rural Cities with the Highest Number of Vegan Friendly Restaurants\")\n",
    "plt.xticks(rotation = \"vertical\")\n",
    "plt.savefig(\"../Images/Population of Rural Cities with the Highest Number of Vegan Friendly Restaurants.png\",bbox_inches='tight')\n",
    "plt.show()"
   ]
  },
  {
   "cell_type": "code",
   "execution_count": 154,
   "metadata": {},
   "outputs": [
    {
     "data": {
      "image/png": "[encoded data removed]",
      "text/plain": [
       "<Figure size 432x288 with 1 Axes>"
      ]
     },
     "metadata": {
      "needs_background": "light"
     },
     "output_type": "display_data"
    }
   ],
   "source": [
    "# Generate a bar plot showing the vegan options per capita vs. city name\n",
    "top_5_rural_percap = rural_summary.nlargest(5, [\"Vegan Restaurants per capita\"])\n",
    "cities =  top_5_rural_percap[\"Searched\"]\n",
    "per_capita = top_5_rural_percap[\"Vegan Restaurants per capita\"]\n",
    "\n",
    "#Create a bar chart of the data\n",
    "plt.bar(cities, per_capita, color = \"red\")\n",
    "#Create titles\n",
    "plt.xlabel(\"City\")\n",
    "plt.ylabel(\"Vegan Restaurants Per Capita\")\n",
    "plt.title(\"Vegan Restaurants Per Capita in Rural Cities with Highest Number of Vegan Friendly Restaurants\")\n",
    "plt.xticks(rotation = \"vertical\")\n",
    "plt.savefig(\"../Images/Vegan Restaurants Per Capita in Rural Cities with Highest Number of Vegan Friendly Restaurants.png\",bbox_inches='tight')\n",
    "plt.show()"
   ]
  },
  {
   "cell_type": "markdown",
   "metadata": {},
   "source": [
    "## T-Test"
   ]
  },
  {
   "cell_type": "code",
   "execution_count": 155,
   "metadata": {},
   "outputs": [],
   "source": [
    "urban_percapita = urban_summary[\"Vegan Restaurants per capita\"].tolist()\n",
    "rural_percapita = rural_summary[\"Vegan Restaurants per capita\"].tolist()\n"
   ]
  },
  {
   "cell_type": "code",
   "execution_count": 156,
   "metadata": {},
   "outputs": [
    {
     "name": "stdout",
     "output_type": "stream",
     "text": [
      "The p-value is: 3.05572315039022e-05\n"
     ]
    }
   ],
   "source": [
    "st.ttest_ind(urban_percapita, rural_percapita, equal_var=False)\n",
    "print(f\"The p-value is: {pvalue}\")"
   ]
  },
  {
   "cell_type": "code",
   "execution_count": null,
   "metadata": {},
   "outputs": [],
   "source": [
    "# p-value of 3.1 e-05 suggests we can reject the null hypothesis and conclude that the number of vegan resturants in an area\n",
    "# correlated with an increase in population"
   ]
  }
 ],
 "metadata": {
  "kernelspec": {
   "display_name": "Python 3",
   "language": "python",
   "name": "python3"
  },
  "language_info": {
   "codemirror_mode": {
    "name": "ipython",
    "version": 3
   },
   "file_extension": ".py",
   "mimetype": "text/x-python",
   "name": "python",
   "nbconvert_exporter": "python",
   "pygments_lexer": "ipython3",
   "version": "3.8.3"
  }
 },
 "nbformat": 4,
 "nbformat_minor": 4
}
