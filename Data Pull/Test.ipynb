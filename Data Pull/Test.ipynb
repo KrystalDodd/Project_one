{
 "cells": [
  {
   "cell_type": "code",
   "execution_count": null,
   "metadata": {},
   "outputs": [],
   "source": [
    "import matplotlib.pyplot as plt\n",
    "import pandas as pd\n",
    "import numpy as np\n",
    "from scipy.stats import linregress\n",
    "#from yelp.client import Client\n",
    "import json\n",
    "from ratelimit import limits\n",
    "import requests\n",
    "import csv\n",
    "import random\n",
    "from lock import yelp_key\n",
    "my_api_key = yelp_key\n",
    "\n",
    "\n",
    "df = pd.read_csv(\"../sub-est2019_all.csv\", engine='python')\n",
    "rural_city = df[(df[\"POPESTIMATE2019\"]< 50000) & (df[\"POPESTIMATE2019\"] > 1000) & (df[\"PRIMGEO_FLAG\"]==0)]\n",
    "rural_df = rural_city[[\"NAME\", \"STNAME\", \"POPESTIMATE2019\"]]\n",
    "urban_city = df[df[\"POPESTIMATE2019\"]>= 50000]\n",
    "urban_df = urban_city[[\"NAME\", \"STNAME\", \"POPESTIMATE2019\"]]\n",
    "urban_index = urban_df.loc[urban_df[\"NAME\"] == urban_df[\"STNAME\"]].index\n",
    "urban_clean = urban_df.drop(urban_index)\n",
    "random_urban_city = urban_clean[[\"NAME\", \"STNAME\",\"POPESTIMATE2019\"]].sample(n=100, random_state=1)\n",
    "random_rural_city = rural_df[[\"NAME\", \"STNAME\", \"POPESTIMATE2019\"]].sample(n=100, random_state=1)\n"
   ]
  },
  {
   "cell_type": "code",
   "execution_count": null,
   "metadata": {},
   "outputs": [],
   "source": [
    "headers = {'Authorization': 'Bearer %s' % my_api_key}\n",
    "\n",
    "rural_dict = {\n",
    "    \"Searched\": [],\n",
    "    \"City\": [],\n",
    "    \"State\": [],\n",
    "    \"Lat\": [],\n",
    "    \"Lng\": [],\n",
    "    \"Restaurant\": [],\n",
    "    \"Category\": [],\n",
    "#     \"Category 2\": [],\n",
    "#     \"Category 3\": [],\n",
    "    \"Transactions\":[]\n",
    "}\n",
    "\n",
    "url='https://api.yelp.com/v3/businesses/search'\n",
    "offset = np.arange(0,950,50).tolist() \n",
    "\n",
    "for city, state in zip(random_rural_city[\"NAME\"], random_rural_city[\"STNAME\"]):\n",
    "    for i in range(len(offset)):\n",
    "        params = {\n",
    "            'location': f\"{city}, {state}\",\n",
    "            'radius': 8047,\n",
    "            'limit': 50,\n",
    "            'offset': offset[i]\n",
    "                 }\n",
    "        response = requests.get(url, params = params, headers = headers).json()\n",
    "        try:\n",
    "            for business in range(len(response[\"businesses\"])):\n",
    "                try:\n",
    "                    rural_dict[\"Searched\"].append(f\"{city}, {state}\")\n",
    "                    rural_dict[\"City\"].append(response[\"businesses\"][business][\"location\"][\"city\"])\n",
    "                    rural_dict[\"State\"].append(response[\"businesses\"][business][\"location\"][\"state\"])\n",
    "                    rural_dict[\"Lat\"].append(response[\"businesses\"][business][\"coordinates\"][\"latitude\"])\n",
    "                    rural_dict[\"Lng\"].append(response[\"businesses\"][business][\"coordinates\"][\"longitude\"])\n",
    "                    rural_dict[\"Restaurant\"].append(response[\"businesses\"][business][\"name\"])\n",
    "                    rural_dict[\"Category\"].append([response[\"businesses\"][business][\"categories\"][i][\"title\"] for i in range(len(response[\"businesses\"][business][\"categories\"]))])\n",
    "#                     rural_dict[\"Category\"].append(response[\"businesses\"][business][\"categories\"][0][\"title\"])\n",
    "#                     rural_dict[\"Category 2\"].append(response[\"businesses\"][business][\"categories\"][1][\"title\"])\n",
    "#                     rural_dict[\"Category 3\"].append(response[\"businesses\"][business][\"categories\"][2][\"title\"])\n",
    "                    rural_dict[\"Transactions\"].append(response[\"businesses\"][business][\"transactions\"])\n",
    "                except KeyError:\n",
    "                    rural_dict[\"Searched\"].append(\"No City Found\")\n",
    "                    rural_dict[\"City\"].append(\"No City Found\")\n",
    "                    rural_dict[\"State\"].append(\"No State Found\")\n",
    "                    rural_dict[\"Lat\"].append(\"No Lat Found\")\n",
    "                    rural_dict[\"Lng\"].append(\"No Lng Found\")\n",
    "                    rural_dict[\"Restaurant\"].append(\"No Restaurant Found\")\n",
    "                    rural_dict[\"Category\"].append(\"No Categories\")\n",
    "                    rural_dict[\"Transactions\"].append(\"No Transactions Found\")\n",
    "#                 except IndexError:\n",
    "#                     rural_dict[\"Category 2\"].append(\"\")\n",
    "#                     rural_dict[\"Category 3\"].append(\"\")\n",
    "        except KeyError:\n",
    "                pass"
   ]
  },
  {
   "cell_type": "code",
   "execution_count": null,
   "metadata": {},
   "outputs": [],
   "source": [
    "rural = pd.DataFrame.from_dict(rural_dict, orient='index')\n",
    "rural = rural.transpose()\n",
    "rural.head(70)"
   ]
  },
  {
   "cell_type": "code",
   "execution_count": null,
   "metadata": {},
   "outputs": [],
   "source": [
    "headers = {'Authorization': 'Bearer %s' % my_api_key}\n",
    "\n",
    "urban_dict = {\n",
    "    \"Searched\": [],\n",
    "    \"City\": [],\n",
    "    \"State\": [],\n",
    "    \"Lat\": [],\n",
    "    \"Lng\": [],\n",
    "    \"Restaurant\": [],\n",
    "    \"Category\": [],\n",
    "#     \"Category 2\": [],\n",
    "#     \"Category 3\": [],\n",
    "    \"Transactions\":[]\n",
    "}\n",
    "\n",
    "url='https://api.yelp.com/v3/businesses/search'\n",
    "offset = np.arange(0,950,50).tolist() \n",
    "\n",
    "for city, state in zip(random_urban_city[\"NAME\"], random_urban_city[\"STNAME\"]):\n",
    "    for i in range(len(offset)):\n",
    "        params = {\n",
    "            'location': f\"{city}, {state}\",\n",
    "            'radius': 8047,\n",
    "            'limit': 50,\n",
    "            'offset': offset[i]\n",
    "                 }\n",
    "        response = requests.get(url, params = params, headers = headers).json()\n",
    "        try:\n",
    "            for business in range(len(response[\"businesses\"])):\n",
    "                try:\n",
    "                    urban_dict[\"Searched\"].append(f\"{city}, {state}\")\n",
    "                    urban_dict[\"City\"].append(response[\"businesses\"][business][\"location\"][\"city\"])\n",
    "                    urban_dict[\"State\"].append(response[\"businesses\"][business][\"location\"][\"state\"])\n",
    "                    urban_dict[\"Lat\"].append(response[\"businesses\"][business][\"coordinates\"][\"latitude\"])\n",
    "                    urban_dict[\"Lng\"].append(response[\"businesses\"][business][\"coordinates\"][\"longitude\"])\n",
    "                    urban_dict[\"Restaurant\"].append(response[\"businesses\"][business][\"name\"])\n",
    "                    urban_dict[\"Category\"].append([response[\"businesses\"][business][\"categories\"][i][\"title\"] for i in range(len(response[\"businesses\"][business][\"categories\"]))])\n",
    "#                     rural_dict[\"Category\"].append(response[\"businesses\"][business][\"categories\"][0][\"title\"])\n",
    "#                     rural_dict[\"Category 2\"].append(response[\"businesses\"][business][\"categories\"][1][\"title\"])\n",
    "#                     rural_dict[\"Category 3\"].append(response[\"businesses\"][business][\"categories\"][2][\"title\"])\n",
    "                    urban_dict[\"Transactions\"].append(response[\"businesses\"][business][\"transactions\"])\n",
    "                except KeyError:\n",
    "                    urban_dict[\"Searched\"].append(\"No City Found\")\n",
    "                    urban_dict[\"City\"].append(\"No City Found\")\n",
    "                    urban_dict[\"State\"].append(\"No State Found\")\n",
    "                    urban_dict[\"Lat\"].append(\"No Lat Found\")\n",
    "                    urban_dict[\"Lng\"].append(\"No Lng Found\")\n",
    "                    urban_dict[\"Restaurant\"].append(\"No Restaurant Found\")\n",
    "                    urban_dict[\"Category\"].append(\"No Categories\")\n",
    "                    urban_dict[\"Transactions\"].append(\"No Transactions Found\")\n",
    "#                 except IndexError:\n",
    "#                     rural_dict[\"Category 2\"].append(\"\")\n",
    "#                     rural_dict[\"Category 3\"].append(\"\")\n",
    "        except KeyError:\n",
    "                pass"
   ]
  },
  {
   "cell_type": "code",
   "execution_count": null,
   "metadata": {},
   "outputs": [],
   "source": [
    "urban = pd.DataFrame.from_dict(urban_dict, orient='index')\n",
    "urban = urban.transpose()\n",
    "urban.head()"
   ]
  },
  {
   "cell_type": "code",
   "execution_count": null,
   "metadata": {
    "scrolled": true
   },
   "outputs": [],
   "source": [
    "urban.to_csv(\"../urbantest.csv\")\n",
    "#rural.to_csv(\"../ruraltest.csv\")"
   ]
  },
  {
   "cell_type": "code",
   "execution_count": null,
   "metadata": {},
   "outputs": [],
   "source": [
    "rural_cat= pd.DataFrame(rural[\"Category\"].to_list(), columns = [\"Category 1\", \"Category 2\", \"Category 3\", \"Category 4\", \"Category 5\", \"Category 6\"])\n",
    "rural_clean = rural_cat[[\"Category 1\", \"Category 2\", \"Category 3\"]]\n",
    "rural_clean = rural.merge(rural_cat, left_index = True,right_index = True)\n",
    "rural_clean.head()"
   ]
  },
  {
   "cell_type": "code",
   "execution_count": null,
   "metadata": {
    "scrolled": true
   },
   "outputs": [],
   "source": [
    "urban_cat= pd.DataFrame(urban[\"Category\"].to_list(), columns = [\"Category 1\", \"Category 2\", \"Category 3\", \"Category 4\"], index = urban.index)\n",
    "urban_cats = urban_cat[[\"Category 1\", \"Category 2\", \"Category 3\"]]\n",
    "urban_clean = urban.merge(urban_cats, left_index = True,right_index = True)\n",
    "urban_clean.head(30)"
   ]
  },
  {
   "cell_type": "code",
   "execution_count": null,
   "metadata": {
    "scrolled": true
   },
   "outputs": [],
   "source": [
    "urban_clean.count()"
   ]
  },
  {
   "cell_type": "code",
   "execution_count": null,
   "metadata": {},
   "outputs": [],
   "source": [
    "total_all = len(urban_clean[\"Searched\"])\n",
    "print(total_all)"
   ]
  },
  {
   "cell_type": "code",
   "execution_count": null,
   "metadata": {
    "scrolled": false
   },
   "outputs": [],
   "source": [
    "#vegan = urban_clean[list(urban_clean.loc[:,\"Category 1\": \"Category 3\"] == \"Vegan\")]\n",
    "#vegan_1 = urban_clean[urban_clean['Category 1'] == 'Vegan']\n",
    "#df[ list(df.loc[:,'A':'C']) + ['E'] + list(df.loc[:,'G':'I']) ]\n",
    "keywords = [\"Vegan\", \"vegan\"]\n",
    "urban_vegan = urban_clean[(urban_clean[\"Category 1\"].isin(keywords))|(urban_clean[\"Category 2\"].isin(keywords))|(urban_clean[\"Category 3\"].isin(keywords))]\n",
    "urban_vegan_df = pd.DataFrame(urban_vegan)\n",
    "urban_vegan_df.head()"
   ]
  },
  {
   "cell_type": "code",
   "execution_count": null,
   "metadata": {},
   "outputs": [],
   "source": [
    "urban_vegan_df.count()"
   ]
  },
  {
   "cell_type": "code",
   "execution_count": null,
   "metadata": {},
   "outputs": [],
   "source": [
    "urban_vegan_df.describe()"
   ]
  },
  {
   "cell_type": "code",
   "execution_count": null,
   "metadata": {},
   "outputs": [],
   "source": [
    "total_urban_vegan = len(urban_vegan[\"Searched\"])\n",
    "total_urban_vegan"
   ]
  },
  {
   "cell_type": "code",
   "execution_count": null,
   "metadata": {},
   "outputs": [],
   "source": [
    "urban_clean_opt = urban_vegan_df\n",
    "urban_clean_opt[\"Vegan Options\"] = \"\"\n",
    "urban_clean_opt.head()\n",
    "urban_clean_opt[\"Vegan Options\"] = np.where(urban_vegan[\"Category 1\"].isin(keywords)|urban_vegan[\"Category 2\"].isin(keywords)|urban_vegan[\"Category 3\"].isin(keywords), True, False)\n",
    "urban_clean_opt"
   ]
  },
  {
   "cell_type": "code",
   "execution_count": null,
   "metadata": {
    "scrolled": true
   },
   "outputs": [],
   "source": [
    "urban_clean_opt.count()"
   ]
  },
  {
   "cell_type": "code",
   "execution_count": null,
   "metadata": {},
   "outputs": [],
   "source": []
  },
  {
   "cell_type": "code",
   "execution_count": null,
   "metadata": {
    "scrolled": true
   },
   "outputs": [],
   "source": [
    "urban_grouped_count = urban_clean_opt.groupby(\"Searched\").count()\n",
    "urban_grouped_count"
   ]
  },
  {
   "cell_type": "code",
   "execution_count": null,
   "metadata": {},
   "outputs": [],
   "source": [
    "urban_count_df = pd.DataFrame(urban_grouped_count)\n",
    "urban_count_df"
   ]
  },
  {
   "cell_type": "code",
   "execution_count": null,
   "metadata": {},
   "outputs": [],
   "source": [
    "#urban_grouped.to_csv(\"../urbangrouped.csv\")"
   ]
  },
  {
   "cell_type": "code",
   "execution_count": null,
   "metadata": {},
   "outputs": [],
   "source": [
    "urban_count.describe()"
   ]
  },
  {
   "cell_type": "code",
   "execution_count": null,
   "metadata": {},
   "outputs": [],
   "source": [
    "total_vegan = sum(urban_count_df[\"Vegan Options\"])\n",
    "total_vegan\n"
   ]
  }
 ],
 "metadata": {
  "kernelspec": {
   "display_name": "Python 3",
   "language": "python",
   "name": "python3"
  },
  "language_info": {
   "codemirror_mode": {
    "name": "ipython",
    "version": 3
   },
   "file_extension": ".py",
   "mimetype": "text/x-python",
   "name": "python",
   "nbconvert_exporter": "python",
   "pygments_lexer": "ipython3",
   "version": "3.8.3"
  }
 },
 "nbformat": 4,
 "nbformat_minor": 4
}
