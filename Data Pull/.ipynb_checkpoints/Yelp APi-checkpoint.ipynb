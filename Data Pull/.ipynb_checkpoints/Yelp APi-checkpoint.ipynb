{
 "cells": [
  {
   "cell_type": "code",
   "execution_count": 5,
   "metadata": {},
   "outputs": [],
   "source": [
    "import matplotlib.pyplot as plt\n",
    "import pandas as pd\n",
    "import numpy as np\n",
    "import scipy.stats as st\n",
    "from scipy.stats import linregress\n",
    "from yelp.client import Client\n",
    "import json\n",
    "from ratelimit import limits\n",
    "import requests\n",
    "import csv\n",
    "import random\n",
    "from keys import my_api_key, gkey\n",
    "import gmaps\n",
    "\n",
    "%matplotlib inline"
   ]
  },
  {
   "cell_type": "markdown",
   "metadata": {},
   "source": [
    "## Read in Census data"
   ]
  },
  {
   "cell_type": "code",
   "execution_count": 618,
   "metadata": {},
   "outputs": [],
   "source": [
    "# read in cleaned census data and subset the data to segment rural (population > 1000 & < 50000 + exclude primitive locations)\n",
    "# urban (population > 50000) areas. Once data was subset, took 100 random samples from both data sets\n"
   ]
  },
  {
   "cell_type": "code",
   "execution_count": 432,
   "metadata": {},
   "outputs": [],
   "source": [
    "df = pd.read_csv(\"../sub-est2019_all.csv\", engine='python')\n",
    "rural_city = df[(df[\"POPESTIMATE2019\"]< 50000) & (df[\"POPESTIMATE2019\"] > 1000) & (df[\"PRIMGEO_FLAG\"]==0)]\n",
    "rural_df = rural_city[[\"NAME\", \"STNAME\", \"POPESTIMATE2019\"]]\n",
    "urban_city = df[df[\"POPESTIMATE2019\"]>= 50000]\n",
    "urban_df = urban_city[[\"NAME\", \"STNAME\", \"POPESTIMATE2019\"]]\n",
    "urban_index = urban_df.loc[urban_df[\"NAME\"] == urban_df[\"STNAME\"]].index\n",
    "urban_clean = urban_df.drop(urban_index)\n",
    "random_urban_city = urban_clean[[\"NAME\", \"STNAME\",\"POPESTIMATE2019\"]].sample(n=100, random_state=1)\n",
    "random_rural_city = rural_df[[\"NAME\", \"STNAME\", \"POPESTIMATE2019\"]].sample(n=100, random_state=1)"
   ]
  },
  {
   "cell_type": "markdown",
   "metadata": {},
   "source": [
    "## Yelp API calls"
   ]
  },
  {
   "cell_type": "code",
   "execution_count": null,
   "metadata": {},
   "outputs": [],
   "source": [
    "# Looped through city and state names from the urban and rural dataframes to call Yelp API business search parameters.\n",
    "# Set search radius of each call to be 5 miles (standard delivery distance).\n",
    "# Used nested loop for offset parameter in order to pull multiple pages of results per search\n",
    "# For each loop, returned search term, city, state, lat, lng, rest. name, category, and transactions & assigned them to dict"
   ]
  },
  {
   "cell_type": "code",
   "execution_count": 437,
   "metadata": {},
   "outputs": [],
   "source": [
    "headers = {'Authorization': 'Bearer %s' % my_api_key}\n",
    "\n",
    "rural_dict = {\n",
    "    \"Searched\": [],\n",
    "    \"City\": [],\n",
    "    \"State\": [],\n",
    "    \"Lat\": [],\n",
    "    \"Lng\": [],\n",
    "    \"Restaurant\": [],\n",
    "    \"Category\": [],\n",
    "#     \"Category 2\": [],\n",
    "#     \"Category 3\": [],\n",
    "    \"Transactions\":[]\n",
    "}\n",
    "\n",
    "url='https://api.yelp.com/v3/businesses/search'\n",
    "offset = np.arange(0,950,50).tolist() \n",
    "\n",
    "for city, state in zip(random_rural_city[\"NAME\"], random_rural_city[\"STNAME\"]):\n",
    "    for i in range(len(offset)):\n",
    "        params = {\n",
    "            'location': f\"{city}, {state}\",\n",
    "            'radius': 8047,\n",
    "            'limit': 50,\n",
    "            'offset': offset[i]\n",
    "                 }\n",
    "        response = requests.get(url, params = params, headers = headers).json()\n",
    "        try:\n",
    "            for business in range(len(response[\"businesses\"])):\n",
    "                try:\n",
    "                    rural_dict[\"Searched\"].append(f\"{city}, {state}\")\n",
    "                    rural_dict[\"City\"].append(response[\"businesses\"][business][\"location\"][\"city\"])\n",
    "                    rural_dict[\"State\"].append(response[\"businesses\"][business][\"location\"][\"state\"])\n",
    "                    rural_dict[\"Lat\"].append(response[\"businesses\"][business][\"coordinates\"][\"latitude\"])\n",
    "                    rural_dict[\"Lng\"].append(response[\"businesses\"][business][\"coordinates\"][\"longitude\"])\n",
    "                    rural_dict[\"Restaurant\"].append(response[\"businesses\"][business][\"name\"])\n",
    "                    rural_dict[\"Category\"].append([response[\"businesses\"][business][\"categories\"][i][\"title\"] for i in range(len(response[\"businesses\"][business][\"categories\"]))])\n",
    "#                     rural_dict[\"Category\"].append(response[\"businesses\"][business][\"categories\"][0][\"title\"])\n",
    "#                     rural_dict[\"Category 2\"].append(response[\"businesses\"][business][\"categories\"][1][\"title\"])\n",
    "#                     rural_dict[\"Category 3\"].append(response[\"businesses\"][business][\"categories\"][2][\"title\"])\n",
    "                    rural_dict[\"Transactions\"].append(response[\"businesses\"][business][\"transactions\"])\n",
    "                except KeyError:\n",
    "                    rural_dict[\"Searched\"].append(\"No City Found\")\n",
    "                    rural_dict[\"City\"].append(\"No City Found\")\n",
    "                    rural_dict[\"State\"].append(\"No State Found\")\n",
    "                    rural_dict[\"Lat\"].append(\"No Lat Found\")\n",
    "                    rural_dict[\"Lng\"].append(\"No Lng Found\")\n",
    "                    rural_dict[\"Restaurant\"].append(\"No Restaurant Found\")\n",
    "                    rural_dict[\"Category\"].append(\"No Categories\")\n",
    "                    rural_dict[\"Transactions\"].append(\"No Transactions Found\")\n",
    "#                 except IndexError:\n",
    "#                     rural_dict[\"Category 2\"].append(\"\")\n",
    "#                     rural_dict[\"Category 3\"].append(\"\")\n",
    "        except KeyError:\n",
    "                pass"
   ]
  },
  {
   "cell_type": "code",
   "execution_count": 659,
   "metadata": {},
   "outputs": [
    {
     "data": {
      "text/html": [
       "<div>\n",
       "<style scoped>\n",
       "    .dataframe tbody tr th:only-of-type {\n",
       "        vertical-align: middle;\n",
       "    }\n",
       "\n",
       "    .dataframe tbody tr th {\n",
       "        vertical-align: top;\n",
       "    }\n",
       "\n",
       "    .dataframe thead th {\n",
       "        text-align: right;\n",
       "    }\n",
       "</style>\n",
       "<table border=\"1\" class=\"dataframe\">\n",
       "  <thead>\n",
       "    <tr style=\"text-align: right;\">\n",
       "      <th></th>\n",
       "      <th>Searched</th>\n",
       "      <th>City</th>\n",
       "      <th>State</th>\n",
       "      <th>Lat</th>\n",
       "      <th>Lng</th>\n",
       "      <th>Restaurant</th>\n",
       "      <th>Category</th>\n",
       "      <th>Transactions</th>\n",
       "    </tr>\n",
       "  </thead>\n",
       "  <tbody>\n",
       "    <tr>\n",
       "      <th>0</th>\n",
       "      <td>Elmendorf, Texas</td>\n",
       "      <td>San Antonio</td>\n",
       "      <td>TX</td>\n",
       "      <td>29.2827</td>\n",
       "      <td>-98.3945</td>\n",
       "      <td>Tom's Burgers</td>\n",
       "      <td>[Burgers, American (Traditional)]</td>\n",
       "      <td>[]</td>\n",
       "    </tr>\n",
       "    <tr>\n",
       "      <th>1</th>\n",
       "      <td>Elmendorf, Texas</td>\n",
       "      <td>San Antonio</td>\n",
       "      <td>TX</td>\n",
       "      <td>29.2671</td>\n",
       "      <td>-98.3049</td>\n",
       "      <td>Larry's Barbacoa</td>\n",
       "      <td>[Mexican, Barbeque]</td>\n",
       "      <td>[]</td>\n",
       "    </tr>\n",
       "    <tr>\n",
       "      <th>2</th>\n",
       "      <td>Elmendorf, Texas</td>\n",
       "      <td>San Antonio</td>\n",
       "      <td>TX</td>\n",
       "      <td>29.2804</td>\n",
       "      <td>-98.3324</td>\n",
       "      <td>Family Mexican Restaurant</td>\n",
       "      <td>[Mexican]</td>\n",
       "      <td>[]</td>\n",
       "    </tr>\n",
       "    <tr>\n",
       "      <th>3</th>\n",
       "      <td>Elmendorf, Texas</td>\n",
       "      <td>Floresville</td>\n",
       "      <td>TX</td>\n",
       "      <td>29.2429</td>\n",
       "      <td>-98.2654</td>\n",
       "      <td>Las Lagunas</td>\n",
       "      <td>[Mexican]</td>\n",
       "      <td>[]</td>\n",
       "    </tr>\n",
       "    <tr>\n",
       "      <th>4</th>\n",
       "      <td>Elmendorf, Texas</td>\n",
       "      <td>Floresville</td>\n",
       "      <td>TX</td>\n",
       "      <td>29.2214</td>\n",
       "      <td>-98.2588</td>\n",
       "      <td>Aurelia's Kitchen</td>\n",
       "      <td>[Mexican]</td>\n",
       "      <td>[]</td>\n",
       "    </tr>\n",
       "  </tbody>\n",
       "</table>\n",
       "</div>"
      ],
      "text/plain": [
       "           Searched         City State      Lat      Lng  \\\n",
       "0  Elmendorf, Texas  San Antonio    TX  29.2827 -98.3945   \n",
       "1  Elmendorf, Texas  San Antonio    TX  29.2671 -98.3049   \n",
       "2  Elmendorf, Texas  San Antonio    TX  29.2804 -98.3324   \n",
       "3  Elmendorf, Texas  Floresville    TX  29.2429 -98.2654   \n",
       "4  Elmendorf, Texas  Floresville    TX  29.2214 -98.2588   \n",
       "\n",
       "                  Restaurant                           Category Transactions  \n",
       "0              Tom's Burgers  [Burgers, American (Traditional)]           []  \n",
       "1           Larry's Barbacoa                [Mexican, Barbeque]           []  \n",
       "2  Family Mexican Restaurant                          [Mexican]           []  \n",
       "3                Las Lagunas                          [Mexican]           []  \n",
       "4          Aurelia's Kitchen                          [Mexican]           []  "
      ]
     },
     "execution_count": 659,
     "metadata": {},
     "output_type": "execute_result"
    }
   ],
   "source": [
    "#convert dict to dataframe\n",
    "rural = pd.DataFrame.from_dict(rural_dict, orient='index')\n",
    "rural = rural.transpose()\n",
    "rural.head()"
   ]
  },
  {
   "cell_type": "code",
   "execution_count": 434,
   "metadata": {},
   "outputs": [],
   "source": [
    "#urban API call loop\n",
    "\n",
    "headers = {'Authorization': 'Bearer %s' % my_api_key}\n",
    "\n",
    "urban_dict = {\n",
    "    \"Searched\": [],\n",
    "    \"City\": [],\n",
    "    \"State\": [],\n",
    "    \"Lat\": [],\n",
    "    \"Lng\": [],\n",
    "    \"Restaurant\": [],\n",
    "    \"Category\": [],\n",
    "#     \"Category 2\": [],\n",
    "#     \"Category 3\": [],\n",
    "    \"Transactions\":[]\n",
    "}\n",
    "\n",
    "url='https://api.yelp.com/v3/businesses/search'\n",
    "offset = np.arange(0,950,50).tolist() \n",
    "\n",
    "for city, state in zip(random_urban_city[\"NAME\"], random_urban_city[\"STNAME\"]):\n",
    "    for i in range(len(offset)):\n",
    "        params = {\n",
    "            'location': f\"{city}, {state}\",\n",
    "            'radius': 8047,\n",
    "            'limit': 50,\n",
    "            'offset': offset[i]\n",
    "                 }\n",
    "        response = requests.get(url, params = params, headers = headers).json()\n",
    "        try:\n",
    "            for business in range(len(response[\"businesses\"])):\n",
    "                try:\n",
    "                    urban_dict[\"Searched\"].append(f\"{city}, {state}\")\n",
    "                    urban_dict[\"City\"].append(response[\"businesses\"][business][\"location\"][\"city\"])\n",
    "                    urban_dict[\"State\"].append(response[\"businesses\"][business][\"location\"][\"state\"])\n",
    "                    urban_dict[\"Lat\"].append(response[\"businesses\"][business][\"coordinates\"][\"latitude\"])\n",
    "                    urban_dict[\"Lng\"].append(response[\"businesses\"][business][\"coordinates\"][\"longitude\"])\n",
    "                    urban_dict[\"Restaurant\"].append(response[\"businesses\"][business][\"name\"])\n",
    "                    urban_dict[\"Category\"].append([response[\"businesses\"][business][\"categories\"][i][\"title\"] for i in range(len(response[\"businesses\"][business][\"categories\"]))])\n",
    "#                     rural_dict[\"Category\"].append(response[\"businesses\"][business][\"categories\"][0][\"title\"])\n",
    "#                     rural_dict[\"Category 2\"].append(response[\"businesses\"][business][\"categories\"][1][\"title\"])\n",
    "#                     rural_dict[\"Category 3\"].append(response[\"businesses\"][business][\"categories\"][2][\"title\"])\n",
    "                    urban_dict[\"Transactions\"].append(response[\"businesses\"][business][\"transactions\"])\n",
    "                except KeyError:\n",
    "                    urban_dict[\"Searched\"].append(\"No City Found\")\n",
    "                    urban_dict[\"City\"].append(\"No City Found\")\n",
    "                    urban_dict[\"State\"].append(\"No State Found\")\n",
    "                    urban_dict[\"Lat\"].append(\"No Lat Found\")\n",
    "                    urban_dict[\"Lng\"].append(\"No Lng Found\")\n",
    "                    urban_dict[\"Restaurant\"].append(\"No Restaurant Found\")\n",
    "                    urban_dict[\"Category\"].append(\"No Categories\")\n",
    "                    urban_dict[\"Transactions\"].append(\"No Transactions Found\")\n",
    "#                 except IndexError:\n",
    "#                     rural_dict[\"Category 2\"].append(\"\")\n",
    "#                     rural_dict[\"Category 3\"].append(\"\")\n",
    "        except KeyError:\n",
    "                pass"
   ]
  },
  {
   "cell_type": "code",
   "execution_count": 660,
   "metadata": {},
   "outputs": [
    {
     "data": {
      "text/html": [
       "<div>\n",
       "<style scoped>\n",
       "    .dataframe tbody tr th:only-of-type {\n",
       "        vertical-align: middle;\n",
       "    }\n",
       "\n",
       "    .dataframe tbody tr th {\n",
       "        vertical-align: top;\n",
       "    }\n",
       "\n",
       "    .dataframe thead th {\n",
       "        text-align: right;\n",
       "    }\n",
       "</style>\n",
       "<table border=\"1\" class=\"dataframe\">\n",
       "  <thead>\n",
       "    <tr style=\"text-align: right;\">\n",
       "      <th></th>\n",
       "      <th>Searched</th>\n",
       "      <th>City</th>\n",
       "      <th>State</th>\n",
       "      <th>Lat</th>\n",
       "      <th>Lng</th>\n",
       "      <th>Restaurant</th>\n",
       "      <th>Category</th>\n",
       "      <th>Transactions</th>\n",
       "    </tr>\n",
       "  </thead>\n",
       "  <tbody>\n",
       "    <tr>\n",
       "      <th>0</th>\n",
       "      <td>Palm Beach Gardens, Florida</td>\n",
       "      <td>Palm Beach Gardens</td>\n",
       "      <td>FL</td>\n",
       "      <td>26.8363</td>\n",
       "      <td>-80.1044</td>\n",
       "      <td>Taco Chula</td>\n",
       "      <td>[Mexican]</td>\n",
       "      <td>[delivery]</td>\n",
       "    </tr>\n",
       "    <tr>\n",
       "      <th>1</th>\n",
       "      <td>Palm Beach Gardens, Florida</td>\n",
       "      <td>Palm Beach Gardens</td>\n",
       "      <td>FL</td>\n",
       "      <td>26.8391</td>\n",
       "      <td>-80.1096</td>\n",
       "      <td>Christopher's Kitchen</td>\n",
       "      <td>[Vegan, Juice Bars &amp; Smoothies, Pizza]</td>\n",
       "      <td>[delivery]</td>\n",
       "    </tr>\n",
       "    <tr>\n",
       "      <th>2</th>\n",
       "      <td>Palm Beach Gardens, Florida</td>\n",
       "      <td>Palm Beach Gardens</td>\n",
       "      <td>FL</td>\n",
       "      <td>26.8817</td>\n",
       "      <td>-80.1071</td>\n",
       "      <td>Coolinary Cafe</td>\n",
       "      <td>[American (New), Cafes]</td>\n",
       "      <td>[delivery]</td>\n",
       "    </tr>\n",
       "    <tr>\n",
       "      <th>3</th>\n",
       "      <td>Palm Beach Gardens, Florida</td>\n",
       "      <td>Palm Beach Gardens</td>\n",
       "      <td>FL</td>\n",
       "      <td>26.838</td>\n",
       "      <td>-80.1124</td>\n",
       "      <td>The Cooper</td>\n",
       "      <td>[American (Traditional), Bars, Breakfast &amp; Bru...</td>\n",
       "      <td>[delivery]</td>\n",
       "    </tr>\n",
       "    <tr>\n",
       "      <th>4</th>\n",
       "      <td>Palm Beach Gardens, Florida</td>\n",
       "      <td>Palm Beach Gardens</td>\n",
       "      <td>FL</td>\n",
       "      <td>26.8384</td>\n",
       "      <td>-80.1209</td>\n",
       "      <td>Salute Market</td>\n",
       "      <td>[Wine Bars, American (New), Tapas/Small Plates]</td>\n",
       "      <td>[delivery]</td>\n",
       "    </tr>\n",
       "  </tbody>\n",
       "</table>\n",
       "</div>"
      ],
      "text/plain": [
       "                      Searched                City State      Lat      Lng  \\\n",
       "0  Palm Beach Gardens, Florida  Palm Beach Gardens    FL  26.8363 -80.1044   \n",
       "1  Palm Beach Gardens, Florida  Palm Beach Gardens    FL  26.8391 -80.1096   \n",
       "2  Palm Beach Gardens, Florida  Palm Beach Gardens    FL  26.8817 -80.1071   \n",
       "3  Palm Beach Gardens, Florida  Palm Beach Gardens    FL   26.838 -80.1124   \n",
       "4  Palm Beach Gardens, Florida  Palm Beach Gardens    FL  26.8384 -80.1209   \n",
       "\n",
       "              Restaurant                                           Category  \\\n",
       "0             Taco Chula                                          [Mexican]   \n",
       "1  Christopher's Kitchen             [Vegan, Juice Bars & Smoothies, Pizza]   \n",
       "2         Coolinary Cafe                            [American (New), Cafes]   \n",
       "3             The Cooper  [American (Traditional), Bars, Breakfast & Bru...   \n",
       "4          Salute Market    [Wine Bars, American (New), Tapas/Small Plates]   \n",
       "\n",
       "  Transactions  \n",
       "0   [delivery]  \n",
       "1   [delivery]  \n",
       "2   [delivery]  \n",
       "3   [delivery]  \n",
       "4   [delivery]  "
      ]
     },
     "execution_count": 660,
     "metadata": {},
     "output_type": "execute_result"
    }
   ],
   "source": [
    "#convert dict to dataframe\n",
    "urban = pd.DataFrame.from_dict(urban_dict, orient='index')\n",
    "urban = urban.transpose()\n",
    "urban.head()"
   ]
  },
  {
   "cell_type": "code",
   "execution_count": 439,
   "metadata": {},
   "outputs": [],
   "source": [
    "#export dataframes to csv files\n",
    "urban.to_csv(\"../urban.csv\")\n",
    "rural.to_csv(\"../rural.csv\")"
   ]
  },
  {
   "cell_type": "markdown",
   "metadata": {},
   "source": [
    "## Subset and Transform API data"
   ]
  },
  {
   "cell_type": "code",
   "execution_count": 443,
   "metadata": {},
   "outputs": [],
   "source": [
    "#transform \"Category\" row list contents to individual columns and drop empty cells\n",
    "rural_cat= pd.DataFrame(rural[\"Category\"].to_list(), columns = [\"Category 1\", \"Category 2\", \"Category 3\", \"Category 4\", \"Category 5\", \"Category 6\"], index = rural.index)\n",
    "rural_cats = rural_cat[[\"Category 1\", \"Category 2\", \"Category 3\"]]\n",
    "rural_clean = rural.merge(rural_cats, left_index = True,right_index = True)"
   ]
  },
  {
   "cell_type": "code",
   "execution_count": 445,
   "metadata": {},
   "outputs": [],
   "source": [
    "#transform \"Category\" row list contents to individual columns and drop empty cells\n",
    "urban_cat= pd.DataFrame(urban[\"Category\"].to_list(), columns = [\"Category 1\", \"Category 2\", \"Category 3\", \"Category 4\"], index = urban.index)\n",
    "urban_cats = urban_cat[[\"Category 1\", \"Category 2\", \"Category 3\"]]\n",
    "urban_clean = urban.merge(urban_cats, left_index = True,right_index = True)\n"
   ]
  },
  {
   "cell_type": "code",
   "execution_count": 622,
   "metadata": {},
   "outputs": [
    {
     "data": {
      "text/html": [
       "<div>\n",
       "<style scoped>\n",
       "    .dataframe tbody tr th:only-of-type {\n",
       "        vertical-align: middle;\n",
       "    }\n",
       "\n",
       "    .dataframe tbody tr th {\n",
       "        vertical-align: top;\n",
       "    }\n",
       "\n",
       "    .dataframe thead th {\n",
       "        text-align: right;\n",
       "    }\n",
       "</style>\n",
       "<table border=\"1\" class=\"dataframe\">\n",
       "  <thead>\n",
       "    <tr style=\"text-align: right;\">\n",
       "      <th></th>\n",
       "      <th>Searched</th>\n",
       "      <th>City</th>\n",
       "      <th>State</th>\n",
       "      <th>Lat</th>\n",
       "      <th>Lng</th>\n",
       "      <th>Restaurant</th>\n",
       "      <th>Category</th>\n",
       "      <th>Transactions</th>\n",
       "      <th>Category 1</th>\n",
       "      <th>Category 2</th>\n",
       "      <th>Category 3</th>\n",
       "      <th>Vegan Options</th>\n",
       "    </tr>\n",
       "  </thead>\n",
       "  <tbody>\n",
       "    <tr>\n",
       "      <th>0</th>\n",
       "      <td>Palm Beach Gardens, Florida</td>\n",
       "      <td>Palm Beach Gardens</td>\n",
       "      <td>FL</td>\n",
       "      <td>26.8363</td>\n",
       "      <td>-80.1044</td>\n",
       "      <td>Taco Chula</td>\n",
       "      <td>[Mexican]</td>\n",
       "      <td>[delivery]</td>\n",
       "      <td>Mexican</td>\n",
       "      <td>None</td>\n",
       "      <td>None</td>\n",
       "      <td>0</td>\n",
       "    </tr>\n",
       "    <tr>\n",
       "      <th>1</th>\n",
       "      <td>Palm Beach Gardens, Florida</td>\n",
       "      <td>Palm Beach Gardens</td>\n",
       "      <td>FL</td>\n",
       "      <td>26.8391</td>\n",
       "      <td>-80.1096</td>\n",
       "      <td>Christopher's Kitchen</td>\n",
       "      <td>[Vegan, Juice Bars &amp; Smoothies, Pizza]</td>\n",
       "      <td>[delivery]</td>\n",
       "      <td>Vegan</td>\n",
       "      <td>Juice Bars &amp; Smoothies</td>\n",
       "      <td>Pizza</td>\n",
       "      <td>1</td>\n",
       "    </tr>\n",
       "    <tr>\n",
       "      <th>2</th>\n",
       "      <td>Palm Beach Gardens, Florida</td>\n",
       "      <td>Palm Beach Gardens</td>\n",
       "      <td>FL</td>\n",
       "      <td>26.8817</td>\n",
       "      <td>-80.1071</td>\n",
       "      <td>Coolinary Cafe</td>\n",
       "      <td>[American (New), Cafes]</td>\n",
       "      <td>[delivery]</td>\n",
       "      <td>American (New)</td>\n",
       "      <td>Cafes</td>\n",
       "      <td>None</td>\n",
       "      <td>0</td>\n",
       "    </tr>\n",
       "    <tr>\n",
       "      <th>3</th>\n",
       "      <td>Palm Beach Gardens, Florida</td>\n",
       "      <td>Palm Beach Gardens</td>\n",
       "      <td>FL</td>\n",
       "      <td>26.838</td>\n",
       "      <td>-80.1124</td>\n",
       "      <td>The Cooper</td>\n",
       "      <td>[American (Traditional), Bars, Breakfast &amp; Bru...</td>\n",
       "      <td>[delivery]</td>\n",
       "      <td>American (Traditional)</td>\n",
       "      <td>Bars</td>\n",
       "      <td>Breakfast &amp; Brunch</td>\n",
       "      <td>0</td>\n",
       "    </tr>\n",
       "    <tr>\n",
       "      <th>4</th>\n",
       "      <td>Palm Beach Gardens, Florida</td>\n",
       "      <td>Palm Beach Gardens</td>\n",
       "      <td>FL</td>\n",
       "      <td>26.8384</td>\n",
       "      <td>-80.1209</td>\n",
       "      <td>Salute Market</td>\n",
       "      <td>[Wine Bars, American (New), Tapas/Small Plates]</td>\n",
       "      <td>[delivery]</td>\n",
       "      <td>Wine Bars</td>\n",
       "      <td>American (New)</td>\n",
       "      <td>Tapas/Small Plates</td>\n",
       "      <td>0</td>\n",
       "    </tr>\n",
       "  </tbody>\n",
       "</table>\n",
       "</div>"
      ],
      "text/plain": [
       "                      Searched                City State      Lat      Lng  \\\n",
       "0  Palm Beach Gardens, Florida  Palm Beach Gardens    FL  26.8363 -80.1044   \n",
       "1  Palm Beach Gardens, Florida  Palm Beach Gardens    FL  26.8391 -80.1096   \n",
       "2  Palm Beach Gardens, Florida  Palm Beach Gardens    FL  26.8817 -80.1071   \n",
       "3  Palm Beach Gardens, Florida  Palm Beach Gardens    FL   26.838 -80.1124   \n",
       "4  Palm Beach Gardens, Florida  Palm Beach Gardens    FL  26.8384 -80.1209   \n",
       "\n",
       "              Restaurant                                           Category  \\\n",
       "0             Taco Chula                                          [Mexican]   \n",
       "1  Christopher's Kitchen             [Vegan, Juice Bars & Smoothies, Pizza]   \n",
       "2         Coolinary Cafe                            [American (New), Cafes]   \n",
       "3             The Cooper  [American (Traditional), Bars, Breakfast & Bru...   \n",
       "4          Salute Market    [Wine Bars, American (New), Tapas/Small Plates]   \n",
       "\n",
       "  Transactions              Category 1              Category 2  \\\n",
       "0   [delivery]                 Mexican                    None   \n",
       "1   [delivery]                   Vegan  Juice Bars & Smoothies   \n",
       "2   [delivery]          American (New)                   Cafes   \n",
       "3   [delivery]  American (Traditional)                    Bars   \n",
       "4   [delivery]               Wine Bars          American (New)   \n",
       "\n",
       "           Category 3  Vegan Options  \n",
       "0                None              0  \n",
       "1               Pizza              1  \n",
       "2                None              0  \n",
       "3  Breakfast & Brunch              0  \n",
       "4  Tapas/Small Plates              0  "
      ]
     },
     "execution_count": 622,
     "metadata": {},
     "output_type": "execute_result"
    }
   ],
   "source": [
    "urban_clean.head()"
   ]
  },
  {
   "cell_type": "code",
   "execution_count": 446,
   "metadata": {},
   "outputs": [],
   "source": [
    "#subset urban and rural dataframes to only vegan restaurants\n",
    "keywords = [\"Vegan\", \"vegan\"]\n",
    "rural_vegan = rural_clean[(rural_clean[\"Category 1\"].isin(keywords))|(rural_clean[\"Category 2\"].isin(keywords))|(rural_clean[\"Category 3\"].isin(keywords))]\n",
    "urban_vegan = urban_clean[(urban_clean[\"Category 1\"].isin(keywords))|(urban_clean[\"Category 2\"].isin(keywords))|(urban_clean[\"Category 3\"].isin(keywords))]"
   ]
  },
  {
   "cell_type": "code",
   "execution_count": 447,
   "metadata": {},
   "outputs": [],
   "source": [
    "#append new column to dataframe that identifies (true = 1, false = 0) if category cells within row contain keywords\n",
    "rural_clean[\"Vegan Options\"] = np.where(rural_clean[\"Category 1\"].isin(keywords)|rural_clean[\"Category 2\"].isin(keywords)|rural_clean[\"Category 3\"].isin(keywords), 1, 0)\n",
    "urban_clean[\"Vegan Options\"] = np.where(urban_clean[\"Category 1\"].isin(keywords)|urban_clean[\"Category 2\"].isin(keywords)|urban_clean[\"Category 3\"].isin(keywords), 1, 0)\n"
   ]
  },
  {
   "cell_type": "code",
   "execution_count": 448,
   "metadata": {},
   "outputs": [],
   "source": [
    "#export dataframe to csv\n",
    "rural_clean.to_csv(\"../Data Pull/rural_clean.csv\")\n",
    "urban_clean.to_csv(\"../Data Pull/urban_clean.csv\")"
   ]
  },
  {
   "cell_type": "markdown",
   "metadata": {},
   "source": [
    "## Merge Census 2019 population data with urban and rural yelp dataframes"
   ]
  },
  {
   "cell_type": "code",
   "execution_count": 450,
   "metadata": {},
   "outputs": [],
   "source": [
    "#add \"Searched\" column to census dataframe to have common column on which to join both dataframes\n",
    "df[\"Searched\"] = df[\"NAME\"] + \", \" + df[\"STNAME\"]"
   ]
  },
  {
   "cell_type": "code",
   "execution_count": 451,
   "metadata": {},
   "outputs": [],
   "source": [
    "rural_clean_pop = pd.merge(rural_clean, df[[\"POPESTIMATE2019\", \"Searched\"]],  how='left', on= \"Searched\")\n",
    "urban_clean_pop = pd.merge(urban_clean, df[[\"POPESTIMATE2019\", \"Searched\"]],  how='left', on= \"Searched\")\n",
    "urban_clean_pop.drop_duplicates(subset = ['Searched', 'Restaurant'], keep = 'first')\n",
    "rural_clean_pop.drop_duplicates(subset = ['Searched', 'Restaurant'], keep = 'first')\n",
    "urban_clean_pop.to_csv(\"../Data Pull/urban_clean_pop.csv\")\n",
    "rural_clean_pop.to_csv(\"../Data Pull/rural_clean_pop.csv\")"
   ]
  },
  {
   "cell_type": "code",
   "execution_count": 661,
   "metadata": {},
   "outputs": [
    {
     "data": {
      "text/html": [
       "<div>\n",
       "<style scoped>\n",
       "    .dataframe tbody tr th:only-of-type {\n",
       "        vertical-align: middle;\n",
       "    }\n",
       "\n",
       "    .dataframe tbody tr th {\n",
       "        vertical-align: top;\n",
       "    }\n",
       "\n",
       "    .dataframe thead th {\n",
       "        text-align: right;\n",
       "    }\n",
       "</style>\n",
       "<table border=\"1\" class=\"dataframe\">\n",
       "  <thead>\n",
       "    <tr style=\"text-align: right;\">\n",
       "      <th></th>\n",
       "      <th>Searched</th>\n",
       "      <th>Population</th>\n",
       "      <th>Total Restaurants</th>\n",
       "      <th>Vegan Restaurants</th>\n",
       "      <th>% Vegan Restaurants</th>\n",
       "      <th>Vegan Restaurants per capita</th>\n",
       "    </tr>\n",
       "  </thead>\n",
       "  <tbody>\n",
       "    <tr>\n",
       "      <th>0</th>\n",
       "      <td>Americus, Georgia</td>\n",
       "      <td>15108</td>\n",
       "      <td>52</td>\n",
       "      <td>0</td>\n",
       "      <td>0.000000</td>\n",
       "      <td>0.000000</td>\n",
       "    </tr>\n",
       "    <tr>\n",
       "      <th>1</th>\n",
       "      <td>Anchorage, Kentucky</td>\n",
       "      <td>2423</td>\n",
       "      <td>508</td>\n",
       "      <td>2</td>\n",
       "      <td>0.393701</td>\n",
       "      <td>0.000825</td>\n",
       "    </tr>\n",
       "    <tr>\n",
       "      <th>2</th>\n",
       "      <td>Anderson, California</td>\n",
       "      <td>10630</td>\n",
       "      <td>73</td>\n",
       "      <td>0</td>\n",
       "      <td>0.000000</td>\n",
       "      <td>0.000000</td>\n",
       "    </tr>\n",
       "    <tr>\n",
       "      <th>3</th>\n",
       "      <td>Ansonia, Ohio</td>\n",
       "      <td>1121</td>\n",
       "      <td>4</td>\n",
       "      <td>0</td>\n",
       "      <td>0.000000</td>\n",
       "      <td>0.000000</td>\n",
       "    </tr>\n",
       "    <tr>\n",
       "      <th>4</th>\n",
       "      <td>Anthony, New Mexico</td>\n",
       "      <td>9239</td>\n",
       "      <td>35</td>\n",
       "      <td>0</td>\n",
       "      <td>0.000000</td>\n",
       "      <td>0.000000</td>\n",
       "    </tr>\n",
       "  </tbody>\n",
       "</table>\n",
       "</div>"
      ],
      "text/plain": [
       "               Searched  Population  Total Restaurants  Vegan Restaurants  \\\n",
       "0     Americus, Georgia       15108                 52                  0   \n",
       "1   Anchorage, Kentucky        2423                508                  2   \n",
       "2  Anderson, California       10630                 73                  0   \n",
       "3         Ansonia, Ohio        1121                  4                  0   \n",
       "4   Anthony, New Mexico        9239                 35                  0   \n",
       "\n",
       "   % Vegan Restaurants  Vegan Restaurants per capita  \n",
       "0             0.000000                      0.000000  \n",
       "1             0.393701                      0.000825  \n",
       "2             0.000000                      0.000000  \n",
       "3             0.000000                      0.000000  \n",
       "4             0.000000                      0.000000  "
      ]
     },
     "execution_count": 661,
     "metadata": {},
     "output_type": "execute_result"
    }
   ],
   "source": [
    "#group by location searched\n",
    "rural_group = rural_clean_pop.groupby(\"Searched\")\n",
    "\n",
    "#create variables based on data from grouped df\n",
    "rural_rest_count = rural_group[\"Restaurant\"].count()\n",
    "rural_vegan_count = rural_group[\"Vegan Options\"].sum()\n",
    "rural_pop = rural_group[\"POPESTIMATE2019\"].max()\n",
    "vegan_pct = rural_vegan_count/rural_rest_count * 100\n",
    "vegan_percap = rural_vegan_count/rural_pop\n",
    "\n",
    "#create dataframe from dict of lists\n",
    "rural_summary = pd.DataFrame({\n",
    "    \"Population\" : rural_pop,\n",
    "    \"Total Restaurants\" : rural_rest_count,\n",
    "    \"Vegan Restaurants\" : rural_vegan_count,\n",
    "    \"% Vegan Restaurants\" : vegan_pct,\n",
    "    \"Vegan Restaurants per capita\" : vegan_percap\n",
    "})\n",
    "\n",
    "#reset index and export to csv\n",
    "rural_summary = rural_summary.reset_index()\n",
    "rural_summary.to_csv(\"../Data Pull/rural_summary.csv\")\n",
    "rural_summary.head()"
   ]
  },
  {
   "cell_type": "code",
   "execution_count": 662,
   "metadata": {},
   "outputs": [
    {
     "data": {
      "text/html": [
       "<div>\n",
       "<style scoped>\n",
       "    .dataframe tbody tr th:only-of-type {\n",
       "        vertical-align: middle;\n",
       "    }\n",
       "\n",
       "    .dataframe tbody tr th {\n",
       "        vertical-align: top;\n",
       "    }\n",
       "\n",
       "    .dataframe thead th {\n",
       "        text-align: right;\n",
       "    }\n",
       "</style>\n",
       "<table border=\"1\" class=\"dataframe\">\n",
       "  <thead>\n",
       "    <tr style=\"text-align: right;\">\n",
       "      <th></th>\n",
       "      <th>Searched</th>\n",
       "      <th>Population</th>\n",
       "      <th>Total Restaurants</th>\n",
       "      <th>Vegan Restaurants</th>\n",
       "      <th>% Vegan Restaurants</th>\n",
       "      <th>Vegan Restaurants per capita</th>\n",
       "    </tr>\n",
       "  </thead>\n",
       "  <tbody>\n",
       "    <tr>\n",
       "      <th>0</th>\n",
       "      <td>Asheville, North Carolina</td>\n",
       "      <td>92870</td>\n",
       "      <td>688</td>\n",
       "      <td>5</td>\n",
       "      <td>0.726744</td>\n",
       "      <td>0.000054</td>\n",
       "    </tr>\n",
       "    <tr>\n",
       "      <th>1</th>\n",
       "      <td>Auburn, Washington</td>\n",
       "      <td>81464</td>\n",
       "      <td>441</td>\n",
       "      <td>0</td>\n",
       "      <td>0.000000</td>\n",
       "      <td>0.000000</td>\n",
       "    </tr>\n",
       "    <tr>\n",
       "      <th>2</th>\n",
       "      <td>Aurora, Illinois</td>\n",
       "      <td>197757</td>\n",
       "      <td>423</td>\n",
       "      <td>0</td>\n",
       "      <td>0.000000</td>\n",
       "      <td>0.000000</td>\n",
       "    </tr>\n",
       "    <tr>\n",
       "      <th>3</th>\n",
       "      <td>Austin, Texas</td>\n",
       "      <td>978908</td>\n",
       "      <td>950</td>\n",
       "      <td>26</td>\n",
       "      <td>2.736842</td>\n",
       "      <td>0.000027</td>\n",
       "    </tr>\n",
       "    <tr>\n",
       "      <th>4</th>\n",
       "      <td>Baldwin Park, California</td>\n",
       "      <td>75251</td>\n",
       "      <td>950</td>\n",
       "      <td>7</td>\n",
       "      <td>0.736842</td>\n",
       "      <td>0.000093</td>\n",
       "    </tr>\n",
       "  </tbody>\n",
       "</table>\n",
       "</div>"
      ],
      "text/plain": [
       "                    Searched  Population  Total Restaurants  \\\n",
       "0  Asheville, North Carolina       92870                688   \n",
       "1         Auburn, Washington       81464                441   \n",
       "2           Aurora, Illinois      197757                423   \n",
       "3              Austin, Texas      978908                950   \n",
       "4   Baldwin Park, California       75251                950   \n",
       "\n",
       "   Vegan Restaurants  % Vegan Restaurants  Vegan Restaurants per capita  \n",
       "0                  5             0.726744                      0.000054  \n",
       "1                  0             0.000000                      0.000000  \n",
       "2                  0             0.000000                      0.000000  \n",
       "3                 26             2.736842                      0.000027  \n",
       "4                  7             0.736842                      0.000093  "
      ]
     },
     "execution_count": 662,
     "metadata": {},
     "output_type": "execute_result"
    }
   ],
   "source": [
    "#group by location searched\n",
    "urban_group = urban_clean_pop.groupby(\"Searched\")\n",
    "\n",
    "#create variables based on data from grouped df\n",
    "urban_rest_count = urban_group[\"Restaurant\"].count()\n",
    "urban_vegan_count = urban_group[\"Vegan Options\"].sum()\n",
    "urban_pop = urban_group[\"POPESTIMATE2019\"].max()\n",
    "vegan_pct = urban_vegan_count/urban_rest_count * 100\n",
    "vegan_percap = urban_vegan_count/urban_pop\n",
    "\n",
    "#create dataframe from dict of lists\n",
    "urban_summary = pd.DataFrame({\n",
    "    \"Population\" : urban_pop,\n",
    "    \"Total Restaurants\" : urban_rest_count,\n",
    "    \"Vegan Restaurants\" : urban_vegan_count,\n",
    "    \"% Vegan Restaurants\" : vegan_pct,\n",
    "    \"Vegan Restaurants per capita\" : vegan_percap\n",
    "})\n",
    "\n",
    "#reset index and export to csv\n",
    "urban_summary.to_csv(\"../Data Pull/urban_summary.csv\")\n",
    "urban_summary = urban_summary.reset_index()\n",
    "urban_summary.head()\n"
   ]
  },
  {
   "cell_type": "code",
   "execution_count": 460,
   "metadata": {},
   "outputs": [
    {
     "data": {
      "text/html": [
       "<div>\n",
       "<style scoped>\n",
       "    .dataframe tbody tr th:only-of-type {\n",
       "        vertical-align: middle;\n",
       "    }\n",
       "\n",
       "    .dataframe tbody tr th {\n",
       "        vertical-align: top;\n",
       "    }\n",
       "\n",
       "    .dataframe thead th {\n",
       "        text-align: right;\n",
       "    }\n",
       "</style>\n",
       "<table border=\"1\" class=\"dataframe\">\n",
       "  <thead>\n",
       "    <tr style=\"text-align: right;\">\n",
       "      <th></th>\n",
       "      <th>Cities</th>\n",
       "      <th>Avg Population</th>\n",
       "      <th>Avg Restaurants</th>\n",
       "      <th>Avg Vegan Restaurants</th>\n",
       "      <th>Avg % Vegan Restaurants</th>\n",
       "      <th>Avg Vegan Restaurants per capita</th>\n",
       "    </tr>\n",
       "  </thead>\n",
       "  <tbody>\n",
       "    <tr>\n",
       "      <th>Total</th>\n",
       "      <td>100</td>\n",
       "      <td>140131</td>\n",
       "      <td>551</td>\n",
       "      <td>4</td>\n",
       "      <td>0.53%</td>\n",
       "      <td>0.000035</td>\n",
       "    </tr>\n",
       "  </tbody>\n",
       "</table>\n",
       "</div>"
      ],
      "text/plain": [
       "       Cities  Avg Population  Avg Restaurants  Avg Vegan Restaurants  \\\n",
       "Total     100          140131              551                      4   \n",
       "\n",
       "      Avg % Vegan Restaurants  Avg Vegan Restaurants per capita  \n",
       "Total                   0.53%                          0.000035  "
      ]
     },
     "execution_count": 460,
     "metadata": {},
     "output_type": "execute_result"
    }
   ],
   "source": [
    "#create avgerage summary dataframe\n",
    "urban_tot_cities = urban_summary[\"Searched\"].nunique()\n",
    "urban_tot_pop = urban_summary[\"Population\"].mean()\n",
    "urban_tot_rest = urban_summary[\"Total Restaurants\"].mean()\n",
    "urban_tot_vegan = urban_summary[\"Vegan Restaurants\"].mean()\n",
    "urban_tot_per = urban_summary[\"% Vegan Restaurants\"].mean()\n",
    "urban_tot_percap = urban_summary[\"Vegan Restaurants per capita\"].mean()\n",
    "\n",
    "urban_tot_summary = pd.DataFrame({\n",
    "    \"Cities\": urban_tot_cities,\n",
    "    \"Avg Population\": round(urban_tot_pop),\n",
    "    \"Avg Restaurants\": round(urban_tot_rest),\n",
    "    \"Avg Vegan Restaurants\": round(urban_tot_vegan),\n",
    "    \"Avg % Vegan Restaurants\": urban_tot_per,\n",
    "    \"Avg Vegan Restaurants per capita\": urban_tot_percap\n",
    "     \n",
    "}, index = [\"Total\"])\n",
    "\n",
    "urban_tot_summary[\"Avg % Vegan Restaurants\"] = urban_tot_summary[\"Avg % Vegan Restaurants\"].map(\"{:.2f}%\".format)\n",
    "urban_tot_summary\n",
    "\n"
   ]
  },
  {
   "cell_type": "code",
   "execution_count": null,
   "metadata": {},
   "outputs": [],
   "source": [
    "#create avgerage summary dataframe\n",
    "urban_tot_cities = urban_summary[\"Searched\"].nunique()\n",
    "urban_tot_pop = urban_summary[\"Population\"].sum()\n",
    "urban_tot_rest = urban_summary[\"Total Restaurants\"].sum()\n",
    "urban_tot_vegan = urban_summary[\"Vegan Restaurants\"].sum()\n",
    "urban_tot_per = (urban_tot_vegan/urban_tot_rest) * 100\n",
    "urban_tot_percap = urban_tot_vegan/urban_tot_pop\n",
    "\n",
    "urban_tot_summary = pd.DataFrame({\n",
    "    \"Cities\": urban_tot_cities,\n",
    "    \"Tot Population\": round(urban_tot_pop),\n",
    "    \"Tot Restaurants\": round(urban_tot_rest),\n",
    "    \"TOt Vegan Restaurants\": round(urban_tot_vegan),\n",
    "    \"Avg % Vegan Restaurants\": urban_tot_per,\n",
    "    \"Avg Vegan Restaurants per capita\": urban_tot_percap\n",
    "     \n",
    "}, index = [\"Total\"])\n",
    "\n",
    "urban_tot_summary[\"Avg % Vegan Restaurants\"] = urban_tot_summary[\"Avg % Vegan Restaurants\"].map(\"{:.2f}%\".format)\n",
    "urban_tot_summary\n",
    "\n"
   ]
  },
  {
   "cell_type": "code",
   "execution_count": 461,
   "metadata": {},
   "outputs": [
    {
     "data": {
      "text/html": [
       "<div>\n",
       "<style scoped>\n",
       "    .dataframe tbody tr th:only-of-type {\n",
       "        vertical-align: middle;\n",
       "    }\n",
       "\n",
       "    .dataframe tbody tr th {\n",
       "        vertical-align: top;\n",
       "    }\n",
       "\n",
       "    .dataframe thead th {\n",
       "        text-align: right;\n",
       "    }\n",
       "</style>\n",
       "<table border=\"1\" class=\"dataframe\">\n",
       "  <thead>\n",
       "    <tr style=\"text-align: right;\">\n",
       "      <th></th>\n",
       "      <th>Cities</th>\n",
       "      <th>Avg Population</th>\n",
       "      <th>Avg Restaurants</th>\n",
       "      <th>Avg Vegan Restaurants</th>\n",
       "      <th>Avg % Vegan Restaurants</th>\n",
       "      <th>Avg Vegan Restaurants per capita</th>\n",
       "    </tr>\n",
       "  </thead>\n",
       "  <tbody>\n",
       "    <tr>\n",
       "      <th>Total</th>\n",
       "      <td>98</td>\n",
       "      <td>6973</td>\n",
       "      <td>141</td>\n",
       "      <td>1</td>\n",
       "      <td>0.18%</td>\n",
       "      <td>0.000121</td>\n",
       "    </tr>\n",
       "  </tbody>\n",
       "</table>\n",
       "</div>"
      ],
      "text/plain": [
       "       Cities  Avg Population  Avg Restaurants  Avg Vegan Restaurants  \\\n",
       "Total      98            6973              141                      1   \n",
       "\n",
       "      Avg % Vegan Restaurants  Avg Vegan Restaurants per capita  \n",
       "Total                   0.18%                          0.000121  "
      ]
     },
     "execution_count": 461,
     "metadata": {},
     "output_type": "execute_result"
    }
   ],
   "source": [
    "#create avgerage summary dataframe\n",
    "rural_tot_cities = rural_summary[\"Searched\"].nunique()\n",
    "rural_tot_pop = rural_summary[\"Population\"].mean()\n",
    "rural_tot_rest = rural_summary[\"Total Restaurants\"].mean()\n",
    "rural_tot_vegan = rural_summary[\"Vegan Restaurants\"].mean()\n",
    "rural_tot_per = rural_summary[\"% Vegan Restaurants\"].mean()\n",
    "rural_tot_percap = rural_summary[\"Vegan Restaurants per capita\"].mean()\n",
    "\n",
    "rural_tot_summary = pd.DataFrame({\n",
    "    \"Cities\": rural_tot_cities,\n",
    "    \"Avg Population\": round(rural_tot_pop),\n",
    "    \"Avg Restaurants\": round(rural_tot_rest),\n",
    "    \"Avg Vegan Restaurants\": round(rural_tot_vegan),\n",
    "    \"Avg % Vegan Restaurants\": rural_tot_per,\n",
    "    \"Avg Vegan Restaurants per capita\": rural_tot_percap\n",
    "     \n",
    "}, index = [\"Total\"])\n",
    "\n",
    "rural_tot_summary[\"Avg % Vegan Restaurants\"] = rural_tot_summary[\"Avg % Vegan Restaurants\"].map(\"{:.2f}%\".format)\n",
    "rural_tot_summary\n"
   ]
  },
  {
   "cell_type": "markdown",
   "metadata": {},
   "source": [
    "## Pie Charts"
   ]
  },
  {
   "cell_type": "code",
   "execution_count": 539,
   "metadata": {},
   "outputs": [
    {
     "data": {
      "image/png": "[encoded data removed]",
      "text/plain": [
       "<Figure size 720x720 with 2 Axes>"
      ]
     },
     "metadata": {},
     "output_type": "display_data"
    }
   ],
   "source": [
    "#create pie charts of vegan vs non-vegan restaurant counts in Urban and Rural datasets\n",
    "rural_veg_group = rural_clean_pop.groupby(\"Vegan Options\")\n",
    "urban_veg_group = urban_clean_pop.groupby(\"Vegan Options\")\n",
    "rural_veg = rural_veg_group[\"Vegan Options\"].count()\n",
    "urban_veg = urban_veg_group[\"Vegan Options\"].count()\n",
    "all_labels = [\"Non-Vegan\", \"Vegan\"]\n",
    "explode = (0, 0.2)\n",
    "fig, (ax1,ax2) = plt.subplots(1,2, figsize =(10,10))\n",
    "ax1.pie(urban_veg, explode = explode, labels = all_labels, autopct = \"%1.2f%%\", pctdistance = 0.3, shadow = True, startangle =135, textprops = {'weight': 'bold', 'ha':'left'})\n",
    "ax2.pie(rural_veg, explode = explode, labels = all_labels, autopct = \"%1.2f%%\", pctdistance = 0.3, shadow = True, startangle =135, textprops = {'weight': 'bold', 'ha':'left'})\n",
    "ax1.set_title(\"Urban Restaurants\")\n",
    "ax2.set_title(\"Rural Restaurants\")\n",
    "\n",
    "plt.savefig(\"../Images/piechart.jpg\", dpi = 100)\n",
    "plt.show()\n"
   ]
  },
  {
   "cell_type": "markdown",
   "metadata": {},
   "source": [
    "## Scatter plot"
   ]
  },
  {
   "cell_type": "code",
   "execution_count": 542,
   "metadata": {},
   "outputs": [
    {
     "name": "stdout",
     "output_type": "stream",
     "text": [
      "The correlation coefficient is 0.43\n"
     ]
    },
    {
     "data": {
      "image/png": "[encoded data removed]",
      "text/plain": [
       "<Figure size 432x288 with 1 Axes>"
      ]
     },
     "metadata": {
      "needs_background": "light"
     },
     "output_type": "display_data"
    }
   ],
   "source": [
    "#create scatter plots comparing area population and count of vegan restaurants\n",
    "urban_scatter = urban_summary[[\"Population\", \"Vegan Restaurants\"]]\n",
    "urban_scatter.plot(x=\"Population\", y = \"Vegan Restaurants\", kind = \"scatter\", title = \"Urban Population vs Vegan Options\")\n",
    "correlation = st.pearsonr(urban_summary[\"Population\"], urban_summary[\"Vegan Restaurants\"])\n",
    "print(f\"The correlation coefficient is {round(correlation[0],2)}\")\n",
    "plt.show()"
   ]
  },
  {
   "cell_type": "code",
   "execution_count": 670,
   "metadata": {},
   "outputs": [
    {
     "name": "stdout",
     "output_type": "stream",
     "text": [
      "The r-value is: 0.43393336395681886 & the correlation coefficient is 0.3\n"
     ]
    },
    {
     "data": {
      "image/png": "[encoded data removed]",
      "text/plain": [
       "<Figure size 432x288 with 1 Axes>"
      ]
     },
     "metadata": {
      "needs_background": "light"
     },
     "output_type": "display_data"
    }
   ],
   "source": [
    "x_val = urban_summary[\"Population\"]\n",
    "y_val = urban_summary[\"Vegan Restaurants\"]\n",
    "(slope, intercept, rvalue, pvalue, stderr) = st.linregress(x_val, y_val)\n",
    "regress = slope * x_val + intercept\n",
    "eq = f\"y = {slope}x + {round(intercept,2)}\"\n",
    "urban_scatter.plot(x = \"Population\", y = \"Vegan Restaurants\", kind = \"scatter\", title = \"Urban Population vs Vegan Options\")\n",
    "plt.plot(x_val, regress, \"r-\")\n",
    "plt.annotate(eq, (400000,5), color =\"r\")\n",
    "print(f\"The r-value is: {rvalue} & the correlation coefficient is {round(correlation[0],2)}\")\n",
    "plt.savefig(\"../Images/urbanscatter.jpg\", dpi = 100)\n",
    "plt.show()"
   ]
  },
  {
   "cell_type": "code",
   "execution_count": null,
   "metadata": {},
   "outputs": [],
   "source": [
    "## plot shows a weak positive correlation between population and number of vegan restaurants in urban areas"
   ]
  },
  {
   "cell_type": "code",
   "execution_count": 547,
   "metadata": {},
   "outputs": [
    {
     "name": "stdout",
     "output_type": "stream",
     "text": [
      "The correlation coefficient is 0.3\n"
     ]
    },
    {
     "data": {
      "image/png": "[encoded data removed]",
      "text/plain": [
       "<Figure size 432x288 with 1 Axes>"
      ]
     },
     "metadata": {
      "needs_background": "light"
     },
     "output_type": "display_data"
    }
   ],
   "source": [
    "rural_scatter = rural_summary[[\"Population\", \"Vegan Restaurants\"]]\n",
    "rural_scatter.plot(x=\"Population\", y = \"Vegan Restaurants\", kind = \"scatter\", title = \"Rural Population vs Vegan Options\")\n",
    "correlation = st.pearsonr(rural_summary[\"Population\"], rural_summary[\"Vegan Restaurants\"])\n",
    "print(f\"The correlation coefficient is {round(correlation[0],2)}\")\n",
    "plt.show()"
   ]
  },
  {
   "cell_type": "code",
   "execution_count": 667,
   "metadata": {},
   "outputs": [
    {
     "name": "stdout",
     "output_type": "stream",
     "text": [
      "The r-value is: 0.30166056212192144 & the correlation coefficient is 0.3\n"
     ]
    },
    {
     "data": {
      "image/png": "[encoded data removed]",
      "text/plain": [
       "<Figure size 432x288 with 1 Axes>"
      ]
     },
     "metadata": {
      "needs_background": "light"
     },
     "output_type": "display_data"
    }
   ],
   "source": [
    "x_val = rural_summary[\"Population\"]\n",
    "y_val = rural_summary[\"Vegan Restaurants\"]\n",
    "(slope, intercept, rvalue, pvalue, stderr) = linregress(x_val, y_val)\n",
    "regress = slope * x_val + intercept\n",
    "eq = f\"y = {slope}x + {round(intercept,2)}\"\n",
    "rural_scatter.plot(x = \"Population\", y = \"Vegan Restaurants\", kind = \"scatter\", title = \"Rural Population vs Vegan Options\")\n",
    "plt.plot(x_val, regress, \"r-\")\n",
    "plt.annotate(eq, (12000,2.5), color =\"r\")\n",
    "print(f\"The r-value is: {rvalue} & the correlation coefficient is {round(correlation[0],2)}\")\n",
    "plt.savefig(\"../Images/ruralscatter.jpg\", dpi = 100)\n",
    "plt.show()"
   ]
  },
  {
   "cell_type": "code",
   "execution_count": null,
   "metadata": {},
   "outputs": [],
   "source": [
    "## plot shows a weak positive correlation between population and number of vegan restaurants in rural areas"
   ]
  },
  {
   "cell_type": "markdown",
   "metadata": {},
   "source": [
    "## Google Heat Maps"
   ]
  },
  {
   "cell_type": "code",
   "execution_count": 51,
   "metadata": {},
   "outputs": [],
   "source": [
    "gmaps.configure(api_key = gkey)\n",
    "urban_locations = pd.read_csv(\"../Data Pull/urban_clean.csv\", index_col=0)\n",
    "rural_locations = pd.read_csv(\"../Data Pull/rural_clean.csv\", index_col=0)\n",
    "rural_locations_df = rural_locations.copy()\n",
    "rural_locations_df = rural_locations_df[rural_locations_df['Lat'] > 0]\n",
    "urban_locations_df = urban_locations.copy()\n",
    "urban_locations_df = urban_locations_df[urban_locations_df['Lat'] > 0]"
   ]
  },
  {
   "cell_type": "code",
   "execution_count": 52,
   "metadata": {},
   "outputs": [
    {
     "data": {
      "application/vnd.jupyter.widget-view+json": {
       "model_id": "844972e23ca64a1fb7e008b351cbac46",
       "version_major": 2,
       "version_minor": 0
      },
      "text/plain": [
       "Figure(layout=FigureLayout(height='420px'))"
      ]
     },
     "metadata": {},
     "output_type": "display_data"
    }
   ],
   "source": [
    "rural_rest = rural_locations_df[\"Vegan Options\"].astype(float)\n",
    "rlocations = rural_locations_df[[\"Lat\", \"Lng\"]].astype(float)\n",
    "\n",
    "rural_fig = gmaps.figure()\n",
    "\n",
    "heat_layer = gmaps.heatmap_layer(rlocations, weights=rural_rest, \n",
    "                                 dissipating=False, max_intensity=100,\n",
    "                                 point_radius = 1)\n",
    "rural_fig.add_layer(heat_layer)\n",
    "rural_fig"
   ]
  },
  {
   "cell_type": "code",
   "execution_count": 53,
   "metadata": {},
   "outputs": [
    {
     "data": {
      "application/vnd.jupyter.widget-view+json": {
       "model_id": "2a04fd020a064d69b861770f84c99b7e",
       "version_major": 2,
       "version_minor": 0
      },
      "text/plain": [
       "Figure(layout=FigureLayout(height='420px'))"
      ]
     },
     "metadata": {},
     "output_type": "display_data"
    }
   ],
   "source": [
    "urban_rest = urban_locations_df[\"Vegan Options\"].astype(float)\n",
    "ulocations = urban_locations_df[[\"Lat\", \"Lng\"]].astype(float)\n",
    "\n",
    "urban_fig = gmaps.figure()\n",
    "\n",
    "heat_layer = gmaps.heatmap_layer(ulocations, weights=urban_rest, \n",
    "                                 dissipating=False, max_intensity=100,\n",
    "                                 point_radius = 1)\n",
    "urban_fig.add_layer(heat_layer)\n",
    "urban_fig\n",
    "    "
   ]
  },
  {
   "cell_type": "code",
   "execution_count": 56,
   "metadata": {},
   "outputs": [
    {
     "data": {
      "application/vnd.jupyter.widget-view+json": {
       "model_id": "1b970aeaeb544aeb988bb1a1a197bfc1",
       "version_major": 2,
       "version_minor": 0
      },
      "text/plain": [
       "Figure(layout=FigureLayout(height='420px'))"
      ]
     },
     "metadata": {},
     "output_type": "display_data"
    }
   ],
   "source": [
    "combined = gmaps.figure()\n",
    "\n",
    "urban_layer = gmaps.heatmap_layer(ulocations, weights=urban_rest, \n",
    "                                 dissipating=False, max_intensity=100,\n",
    "                                 point_radius = 1)\n",
    "rural_layer = gmaps.heatmap_layer(rlocations, weights=rural_rest, \n",
    "                                 dissipating=False, max_intensity=100,\n",
    "                                 point_radius = 1)\n",
    "\n",
    "combined.add_layer(urban_layer)\n",
    "combined.add_layer(rural_layer)\n",
    "combined"
   ]
  },
  {
   "cell_type": "code",
   "execution_count": 38,
   "metadata": {},
   "outputs": [],
   "source": [
    "#plot location of vegan restaurants from urban and rural datasets \n",
    "urban_veg = urban_locations_df[urban_locations_df[\"Vegan Options\"] == 1][[\"Restaurant\",\"City\",\"State\",\"Lat\",\"Lng\"]]\n",
    "rural_veg = rural_locations_df[rural_locations_df[\"Vegan Options\"] == 1][[\"Restaurant\",\"City\",\"State\",\"Lat\",\"Lng\"]]\n",
    "veg_loc = pd.concat([urban_veg, rural_veg])"
   ]
  },
  {
   "cell_type": "code",
   "execution_count": 39,
   "metadata": {},
   "outputs": [
    {
     "data": {
      "application/vnd.jupyter.widget-view+json": {
       "model_id": "a4830ed48d09422aa2949a936c89c1ee",
       "version_major": 2,
       "version_minor": 0
      },
      "text/plain": [
       "Figure(layout=FigureLayout(height='420px'))"
      ]
     },
     "metadata": {},
     "output_type": "display_data"
    }
   ],
   "source": [
    "info_box_template = \"\"\"\n",
    "<dl>\n",
    "<dt>Name</dt><dd>{Restaurant}</dd>\n",
    "<dt>City</dt><dd>{City}</dd>\n",
    "<dt>State</dt><dd>{State}</dd>\n",
    "</dl>\n",
    "\"\"\"\n",
    "veganrest_info = [info_box_template.format(**row) for index, row in veg_loc.iterrows()]\n",
    "locations = veg_loc[[\"Lat\", \"Lng\"]]\n",
    "\n",
    "fig = gmaps.figure()\n",
    "marker_layer = gmaps.marker_layer(locations, info_box_content=veganrest_info)\n",
    "fig.add_layer(marker_layer)\n",
    "\n",
    "fig"
   ]
  },
  {
   "cell_type": "markdown",
   "metadata": {},
   "source": [
    "## Bar Charts"
   ]
  },
  {
   "cell_type": "code",
   "execution_count": 60,
   "metadata": {},
   "outputs": [
    {
     "data": {
      "text/html": [
       "<div>\n",
       "<style scoped>\n",
       "    .dataframe tbody tr th:only-of-type {\n",
       "        vertical-align: middle;\n",
       "    }\n",
       "\n",
       "    .dataframe tbody tr th {\n",
       "        vertical-align: top;\n",
       "    }\n",
       "\n",
       "    .dataframe thead th {\n",
       "        text-align: right;\n",
       "    }\n",
       "</style>\n",
       "<table border=\"1\" class=\"dataframe\">\n",
       "  <thead>\n",
       "    <tr style=\"text-align: right;\">\n",
       "      <th></th>\n",
       "      <th>Searched</th>\n",
       "      <th>Population</th>\n",
       "      <th>Total Restaurants</th>\n",
       "      <th>Vegan Restaurants</th>\n",
       "      <th>% Vegan Restaurants</th>\n",
       "      <th>Vegan Restaurants per capita</th>\n",
       "    </tr>\n",
       "  </thead>\n",
       "  <tbody>\n",
       "    <tr>\n",
       "      <th>6</th>\n",
       "      <td>Berkeley, California</td>\n",
       "      <td>121363</td>\n",
       "      <td>950</td>\n",
       "      <td>27</td>\n",
       "      <td>2.842105</td>\n",
       "      <td>0.000222</td>\n",
       "    </tr>\n",
       "    <tr>\n",
       "      <th>3</th>\n",
       "      <td>Austin, Texas</td>\n",
       "      <td>978908</td>\n",
       "      <td>950</td>\n",
       "      <td>26</td>\n",
       "      <td>2.736842</td>\n",
       "      <td>0.000027</td>\n",
       "    </tr>\n",
       "    <tr>\n",
       "      <th>61</th>\n",
       "      <td>Oakland, California</td>\n",
       "      <td>433031</td>\n",
       "      <td>950</td>\n",
       "      <td>21</td>\n",
       "      <td>2.210526</td>\n",
       "      <td>0.000048</td>\n",
       "    </tr>\n",
       "    <tr>\n",
       "      <th>27</th>\n",
       "      <td>Fountain Valley, California</td>\n",
       "      <td>55357</td>\n",
       "      <td>950</td>\n",
       "      <td>18</td>\n",
       "      <td>1.894737</td>\n",
       "      <td>0.000325</td>\n",
       "    </tr>\n",
       "    <tr>\n",
       "      <th>28</th>\n",
       "      <td>Garden Grove, California</td>\n",
       "      <td>171644</td>\n",
       "      <td>950</td>\n",
       "      <td>17</td>\n",
       "      <td>1.789474</td>\n",
       "      <td>0.000099</td>\n",
       "    </tr>\n",
       "  </tbody>\n",
       "</table>\n",
       "</div>"
      ],
      "text/plain": [
       "                       Searched  Population  Total Restaurants  \\\n",
       "6          Berkeley, California      121363                950   \n",
       "3                 Austin, Texas      978908                950   \n",
       "61          Oakland, California      433031                950   \n",
       "27  Fountain Valley, California       55357                950   \n",
       "28     Garden Grove, California      171644                950   \n",
       "\n",
       "    Vegan Restaurants  % Vegan Restaurants  Vegan Restaurants per capita  \n",
       "6                  27             2.842105                      0.000222  \n",
       "3                  26             2.736842                      0.000027  \n",
       "61                 21             2.210526                      0.000048  \n",
       "27                 18             1.894737                      0.000325  \n",
       "28                 17             1.789474                      0.000099  "
      ]
     },
     "execution_count": 60,
     "metadata": {},
     "output_type": "execute_result"
    }
   ],
   "source": [
    "top_5_urban =urban_summary.nlargest(5, [\"Vegan Restaurants\"])\n",
    "top_5_urban"
   ]
  },
  {
   "cell_type": "code",
   "execution_count": 592,
   "metadata": {},
   "outputs": [
    {
     "data": {
      "image/png": "[encoded data removed]",
      "text/plain": [
       "<Figure size 432x288 with 1 Axes>"
      ]
     },
     "metadata": {
      "needs_background": "light"
     },
     "output_type": "display_data"
    }
   ],
   "source": [
    "cities =  top_5_urban[\"Searched\"]\n",
    "vegan_rest= top_5_urban[\"Vegan Restaurants\"]\n",
    "\n",
    "#Create a bar chart of the data\n",
    "plt.bar(cities, vegan_rest, color = \"blue\")\n",
    "#Create titles\n",
    "plt.xlabel(\"City\")\n",
    "plt.ylabel(\"Number of Restaurants with Vegan Options\")\n",
    "plt.title(\"Urban Cities with the Highest Number of Vegan Friendly Restaurants\")\n",
    "plt.xticks(rotation = \"vertical\")\n",
    "plt.savefig(\"../Images/Urban Cities with the Highest Number of Vegan Friendly Restaurants.png\",bbox_inches='tight')\n",
    "plt.show()"
   ]
  },
  {
   "cell_type": "code",
   "execution_count": 595,
   "metadata": {},
   "outputs": [
    {
     "data": {
      "image/png": "[encoded data removed]",
      "text/plain": [
       "<Figure size 432x288 with 1 Axes>"
      ]
     },
     "metadata": {
      "needs_background": "light"
     },
     "output_type": "display_data"
    }
   ],
   "source": [
    "# Generate a bar plot showing the population vs. top 5 cities \n",
    "\n",
    "cities =  top_5_urban[\"Searched\"]\n",
    "population = top_5_urban[\"Population\"]\n",
    "\n",
    "#Create a bar chart of the data\n",
    "plt.bar(cities, population, color = \"blue\")\n",
    "#Create titles\n",
    "plt.xlabel(\"City\")\n",
    "plt.ylabel(\"Population\")\n",
    "plt.title(\"Population of Urban Cities with the Highest Number of Vegan Friendly Restaurants\")\n",
    "plt.xticks(rotation = \"vertical\")\n",
    "plt.savefig(\"../Images/Population of Urban Cities with the Highest Number of Vegan Friendly Restaurants.png\",bbox_inches='tight')\n",
    "plt.show()"
   ]
  },
  {
   "cell_type": "code",
   "execution_count": 598,
   "metadata": {},
   "outputs": [
    {
     "data": {
      "image/png": "[encoded data removed]",
      "text/plain": [
       "<Figure size 432x288 with 1 Axes>"
      ]
     },
     "metadata": {
      "needs_background": "light"
     },
     "output_type": "display_data"
    }
   ],
   "source": [
    "# Generate a bar plot showing the vegan options per capita vs. city name\n",
    "top_5_urban_percap = urban_summary.nlargest(5, [\"Vegan Restaurants per capita\"])\n",
    "cities =  top_5_urban_percap[\"Searched\"]\n",
    "per_capita = top_5_urban_percap[\"Vegan Restaurants per capita\"]\n",
    "\n",
    "#Create a bar chart of the data\n",
    "plt.bar(cities, per_capita, color = \"blue\")\n",
    "#Create titles\n",
    "plt.xlabel(\"City\")\n",
    "plt.ylabel(\"Vegan Restaurants Per Capita\")\n",
    "plt.title(\"Vegan Restaurants Per Capita in Urban Cities with Highest Number of Vegan Friendly Restaurants\")\n",
    "plt.xticks(rotation = \"vertical\")\n",
    "plt.savefig(\"../Images/Vegan Restaurants Per Capita in Urban Cities with Highest Number of Vegan Friendly Restaurants.png\",bbox_inches='tight')\n",
    "plt.show()"
   ]
  },
  {
   "cell_type": "code",
   "execution_count": 61,
   "metadata": {},
   "outputs": [
    {
     "data": {
      "text/html": [
       "<div>\n",
       "<style scoped>\n",
       "    .dataframe tbody tr th:only-of-type {\n",
       "        vertical-align: middle;\n",
       "    }\n",
       "\n",
       "    .dataframe tbody tr th {\n",
       "        vertical-align: top;\n",
       "    }\n",
       "\n",
       "    .dataframe thead th {\n",
       "        text-align: right;\n",
       "    }\n",
       "</style>\n",
       "<table border=\"1\" class=\"dataframe\">\n",
       "  <thead>\n",
       "    <tr style=\"text-align: right;\">\n",
       "      <th></th>\n",
       "      <th>Unnamed: 0</th>\n",
       "      <th>Searched</th>\n",
       "      <th>Population</th>\n",
       "      <th>Total Restaurants</th>\n",
       "      <th>Vegan Restaurants</th>\n",
       "      <th>% Vegan Restaurants</th>\n",
       "      <th>Vegan Restaurants per capita</th>\n",
       "    </tr>\n",
       "  </thead>\n",
       "  <tbody>\n",
       "    <tr>\n",
       "      <th>87</th>\n",
       "      <td>87</td>\n",
       "      <td>Washington Park, Illinois</td>\n",
       "      <td>3865</td>\n",
       "      <td>950</td>\n",
       "      <td>9</td>\n",
       "      <td>0.947368</td>\n",
       "      <td>0.002329</td>\n",
       "    </tr>\n",
       "    <tr>\n",
       "      <th>74</th>\n",
       "      <td>74</td>\n",
       "      <td>Riviera Beach, Florida</td>\n",
       "      <td>35463</td>\n",
       "      <td>713</td>\n",
       "      <td>8</td>\n",
       "      <td>1.122020</td>\n",
       "      <td>0.000226</td>\n",
       "    </tr>\n",
       "    <tr>\n",
       "      <th>56</th>\n",
       "      <td>56</td>\n",
       "      <td>Mission, Kansas</td>\n",
       "      <td>9911</td>\n",
       "      <td>950</td>\n",
       "      <td>6</td>\n",
       "      <td>0.631579</td>\n",
       "      <td>0.000605</td>\n",
       "    </tr>\n",
       "    <tr>\n",
       "      <th>37</th>\n",
       "      <td>37</td>\n",
       "      <td>Haledon, New Jersey</td>\n",
       "      <td>8293</td>\n",
       "      <td>950</td>\n",
       "      <td>5</td>\n",
       "      <td>0.526316</td>\n",
       "      <td>0.000603</td>\n",
       "    </tr>\n",
       "    <tr>\n",
       "      <th>64</th>\n",
       "      <td>64</td>\n",
       "      <td>Ocean Ridge, Florida</td>\n",
       "      <td>1956</td>\n",
       "      <td>604</td>\n",
       "      <td>5</td>\n",
       "      <td>0.827815</td>\n",
       "      <td>0.002556</td>\n",
       "    </tr>\n",
       "  </tbody>\n",
       "</table>\n",
       "</div>"
      ],
      "text/plain": [
       "    Unnamed: 0                   Searched  Population  Total Restaurants  \\\n",
       "87          87  Washington Park, Illinois        3865                950   \n",
       "74          74     Riviera Beach, Florida       35463                713   \n",
       "56          56            Mission, Kansas        9911                950   \n",
       "37          37        Haledon, New Jersey        8293                950   \n",
       "64          64       Ocean Ridge, Florida        1956                604   \n",
       "\n",
       "    Vegan Restaurants  % Vegan Restaurants  Vegan Restaurants per capita  \n",
       "87                  9             0.947368                      0.002329  \n",
       "74                  8             1.122020                      0.000226  \n",
       "56                  6             0.631579                      0.000605  \n",
       "37                  5             0.526316                      0.000603  \n",
       "64                  5             0.827815                      0.002556  "
      ]
     },
     "execution_count": 61,
     "metadata": {},
     "output_type": "execute_result"
    }
   ],
   "source": [
    "top_5_rural =rural_summary.nlargest(5, [\"Vegan Restaurants\"])\n",
    "top_5_rural"
   ]
  },
  {
   "cell_type": "code",
   "execution_count": 601,
   "metadata": {},
   "outputs": [
    {
     "data": {
      "image/png": "[encoded data removed]",
      "text/plain": [
       "<Figure size 432x288 with 1 Axes>"
      ]
     },
     "metadata": {
      "needs_background": "light"
     },
     "output_type": "display_data"
    }
   ],
   "source": [
    "# Generate a bar plot showing the number of restaurants with vegan options vs. city name\n",
    "\n",
    "rural_cities =  top_5_rural[\"Searched\"]\n",
    "rural_vegan_rest= top_5_rural[\"Vegan Restaurants\"]\n",
    "\n",
    "#Create a bar chart of the data\n",
    "plt.bar(rural_cities, rural_vegan_rest, color = \"red\")\n",
    "#Create titles\n",
    "plt.xlabel(\"City\")\n",
    "plt.ylabel(\"Number of Restaurants with Vegan Options\")\n",
    "plt.title(\"Rural Cities with the Highest Number of Vegan Friendly Restaurants\")\n",
    "plt.xticks(rotation = \"vertical\")\n",
    "plt.savefig(\"../Images/Rural Cities with the Highest Number of Vegan Friendly Restaurants.png\",bbox_inches='tight')\n",
    "plt.show()"
   ]
  },
  {
   "cell_type": "code",
   "execution_count": 63,
   "metadata": {},
   "outputs": [
    {
     "data": {
      "image/png": "[encoded data removed]",
      "text/plain": [
       "<Figure size 432x288 with 1 Axes>"
      ]
     },
     "metadata": {
      "needs_background": "light"
     },
     "output_type": "display_data"
    }
   ],
   "source": [
    "# Generate a bar plot showing the number of restaurants with vegan options vs. city name\n",
    "\n",
    "rural_cities =  top_5_rural[\"Searched\"]\n",
    "rural_vegan_rest= top_5_rural[\"Vegan Restaurants\"]\n",
    "rural_pop = top_5_rural[\"Population\"]\n",
    "#Create a bar chart of the data\n",
    "plt.bar(rural_cities, rural_pop, color = \"red\")\n",
    "#Create titles\n",
    "plt.xlabel(\"City\")\n",
    "plt.ylabel(\"Population\")\n",
    "plt.title(\"Population of Rural Cities with the Highest Number of Vegan Friendly Restaurants\")\n",
    "plt.xticks(rotation = \"vertical\")\n",
    "plt.savefig(\"../Images/Population of Rural Cities with the Highest Number of Vegan Friendly Restaurants.png\",bbox_inches='tight')\n",
    "plt.show()"
   ]
  },
  {
   "cell_type": "code",
   "execution_count": 603,
   "metadata": {},
   "outputs": [
    {
     "data": {
      "image/png": "[encoded data removed]",
      "text/plain": [
       "<Figure size 432x288 with 1 Axes>"
      ]
     },
     "metadata": {
      "needs_background": "light"
     },
     "output_type": "display_data"
    }
   ],
   "source": [
    "# Generate a bar plot showing the vegan options per capita vs. city name\n",
    "top_5_rural_percap = rural_summary.nlargest(5, [\"Vegan Restaurants per capita\"])\n",
    "cities =  top_5_rural_percap[\"Searched\"]\n",
    "per_capita = top_5_rural_percap[\"Vegan Restaurants per capita\"]\n",
    "\n",
    "#Create a bar chart of the data\n",
    "plt.bar(cities, per_capita, color = \"red\")\n",
    "#Create titles\n",
    "plt.xlabel(\"City\")\n",
    "plt.ylabel(\"Vegan Restaurants Per Capita\")\n",
    "plt.title(\"Vegan Restaurants Per Capita in Rural Cities with Highest Number of Vegan Friendly Restaurants\")\n",
    "plt.xticks(rotation = \"vertical\")\n",
    "plt.savefig(\"../Images/Vegan Restaurants Per Capita in Rural Cities with Highest Number of Vegan Friendly Restaurants.png\",bbox_inches='tight')\n",
    "plt.show()"
   ]
  },
  {
   "cell_type": "markdown",
   "metadata": {},
   "source": [
    "## T-Test"
   ]
  },
  {
   "cell_type": "code",
   "execution_count": 657,
   "metadata": {},
   "outputs": [],
   "source": [
    "urban_percapita = urban_summary[\"Vegan Restaurants per capita\"].tolist()\n",
    "rural_percapita = rural_summary[\"Vegan Restaurants per capita\"].tolist()\n"
   ]
  },
  {
   "cell_type": "code",
   "execution_count": 658,
   "metadata": {},
   "outputs": [
    {
     "name": "stdout",
     "output_type": "stream",
     "text": [
      "The p-value is: 6.473808292231837e-06\n"
     ]
    }
   ],
   "source": [
    "st.ttest_ind(urban_percapita, rural_percapita, equal_var=False)\n",
    "print(f\"The p-value is: {pvalue}\")"
   ]
  },
  {
   "cell_type": "code",
   "execution_count": null,
   "metadata": {},
   "outputs": [],
   "source": [
    "# p-value of 6.5 e-06 suggests we can reject the null hypothesis and conclude that the number of vegan resturants in an area\n",
    "# correlated with an increase in population"
   ]
  }
 ],
 "metadata": {
  "kernelspec": {
   "display_name": "Python 3",
   "language": "python",
   "name": "python3"
  },
  "language_info": {
   "codemirror_mode": {
    "name": "ipython",
    "version": 3
   },
   "file_extension": ".py",
   "mimetype": "text/x-python",
   "name": "python",
   "nbconvert_exporter": "python",
   "pygments_lexer": "ipython3",
   "version": "3.8.3"
  }
 },
 "nbformat": 4,
 "nbformat_minor": 4
}
