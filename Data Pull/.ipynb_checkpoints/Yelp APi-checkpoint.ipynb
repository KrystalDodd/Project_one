{
 "cells": [
  {
   "cell_type": "code",
   "execution_count": 2,
   "metadata": {},
   "outputs": [],
   "source": [
    "import matplotlib.pyplot as plt\n",
    "import pandas as pd\n",
    "import numpy as np\n",
    "from scipy.stats import linregress\n",
    "from yelp.client import Client\n",
    "import json\n",
    "from ratelimit import limits\n",
    "import requests\n",
    "import csv\n",
    "import random\n",
    "from keys import my_api_key"
   ]
  },
  {
   "cell_type": "code",
   "execution_count": 4,
   "metadata": {},
   "outputs": [],
   "source": [
    "df = pd.read_csv(\"../sub-est2019_all.csv\", engine='python')\n",
    "rural_city = df[(df[\"POPESTIMATE2019\"]< 50000) & (df[\"POPESTIMATE2019\"] > 1000) & (df[\"PRIMGEO_FLAG\"]==0)]\n",
    "rural_df = rural_city[[\"NAME\", \"STNAME\", \"POPESTIMATE2019\"]]\n",
    "urban_city = df[df[\"POPESTIMATE2019\"]>= 50000]\n",
    "urban_df = urban_city[[\"NAME\", \"STNAME\", \"POPESTIMATE2019\"]]\n",
    "urban_index = urban_df.loc[urban_df[\"NAME\"] == urban_df[\"STNAME\"]].index\n",
    "urban_clean = urban_df.drop(urban_index)\n",
    "random_urban_city = urban_clean[[\"NAME\", \"STNAME\",\"POPESTIMATE2019\"]].sample(n=100, random_state=1)\n",
    "random_rural_city = rural_df[[\"NAME\", \"STNAME\", \"POPESTIMATE2019\"]].sample(n=100, random_state=1)"
   ]
  },
  {
   "cell_type": "code",
   "execution_count": 5,
   "metadata": {},
   "outputs": [],
   "source": [
    "headers = {'Authorization': 'Bearer %s' % my_api_key}\n",
    "\n",
    "rural_dict = {\n",
    "    \"Searched\": [],\n",
    "    \"City\": [],\n",
    "    \"State\": [],\n",
    "    \"Lat\": [],\n",
    "    \"Lng\": [],\n",
    "    \"Restaurant\": [],\n",
    "    \"Category\": [],\n",
    "#     \"Category 2\": [],\n",
    "#     \"Category 3\": [],\n",
    "    \"Transactions\":[]\n",
    "}\n",
    "\n",
    "url='https://api.yelp.com/v3/businesses/search'\n",
    "offset = np.arange(0,950,50).tolist() \n",
    "\n",
    "for city, state in zip(random_rural_city[\"NAME\"], random_rural_city[\"STNAME\"]):\n",
    "    for i in range(len(offset)):\n",
    "        params = {\n",
    "            'location': f\"{city}, {state}\",\n",
    "            'radius': 8047,\n",
    "            'limit': 50,\n",
    "            'offset': offset[i]\n",
    "                 }\n",
    "        response = requests.get(url, params = params, headers = headers).json()\n",
    "        try:\n",
    "            for business in range(len(response[\"businesses\"])):\n",
    "                try:\n",
    "                    rural_dict[\"Searched\"].append(f\"{city}, {state}\")\n",
    "                    rural_dict[\"City\"].append(response[\"businesses\"][business][\"location\"][\"city\"])\n",
    "                    rural_dict[\"State\"].append(response[\"businesses\"][business][\"location\"][\"state\"])\n",
    "                    rural_dict[\"Lat\"].append(response[\"businesses\"][business][\"coordinates\"][\"latitude\"])\n",
    "                    rural_dict[\"Lng\"].append(response[\"businesses\"][business][\"coordinates\"][\"longitude\"])\n",
    "                    rural_dict[\"Restaurant\"].append(response[\"businesses\"][business][\"name\"])\n",
    "                    rural_dict[\"Category\"].append([response[\"businesses\"][business][\"categories\"][i][\"title\"] for i in range(len(response[\"businesses\"][business][\"categories\"]))])\n",
    "#                     rural_dict[\"Category\"].append(response[\"businesses\"][business][\"categories\"][0][\"title\"])\n",
    "#                     rural_dict[\"Category 2\"].append(response[\"businesses\"][business][\"categories\"][1][\"title\"])\n",
    "#                     rural_dict[\"Category 3\"].append(response[\"businesses\"][business][\"categories\"][2][\"title\"])\n",
    "                    rural_dict[\"Transactions\"].append(response[\"businesses\"][business][\"transactions\"])\n",
    "                except KeyError:\n",
    "                    rural_dict[\"Searched\"].append(\"No City Found\")\n",
    "                    rural_dict[\"City\"].append(\"No City Found\")\n",
    "                    rural_dict[\"State\"].append(\"No State Found\")\n",
    "                    rural_dict[\"Lat\"].append(\"No Lat Found\")\n",
    "                    rural_dict[\"Lng\"].append(\"No Lng Found\")\n",
    "                    rural_dict[\"Restaurant\"].append(\"No Restaurant Found\")\n",
    "                    rural_dict[\"Category\"].append(\"No Categories\")\n",
    "                    rural_dict[\"Transactions\"].append(\"No Transactions Found\")\n",
    "#                 except IndexError:\n",
    "#                     rural_dict[\"Category 2\"].append(\"\")\n",
    "#                     rural_dict[\"Category 3\"].append(\"\")\n",
    "        except KeyError:\n",
    "                pass"
   ]
  },
  {
   "cell_type": "code",
   "execution_count": 6,
   "metadata": {},
   "outputs": [],
   "source": [
    "rural = pd.DataFrame.from_dict(rural_dict, orient='index')\n",
    "rural = rural.transpose()"
   ]
  },
  {
   "cell_type": "code",
   "execution_count": 7,
   "metadata": {},
   "outputs": [],
   "source": [
    "headers = {'Authorization': 'Bearer %s' % my_api_key}\n",
    "\n",
    "urban_dict = {\n",
    "    \"Searched\": [],\n",
    "    \"City\": [],\n",
    "    \"State\": [],\n",
    "    \"Lat\": [],\n",
    "    \"Lng\": [],\n",
    "    \"Restaurant\": [],\n",
    "    \"Category\": [],\n",
    "#     \"Category 2\": [],\n",
    "#     \"Category 3\": [],\n",
    "    \"Transactions\":[]\n",
    "}\n",
    "\n",
    "url='https://api.yelp.com/v3/businesses/search'\n",
    "offset = np.arange(0,950,50).tolist() \n",
    "\n",
    "for city, state in zip(random_urban_city[\"NAME\"], random_urban_city[\"STNAME\"]):\n",
    "    for i in range(len(offset)):\n",
    "        params = {\n",
    "            'location': f\"{city}, {state}\",\n",
    "            'radius': 8047,\n",
    "            'limit': 50,\n",
    "            'offset': offset[i]\n",
    "                 }\n",
    "        response = requests.get(url, params = params, headers = headers).json()\n",
    "        try:\n",
    "            for business in range(len(response[\"businesses\"])):\n",
    "                try:\n",
    "                    urban_dict[\"Searched\"].append(f\"{city}, {state}\")\n",
    "                    urban_dict[\"City\"].append(response[\"businesses\"][business][\"location\"][\"city\"])\n",
    "                    urban_dict[\"State\"].append(response[\"businesses\"][business][\"location\"][\"state\"])\n",
    "                    urban_dict[\"Lat\"].append(response[\"businesses\"][business][\"coordinates\"][\"latitude\"])\n",
    "                    urban_dict[\"Lng\"].append(response[\"businesses\"][business][\"coordinates\"][\"longitude\"])\n",
    "                    urban_dict[\"Restaurant\"].append(response[\"businesses\"][business][\"name\"])\n",
    "                    urban_dict[\"Category\"].append([response[\"businesses\"][business][\"categories\"][i][\"title\"] for i in range(len(response[\"businesses\"][business][\"categories\"]))])\n",
    "#                     rural_dict[\"Category\"].append(response[\"businesses\"][business][\"categories\"][0][\"title\"])\n",
    "#                     rural_dict[\"Category 2\"].append(response[\"businesses\"][business][\"categories\"][1][\"title\"])\n",
    "#                     rural_dict[\"Category 3\"].append(response[\"businesses\"][business][\"categories\"][2][\"title\"])\n",
    "                    urban_dict[\"Transactions\"].append(response[\"businesses\"][business][\"transactions\"])\n",
    "                except KeyError:\n",
    "                    urban_dict[\"Searched\"].append(\"No City Found\")\n",
    "                    urban_dict[\"City\"].append(\"No City Found\")\n",
    "                    urban_dict[\"State\"].append(\"No State Found\")\n",
    "                    urban_dict[\"Lat\"].append(\"No Lat Found\")\n",
    "                    urban_dict[\"Lng\"].append(\"No Lng Found\")\n",
    "                    urban_dict[\"Restaurant\"].append(\"No Restaurant Found\")\n",
    "                    urban_dict[\"Category\"].append(\"No Categories\")\n",
    "                    urban_dict[\"Transactions\"].append(\"No Transactions Found\")\n",
    "#                 except IndexError:\n",
    "#                     rural_dict[\"Category 2\"].append(\"\")\n",
    "#                     rural_dict[\"Category 3\"].append(\"\")\n",
    "        except KeyError:\n",
    "                pass"
   ]
  },
  {
   "cell_type": "code",
   "execution_count": 8,
   "metadata": {},
   "outputs": [],
   "source": [
    "urban = pd.DataFrame.from_dict(urban_dict, orient='index')\n",
    "urban = urban.transpose()"
   ]
  },
  {
   "cell_type": "code",
   "execution_count": 9,
   "metadata": {},
   "outputs": [],
   "source": [
    "urban.to_csv(\"../urban.csv\")\n",
    "rural.to_csv(\"../rural.csv\")"
   ]
  },
  {
   "cell_type": "code",
   "execution_count": 10,
   "metadata": {},
   "outputs": [],
   "source": [
    "rural_cat= pd.DataFrame(rural[\"Category\"].to_list(), columns = [\"Category 1\", \"Category 2\", \"Category 3\", \"Category 4\", \"Category 5\", \"Category 6\"], index = rural.index)\n",
    "rural_cats = rural_cat[[\"Category 1\", \"Category 2\", \"Category 3\"]]\n",
    "rural_clean = rural.merge(rural_cats, left_index = True,right_index = True)"
   ]
  },
  {
   "cell_type": "code",
   "execution_count": 11,
   "metadata": {},
   "outputs": [],
   "source": [
    "urban_cat= pd.DataFrame(urban[\"Category\"].to_list(), columns = [\"Category 1\", \"Category 2\", \"Category 3\", \"Category 4\"], index = urban.index)\n",
    "urban_cats = urban_cat[[\"Category 1\", \"Category 2\", \"Category 3\"]]\n",
    "urban_clean = urban.merge(urban_cats, left_index = True,right_index = True)"
   ]
  },
  {
   "cell_type": "code",
   "execution_count": 130,
   "metadata": {},
   "outputs": [],
   "source": [
    "keywords = [\"Vegan\", \"vegan\"]\n",
    "rural_vegan = rural_clean[(rural_clean[\"Category 1\"].isin(keywords))|(rural_clean[\"Category 2\"].isin(keywords))|(rural_clean[\"Category 3\"].isin(keywords))]\n",
    "urban_vegan = urban_clean[(urban_clean[\"Category 1\"].isin(keywords))|(urban_clean[\"Category 2\"].isin(keywords))|(urban_clean[\"Category 3\"].isin(keywords))]"
   ]
  },
  {
   "cell_type": "code",
   "execution_count": 131,
   "metadata": {},
   "outputs": [],
   "source": [
    "rural_clean[\"Vegan Options\"] = np.where(rural_clean[\"Category 1\"].isin(keywords)|rural_clean[\"Category 2\"].isin(keywords)|rural_clean[\"Category 3\"].isin(keywords), 1, 0)\n",
    "rural_clean.to_csv(\"../Data Pull/rural_clean.csv\")"
   ]
  },
  {
   "cell_type": "code",
   "execution_count": 132,
   "metadata": {},
   "outputs": [],
   "source": [
    "urban_clean[\"Vegan Options\"] = np.where(urban_clean[\"Category 1\"].isin(keywords)|urban_clean[\"Category 2\"].isin(keywords)|urban_clean[\"Category 3\"].isin(keywords), 1, 0)\n",
    "urban_clean.to_csv(\"../Data Pull/urban_clean.csv\")"
   ]
  },
  {
   "cell_type": "code",
   "execution_count": 133,
   "metadata": {},
   "outputs": [],
   "source": [
    "urban_clean.to_csv(\"../Data Pull/urban_clean.csv\")\n",
    "rural_clean.to_csv(\"../Data Pull/rural_clean.csv\")"
   ]
  },
  {
   "cell_type": "code",
   "execution_count": 134,
   "metadata": {},
   "outputs": [],
   "source": [
    "df[\"Searched\"] = df[\"NAME\"] + \", \" + df[\"STNAME\"]"
   ]
  },
  {
   "cell_type": "code",
   "execution_count": 135,
   "metadata": {},
   "outputs": [],
   "source": [
    "rural_clean_pop = pd.merge(rural_clean, df[[\"POPESTIMATE2019\", \"Searched\"]],  how='left', on= \"Searched\")\n",
    "urban_clean_pop = pd.merge(urban_clean, df[[\"POPESTIMATE2019\", \"Searched\"]],  how='left', on= \"Searched\")"
   ]
  },
  {
   "cell_type": "code",
   "execution_count": 141,
   "metadata": {},
   "outputs": [],
   "source": [
    "rural_group = rural_clean_pop.groupby(\"Searched\")\n",
    "\n",
    "rural_rest_count = rural_group[\"Restaurant\"].count()\n",
    "rural_vegan_count = rural_group[\"Vegan Options\"].sum()\n",
    "rural_pop = rural_group[\"POPESTIMATE2019\"].max()\n",
    "vegan_pct = rural_vegan_count/rural_rest_count * 100\n",
    "vegan_percap = rural_vegan_count/rural_pop\n",
    "\n",
    "rural_summary = pd.DataFrame({\n",
    "    \"Population\" : rural_pop,\n",
    "    \"Total Restaurants\" : rural_rest_count,\n",
    "    \"Restaurants w/ Vegan Options\" : rural_vegan_count,\n",
    "    \"% Vegan Options\" : vegan_pct,\n",
    "    \"Vegan Options per captia\" : vegan_percap\n",
    "})\n",
    "\n",
    "rural_summary[\"% Vegan Options\"] = rural_summary[\"% Vegan Options\"].map(\"{:.0f}%\".format)\n",
    "rural_summary.to_csv(\"../Data Pull/rural_summary.csv\")"
   ]
  },
  {
   "cell_type": "code",
   "execution_count": 142,
   "metadata": {},
   "outputs": [],
   "source": [
    "urban_group = urban_clean_pop.groupby(\"Searched\")\n",
    "\n",
    "urban_rest_count = urban_group[\"Restaurant\"].count()\n",
    "urban_vegan_count = urban_group[\"Vegan Options\"].sum()\n",
    "urban_pop = urban_group[\"POPESTIMATE2019\"].max()\n",
    "vegan_pct = urban_vegan_count/urban_rest_count * 100\n",
    "vegan_percap = urban_vegan_count/urban_pop\n",
    "\n",
    "urban_summary = pd.DataFrame({\n",
    "    \"Population\" : urban_pop,\n",
    "    \"Total Restaurants\" : urban_rest_count,\n",
    "    \"Restaurants w/ Vegan Options\" : urban_vegan_count,\n",
    "    \"% Vegan Options\" : vegan_pct,\n",
    "    \"Vegan Options per captia\" : vegan_percap\n",
    "})\n",
    "\n",
    "urban_summary[\"% Vegan Options\"] = urban_summary[\"% Vegan Options\"].map(\"{:.0f}%\".format)\n",
    "\n",
    "urban_summary.to_csv(\"../Data Pull/urban_summary.csv\")"
   ]
  },
  {
   "cell_type": "code",
   "execution_count": null,
   "metadata": {},
   "outputs": [],
   "source": [
    "urban_tot_cities = urban_summary[\"Searched\"].nunique()\n",
    "urban_tot_pop = urban_summary[\"Population\"].sum()\n",
    "urban_tot_rest = urban_summary[\"Total Restaurants\"].sum()\n",
    "urban_tot_vegan = urban_summary[\"Restaurants w/Vegan Options\"].sum()\n",
    "urban_tot_per = urban_tot_vegan/urban_tot_rest * 100\n",
    "urban_tot_percap = urban_vegan/urban_tot_pop\n",
    "\n",
    "urban_tot_summary = pd.DataFrame({\n",
    "    \"Total Cities\" = urban_tot_cities\n",
    "})"
   ]
  },
  {
   "cell_type": "markdown",
   "metadata": {},
   "source": [
    "## Urban Scatter Plot"
   ]
  },
  {
   "cell_type": "code",
   "execution_count": null,
   "metadata": {},
   "outputs": [],
   "source": []
  }
 ],
 "metadata": {
  "kernelspec": {
   "display_name": "Python 3",
   "language": "python",
   "name": "python3"
  },
  "language_info": {
   "codemirror_mode": {
    "name": "ipython",
    "version": 3
   },
   "file_extension": ".py",
   "mimetype": "text/x-python",
   "name": "python",
   "nbconvert_exporter": "python",
   "pygments_lexer": "ipython3",
   "version": "3.8.3"
  }
 },
 "nbformat": 4,
 "nbformat_minor": 4
}
