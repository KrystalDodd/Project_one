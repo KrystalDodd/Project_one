{
 "cells": [
  {
   "cell_type": "code",
   "execution_count": null,
   "metadata": {},
   "outputs": [],
   "source": [
    "my_api_key = \"OIzAV_YrskR2xaVYw26sZFcsljo-eHZoTsLOQe-Zr-FUmbFv10fccUhLHEKRexJ9CQ4A9GtX3BGsD1MTux16iY_jxFcuCjEVbA_bTqYE_R70cf3iPJw5FAfXgD7IX3Yx\""
   ]
  }
 ],
 "metadata": {
  "kernelspec": {
   "display_name": "Python 3",
   "language": "python",
   "name": "python3"
  },
  "language_info": {
   "codemirror_mode": {
    "name": "ipython",
    "version": 3
   },
   "file_extension": ".py",
   "mimetype": "text/x-python",
   "name": "python",
   "nbconvert_exporter": "python",
   "pygments_lexer": "ipython3",
   "version": "3.8.3"
  }
 },
 "nbformat": 4,
 "nbformat_minor": 4
}
