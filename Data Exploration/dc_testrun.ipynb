{
 "cells": [
  {
   "cell_type": "markdown",
   "metadata": {},
   "source": [
    "## Rise of the vegan: change in vegan restaurants in rural and urban areas"
   ]
  },
  {
   "cell_type": "markdown",
   "metadata": {},
   "source": [
    "#### Dependencies and Setup"
   ]
  },
  {
   "cell_type": "code",
   "execution_count": 84,
   "metadata": {},
   "outputs": [],
   "source": [
    "#Dependencies\n",
    "import matplotlib.pyplot as plt\n",
    "import pandas as pd\n",
    "# from yelp import Client\n",
    "#from ratelimit import limits\n",
    "import numpy as np\n",
    "import requests\n",
    "import json\n",
    "import csv\n",
    "import random\n",
    "\n",
    "# MY_API_KEY =  #  Replace this with your real API key\n",
    "\n",
    "# client = Client(MY_API_KEY)"
   ]
  },
  {
   "cell_type": "markdown",
   "metadata": {},
   "source": [
    "#### Create random sample data of 100 rural and 100 urban cities"
   ]
  },
  {
   "cell_type": "code",
   "execution_count": 85,
   "metadata": {},
   "outputs": [],
   "source": [
    "#Read census csv file for cities, state, and population for rural (<50000) and urban(>50000)\n",
    "df = pd.read_csv(\"../Downloads/sub-est2019_all.csv\", engine='python')"
   ]
  },
  {
   "cell_type": "code",
   "execution_count": 86,
   "metadata": {},
   "outputs": [],
   "source": [
    "#Create rural and urban dataframes\n",
    "rural_city = df[(df[\"POPESTIMATE2019\"]< 50000) & (df[\"POPESTIMATE2019\"] > 1000)]\n",
    "rural_df = rural_city[[\"NAME\", \"STNAME\", \"POPESTIMATE2019\"]]\n",
    "urban_city = df[df[\"POPESTIMATE2019\"]>= 50000]\n",
    "urban_df = urban_city[[\"NAME\", \"STNAME\", \"POPESTIMATE2019\"]]"
   ]
  },
  {
   "cell_type": "code",
   "execution_count": 87,
   "metadata": {},
   "outputs": [],
   "source": [
    "#Create clean urban dataframe by dropping cities with state name\n",
    "urban_index = urban_df.loc[urban_df[\"NAME\"] == urban_df[\"STNAME\"]].index\n",
    "urban_clean = urban_df.drop(urban_index)"
   ]
  },
  {
   "cell_type": "code",
   "execution_count": 88,
   "metadata": {},
   "outputs": [],
   "source": [
    "#Narrow down cities for rural and urban to a 100 city names/samples\n",
    "random_urban_city = urban_clean[[\"NAME\", \"STNAME\",\"POPESTIMATE2019\"]].sample(n=200, random_state=1)\n",
    "random_rural_city = rural_df[[\"NAME\", \"STNAME\", \"POPESTIMATE2019\"]].sample(n=200, random_state=1)"
   ]
  },
  {
   "cell_type": "code",
   "execution_count": 89,
   "metadata": {},
   "outputs": [
    {
     "data": {
      "text/plain": [
       "Index(['NAME', 'STNAME', 'POPESTIMATE2019'], dtype='object')"
      ]
     },
     "execution_count": 89,
     "metadata": {},
     "output_type": "execute_result"
    }
   ],
   "source": [
    "random_rural_city.columns"
   ]
  },
  {
   "cell_type": "code",
   "execution_count": 90,
   "metadata": {
    "scrolled": true
   },
   "outputs": [
    {
     "data": {
      "text/plain": [
       "(200, 3)"
      ]
     },
     "execution_count": 90,
     "metadata": {},
     "output_type": "execute_result"
    }
   ],
   "source": [
    "random_rural_city.shape"
   ]
  },
  {
   "cell_type": "markdown",
   "metadata": {},
   "source": [
    "#### Yelp API request"
   ]
  },
  {
   "cell_type": "code",
   "execution_count": 91,
   "metadata": {},
   "outputs": [],
   "source": [
    "#Base url and authorization header\n",
    "url='https://api.yelp.com/v3/businesses/{}'\n",
    "# url='https://api.yelp.com/v3/businesses/search'"
   ]
  },
  {
   "cell_type": "markdown",
   "metadata": {},
   "source": [
    "##### Pull data from Yelp Fusion using rural cities from random sample"
   ]
  },
  {
   "cell_type": "code",
   "execution_count": 132,
   "metadata": {},
   "outputs": [],
   "source": [
    "my_api_key = \"fsZSpGJjdpz_oH3iDeOHd_zCoLCffUje8ZNB9QACR8TMGkVKQiVRzGnD4im0CmCY6V3O3egacDsExbFEo0RFcHZysQocz2arAP9ab0BRcXbjludPtb-0IRu0HUnIX3Yx\"\n",
    "headers = {'Authorization': 'Bearer %s' % my_api_key}\n",
    "\n",
    "rural_dict = {\n",
    "    \"Searched\": [],\n",
    "    \"City\": [],\n",
    "    \"State\": [],\n",
    "    \"Lat\": [],\n",
    "    \"Lng\": [],\n",
    "    \"Restaurant\": [],\n",
    "    \"Category\": [],\n",
    "    \"Category 2\": [],\n",
    "    \"Category 3\": [],\n",
    "    \"Transactions\":[], \n",
    "    \"Prices\": [],\n",
    "    \"Rating\": [],\n",
    "    \"Reviews\": []\n",
    "}\n",
    "\n",
    "url='https://api.yelp.com/v3/businesses/search'\n",
    " \n",
    "for city, state in zip(random_urban_city[\"NAME\"], random_urban_city[\"STNAME\"]):\n",
    "    params = {\n",
    "        'limit': 50,\n",
    "        'offset': 50,\n",
    "        'location': f\"{city}, {state}\",\n",
    "        'radius': 4000\n",
    "             }\n",
    "    response = requests.get(url, params = params, headers = headers)\n",
    "    data = response.json()\n",
    "    \n",
    "    business_list = data['businesses']\n",
    "    for business in business_list:\n",
    "        rural_dict[\"City\"].append(business[\"location\"][\"city\"])\n",
    "        rural_dict[\"State\"].append(business[\"location\"][\"state\"])\n",
    "        rural_dict[\"Lat\"].append(business[\"coordinates\"][\"latitude\"])\n",
    "        rural_dict[\"Lng\"].append(business[\"coordinates\"][\"longitude\"])\n",
    "        rural_dict[\"Restaurant\"].append(business[\"name\"])\n",
    "#             rural_dict[\"Category\"].append([response[\"businesses\"][business][\"categories\"][i][\"title\"] for i in range(len(response[\"businesses\"][business][\"categories\"]))])\n",
    "        rural_dict[\"Category\"].append(business[\"categories\"][0][\"title\"])\n",
    "#         rural_dict[\"Category 2\"].append(business[\"categories\"][1][\"title\"])\n",
    "#         rural_dict[\"Category 3\"].append(business[\"categories\"][\"title\"][2])\n",
    "        rural_dict[\"Transactions\"].append(business[\"transactions\"])\n",
    "        rural_dict[\"Prices\"].extend(business[\"price\"])\n",
    "        rural_dict[\"Rating\"].append(business[\"rating\"])\n",
    "        rural_dict[\"Reviews\"].append(business[\"review_count\"])\n",
    "\n",
    "    pass    "
   ]
  },
  {
   "cell_type": "code",
   "execution_count": null,
   "metadata": {},
   "outputs": [],
   "source": [
    "# import json\n",
    "# with open('json_multidimensional.json','r') as string:\n",
    "#     my_dict=json.load(string)\n",
    "# string.close()\n",
    "# def iterate_multidimensional(my_dict):\n",
    "#     for k,v in my_dict.items():\n",
    "#         if(isinstance(v,dict)):\n",
    "#             print(k+\":\")\n",
    "#             iterate_multidimensional(v)\n",
    "#             continue\n",
    "#         print(k+\" : \"+str(v))\n",
    "# iterate_multidimensional(my_dict)"
   ]
  },
  {
   "cell_type": "code",
   "execution_count": 133,
   "metadata": {},
   "outputs": [
    {
     "data": {
      "text/html": [
       "<div>\n",
       "<style scoped>\n",
       "    .dataframe tbody tr th:only-of-type {\n",
       "        vertical-align: middle;\n",
       "    }\n",
       "\n",
       "    .dataframe tbody tr th {\n",
       "        vertical-align: top;\n",
       "    }\n",
       "\n",
       "    .dataframe thead th {\n",
       "        text-align: right;\n",
       "    }\n",
       "</style>\n",
       "<table border=\"1\" class=\"dataframe\">\n",
       "  <thead>\n",
       "    <tr style=\"text-align: right;\">\n",
       "      <th></th>\n",
       "      <th>Searched</th>\n",
       "      <th>City</th>\n",
       "      <th>State</th>\n",
       "      <th>Lat</th>\n",
       "      <th>Lng</th>\n",
       "      <th>Restaurant</th>\n",
       "      <th>Category</th>\n",
       "      <th>Category 2</th>\n",
       "      <th>Category 3</th>\n",
       "      <th>Transactions</th>\n",
       "      <th>Prices</th>\n",
       "      <th>Rating</th>\n",
       "      <th>Reviews</th>\n",
       "    </tr>\n",
       "  </thead>\n",
       "  <tbody>\n",
       "    <tr>\n",
       "      <th>0</th>\n",
       "      <td>None</td>\n",
       "      <td>Brentwood</td>\n",
       "      <td>CA</td>\n",
       "      <td>37.9243</td>\n",
       "      <td>-121.707</td>\n",
       "      <td>Yogurt Pizazz</td>\n",
       "      <td>Ice Cream &amp; Frozen Yogurt</td>\n",
       "      <td>None</td>\n",
       "      <td>None</td>\n",
       "      <td>[delivery]</td>\n",
       "      <td>None</td>\n",
       "      <td>4</td>\n",
       "      <td>83</td>\n",
       "    </tr>\n",
       "    <tr>\n",
       "      <th>1</th>\n",
       "      <td>None</td>\n",
       "      <td>Brentwood</td>\n",
       "      <td>CA</td>\n",
       "      <td>37.9251</td>\n",
       "      <td>-121.722</td>\n",
       "      <td>Extreme Pizza - Brentwood</td>\n",
       "      <td>Pizza</td>\n",
       "      <td>None</td>\n",
       "      <td>None</td>\n",
       "      <td>[pickup, delivery]</td>\n",
       "      <td>None</td>\n",
       "      <td>3.5</td>\n",
       "      <td>177</td>\n",
       "    </tr>\n",
       "    <tr>\n",
       "      <th>2</th>\n",
       "      <td>None</td>\n",
       "      <td>Brentwood</td>\n",
       "      <td>CA</td>\n",
       "      <td>37.9621</td>\n",
       "      <td>-121.732</td>\n",
       "      <td>iYogurt</td>\n",
       "      <td>Ice Cream &amp; Frozen Yogurt</td>\n",
       "      <td>None</td>\n",
       "      <td>None</td>\n",
       "      <td>[]</td>\n",
       "      <td>None</td>\n",
       "      <td>4.5</td>\n",
       "      <td>117</td>\n",
       "    </tr>\n",
       "    <tr>\n",
       "      <th>3</th>\n",
       "      <td>None</td>\n",
       "      <td>Brentwood</td>\n",
       "      <td>CA</td>\n",
       "      <td>37.9248</td>\n",
       "      <td>-121.737</td>\n",
       "      <td>Vic Stewart's</td>\n",
       "      <td>Steakhouses</td>\n",
       "      <td>None</td>\n",
       "      <td>None</td>\n",
       "      <td>[delivery, restaurant_reservation]</td>\n",
       "      <td>None</td>\n",
       "      <td>3.5</td>\n",
       "      <td>467</td>\n",
       "    </tr>\n",
       "    <tr>\n",
       "      <th>4</th>\n",
       "      <td>None</td>\n",
       "      <td>Brentwood</td>\n",
       "      <td>CA</td>\n",
       "      <td>37.9505</td>\n",
       "      <td>-121.708</td>\n",
       "      <td>Blue Goose Park</td>\n",
       "      <td>Parks</td>\n",
       "      <td>None</td>\n",
       "      <td>None</td>\n",
       "      <td>[]</td>\n",
       "      <td>None</td>\n",
       "      <td>4.5</td>\n",
       "      <td>39</td>\n",
       "    </tr>\n",
       "  </tbody>\n",
       "</table>\n",
       "</div>"
      ],
      "text/plain": [
       "  Searched       City State      Lat      Lng                 Restaurant  \\\n",
       "0     None  Brentwood    CA  37.9243 -121.707              Yogurt Pizazz   \n",
       "1     None  Brentwood    CA  37.9251 -121.722  Extreme Pizza - Brentwood   \n",
       "2     None  Brentwood    CA  37.9621 -121.732                    iYogurt   \n",
       "3     None  Brentwood    CA  37.9248 -121.737              Vic Stewart's   \n",
       "4     None  Brentwood    CA  37.9505 -121.708            Blue Goose Park   \n",
       "\n",
       "                    Category Category 2 Category 3  \\\n",
       "0  Ice Cream & Frozen Yogurt       None       None   \n",
       "1                      Pizza       None       None   \n",
       "2  Ice Cream & Frozen Yogurt       None       None   \n",
       "3                Steakhouses       None       None   \n",
       "4                      Parks       None       None   \n",
       "\n",
       "                         Transactions Prices Rating Reviews  \n",
       "0                          [delivery]   None      4      83  \n",
       "1                  [pickup, delivery]   None    3.5     177  \n",
       "2                                  []   None    4.5     117  \n",
       "3  [delivery, restaurant_reservation]   None    3.5     467  \n",
       "4                                  []   None    4.5      39  "
      ]
     },
     "execution_count": 133,
     "metadata": {},
     "output_type": "execute_result"
    }
   ],
   "source": [
    "#Create rural dataframe from rural cities (with <50000 est. pop.) Yelp API response\n",
    "rural = pd.DataFrame.from_dict(rural_dict, orient='index')\n",
    "rural = rural.transpose()\n",
    "rural.head()"
   ]
  },
  {
   "cell_type": "code",
   "execution_count": 134,
   "metadata": {},
   "outputs": [
    {
     "data": {
      "text/plain": [
       "(6667, 13)"
      ]
     },
     "execution_count": 134,
     "metadata": {},
     "output_type": "execute_result"
    }
   ],
   "source": [
    "rural.shape"
   ]
  },
  {
   "cell_type": "markdown",
   "metadata": {},
   "source": [
    "##### Pull data from Yelp Fusion using urban cities from random sample"
   ]
  },
  {
   "cell_type": "code",
   "execution_count": null,
   "metadata": {},
   "outputs": [],
   "source": [
    "headers = {'Authorization': 'Bearer %s' % my_api_key}\n",
    "\n",
    "urban_dict = {\n",
    "    \"Searched\": [],\n",
    "    \"City\": [],\n",
    "    \"State\": [],\n",
    "    \"Lat\": [],\n",
    "    \"Lng\": [],\n",
    "    \"Restaurant\": [],\n",
    "    \"Category\": [],\n",
    "    \"Category 2\": [],\n",
    "    \"Category 3\": [],\n",
    "    \"Transactions\":[], \n",
    "    \"Prices\": []\n",
    "    \"Rating\": []\n",
    "}\n",
    "\n",
    "url='https://api.yelp.com/v3/businesses/search'\n",
    " \n",
    "for city, state in zip(random_urban_city[\"NAME\"], random_urban_city[\"STNAME\"]):\n",
    "    params = {\n",
    "        'limit': 50,\n",
    "        'offset': 50,\n",
    "        'location': f\"{city}, {state}\",\n",
    "        'radius': 4000\n",
    "             }\n",
    "    response = requests.get(url, params = params, headers = headers).json()\n",
    "    for business in range(len(response[\"businesses\"])):\n",
    "        try:\n",
    "            urban_dict[\"Searched\"].append(f\"{city}, {state}\")\n",
    "            urban_dict[\"City\"].append(response[\"businesses\"][business][\"location\"][\"city\"])\n",
    "            urban_dict[\"State\"].append(response[\"businesses\"][business][\"location\"][\"state\"])\n",
    "            urban_dict[\"Lat\"].append(response[\"businesses\"][business][\"coordinates\"][\"latitude\"])\n",
    "            urban_dict[\"Lng\"].append(response[\"businesses\"][business][\"coordinates\"][\"longitude\"])\n",
    "            urban_dict[\"Restaurant\"].append(response[\"businesses\"][business][\"name\"])\n",
    "#             urban_dict[\"Category\"].append([response[\"businesses\"][business][\"categories\"][i][\"title\"] for i in range(len(response[\"businesses\"][business][\"categories\"]))])\n",
    "            urban_dict[\"Category\"].append(response[\"businesses\"][business][\"categories\"][0][\"title\"])\n",
    "            urban_dict[\"Category 2\"].append(response[\"businesses\"][business][\"categories\"][1][\"title\"])\n",
    "            urban_dict[\"Category 3\"].append(response[\"businesses\"][business][\"categories\"][2][\"title\"])\n",
    "            urban_dict[\"Transactions\"].append(response[\"businesses\"][business][\"transactions\"])\n",
    "        except KeyError:\n",
    "            urban_dict[\"Searched\"].append(\"No City Found\")\n",
    "            urban_dict[\"City\"].append(\"No City Found\")\n",
    "            urban_dict[\"State\"].append(\"No State Found\")\n",
    "            urban_dict[\"Lat\"].append(\"No Lat Found\")\n",
    "            urban_dict[\"Lng\"].append(\"No Lng Found\")\n",
    "            urban_dict[\"Restaurant\"].append(\"No Restaurant Found\")\n",
    "            urban_dict[\"Category\"].append(\"No Categories\")\n",
    "            urban_dict[\"Transactions\"].append(\"No Transactions Found\")\n",
    "        except IndexError:\n",
    "            urban_dict[\"Category 2\"].append(\"\")\n",
    "            urban_dict[\"Category 3\"].append(\"\")"
   ]
  },
  {
   "cell_type": "code",
   "execution_count": null,
   "metadata": {
    "scrolled": false
   },
   "outputs": [],
   "source": [
    "#Create urban dataframe from urban cities (with >50000 est. pop.) Yelp API response\n",
    "urban = pd.DataFrame.from_dict(urban_dict, orient='index')\n",
    "urban = urban.transpose()\n",
    "urban.head()"
   ]
  },
  {
   "cell_type": "code",
   "execution_count": null,
   "metadata": {},
   "outputs": [],
   "source": [
    "rural.shape"
   ]
  },
  {
   "cell_type": "code",
   "execution_count": null,
   "metadata": {},
   "outputs": [],
   "source": [
    "#Save urban and rural city API results to csv files\n",
    "urban.to_csv(\"../urban.csv\")\n",
    "rural.to_csv(\"../rural.csv\")"
   ]
  },
  {
   "cell_type": "markdown",
   "metadata": {},
   "source": [
    "#### Extract urban city data with vegan/vegetarian places or options from Yelp Fusion "
   ]
  },
  {
   "cell_type": "code",
   "execution_count": 5,
   "metadata": {},
   "outputs": [],
   "source": [
    "rural_vegan = rural[(rural[\"Category\"] == \"Vegetarian\")]"
   ]
  },
  {
   "cell_type": "code",
   "execution_count": 135,
   "metadata": {
    "scrolled": true
   },
   "outputs": [
    {
     "data": {
      "text/html": [
       "<div>\n",
       "<style scoped>\n",
       "    .dataframe tbody tr th:only-of-type {\n",
       "        vertical-align: middle;\n",
       "    }\n",
       "\n",
       "    .dataframe tbody tr th {\n",
       "        vertical-align: top;\n",
       "    }\n",
       "\n",
       "    .dataframe thead th {\n",
       "        text-align: right;\n",
       "    }\n",
       "</style>\n",
       "<table border=\"1\" class=\"dataframe\">\n",
       "  <thead>\n",
       "    <tr style=\"text-align: right;\">\n",
       "      <th></th>\n",
       "      <th>Searched</th>\n",
       "      <th>City</th>\n",
       "      <th>State</th>\n",
       "      <th>Lat</th>\n",
       "      <th>Lng</th>\n",
       "      <th>Restaurant</th>\n",
       "      <th>Category</th>\n",
       "      <th>Category 2</th>\n",
       "      <th>Category 3</th>\n",
       "      <th>Transactions</th>\n",
       "      <th>Prices</th>\n",
       "      <th>Rating</th>\n",
       "      <th>Reviews</th>\n",
       "    </tr>\n",
       "  </thead>\n",
       "  <tbody>\n",
       "    <tr>\n",
       "      <th>1385</th>\n",
       "      <td>None</td>\n",
       "      <td>Medford</td>\n",
       "      <td>OR</td>\n",
       "      <td>42.3274</td>\n",
       "      <td>-122.87</td>\n",
       "      <td>Melange Eatery</td>\n",
       "      <td>Vegan</td>\n",
       "      <td>None</td>\n",
       "      <td>None</td>\n",
       "      <td>[pickup, delivery]</td>\n",
       "      <td>None</td>\n",
       "      <td>4.5</td>\n",
       "      <td>32</td>\n",
       "    </tr>\n",
       "    <tr>\n",
       "      <th>1759</th>\n",
       "      <td>None</td>\n",
       "      <td>Inglewood</td>\n",
       "      <td>CA</td>\n",
       "      <td>33.9543</td>\n",
       "      <td>-118.353</td>\n",
       "      <td>VegainzLA</td>\n",
       "      <td>Vegan</td>\n",
       "      <td>None</td>\n",
       "      <td>None</td>\n",
       "      <td>[delivery, pickup]</td>\n",
       "      <td>None</td>\n",
       "      <td>4.5</td>\n",
       "      <td>40</td>\n",
       "    </tr>\n",
       "    <tr>\n",
       "      <th>2100</th>\n",
       "      <td>None</td>\n",
       "      <td>Nashville</td>\n",
       "      <td>TN</td>\n",
       "      <td>36.1605</td>\n",
       "      <td>-86.8007</td>\n",
       "      <td>Vege-licious</td>\n",
       "      <td>Vegan</td>\n",
       "      <td>None</td>\n",
       "      <td>None</td>\n",
       "      <td>[pickup, delivery]</td>\n",
       "      <td>None</td>\n",
       "      <td>4.5</td>\n",
       "      <td>266</td>\n",
       "    </tr>\n",
       "    <tr>\n",
       "      <th>2158</th>\n",
       "      <td>None</td>\n",
       "      <td>Santa Cruz</td>\n",
       "      <td>CA</td>\n",
       "      <td>36.9809</td>\n",
       "      <td>-122.016</td>\n",
       "      <td>Pearl Of The Ocean Sri Lankan Organic Restaurant</td>\n",
       "      <td>Vegan</td>\n",
       "      <td>None</td>\n",
       "      <td>None</td>\n",
       "      <td>[delivery, pickup]</td>\n",
       "      <td>None</td>\n",
       "      <td>4</td>\n",
       "      <td>527</td>\n",
       "    </tr>\n",
       "    <tr>\n",
       "      <th>2320</th>\n",
       "      <td>None</td>\n",
       "      <td>Santa Cruz</td>\n",
       "      <td>CA</td>\n",
       "      <td>36.9799</td>\n",
       "      <td>-122.011</td>\n",
       "      <td>Charlie Hong Kong</td>\n",
       "      <td>Vegan</td>\n",
       "      <td>None</td>\n",
       "      <td>None</td>\n",
       "      <td>[pickup, delivery]</td>\n",
       "      <td>None</td>\n",
       "      <td>3.5</td>\n",
       "      <td>928</td>\n",
       "    </tr>\n",
       "  </tbody>\n",
       "</table>\n",
       "</div>"
      ],
      "text/plain": [
       "     Searched        City State      Lat      Lng  \\\n",
       "1385     None     Medford    OR  42.3274  -122.87   \n",
       "1759     None   Inglewood    CA  33.9543 -118.353   \n",
       "2100     None   Nashville    TN  36.1605 -86.8007   \n",
       "2158     None  Santa Cruz    CA  36.9809 -122.016   \n",
       "2320     None  Santa Cruz    CA  36.9799 -122.011   \n",
       "\n",
       "                                            Restaurant Category Category 2  \\\n",
       "1385                                    Melange Eatery    Vegan       None   \n",
       "1759                                         VegainzLA    Vegan       None   \n",
       "2100                                      Vege-licious    Vegan       None   \n",
       "2158  Pearl Of The Ocean Sri Lankan Organic Restaurant    Vegan       None   \n",
       "2320                                 Charlie Hong Kong    Vegan       None   \n",
       "\n",
       "     Category 3        Transactions Prices Rating Reviews  \n",
       "1385       None  [pickup, delivery]   None    4.5      32  \n",
       "1759       None  [delivery, pickup]   None    4.5      40  \n",
       "2100       None  [pickup, delivery]   None    4.5     266  \n",
       "2158       None  [delivery, pickup]   None      4     527  \n",
       "2320       None  [pickup, delivery]   None    3.5     928  "
      ]
     },
     "execution_count": 135,
     "metadata": {},
     "output_type": "execute_result"
    }
   ],
   "source": [
    "rural_vegan = rural[(rural[\"Category\"] == \"Vegan\")]\n",
    "rural_vegan.head()"
   ]
  },
  {
   "cell_type": "markdown",
   "metadata": {},
   "source": [
    "#### Calculate percentage: Vegan/Vegetarian Places per State"
   ]
  },
  {
   "cell_type": "code",
   "execution_count": null,
   "metadata": {},
   "outputs": [],
   "source": [
    "rural_vegan_df[\"City, State\"] = rural_vegan_df[\"City\"] + \",\" + \" \" + rural_vegan_df[\"State\"]\n",
    "\n",
    "rural_vegan_df = rural_vegan_df.rename(columns = {\"City, State\":\"City_State\"})\n",
    "\n",
    "# del rural_vegan_df['City,State']\n",
    "rural_vegan_df"
   ]
  },
  {
   "cell_type": "markdown",
   "metadata": {},
   "source": [
    "#### Identify: Top Vegan/Vegetarian restaurants by state"
   ]
  },
  {
   "cell_type": "code",
   "execution_count": null,
   "metadata": {},
   "outputs": [],
   "source": []
  },
  {
   "cell_type": "code",
   "execution_count": null,
   "metadata": {},
   "outputs": [],
   "source": []
  },
  {
   "cell_type": "code",
   "execution_count": null,
   "metadata": {},
   "outputs": [],
   "source": []
  }
 ],
 "metadata": {
  "kernelspec": {
   "display_name": "Python 3",
   "language": "python",
   "name": "python3"
  },
  "language_info": {
   "codemirror_mode": {
    "name": "ipython",
    "version": 3
   },
   "file_extension": ".py",
   "mimetype": "text/x-python",
   "name": "python",
   "nbconvert_exporter": "python",
   "pygments_lexer": "ipython3",
   "version": "3.8.3"
  }
 },
 "nbformat": 4,
 "nbformat_minor": 4
}
