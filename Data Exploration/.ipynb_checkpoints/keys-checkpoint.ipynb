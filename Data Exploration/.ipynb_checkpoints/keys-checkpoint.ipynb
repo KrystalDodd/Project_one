{
 "cells": [
  {
   "cell_type": "code",
   "execution_count": null,
   "metadata": {},
   "outputs": [],
   "source": [
    "yelp_key = Q4VMm1uRj7KeIvqc1IS8e4DxqWqzoNyUCY_tvE9M5eql9ZPlcsNkyYfW3z9_CUNIOa_3zRAdCc29_6UxqtV4MKWRupjUkhdJPMjMqdR_mRR7fVZC6GnYmodrBj_IX3Yx"
   ]
  }
 ],
 "metadata": {
  "kernelspec": {
   "display_name": "Python 3",
   "language": "python",
   "name": "python3"
  },
  "language_info": {
   "codemirror_mode": {
    "name": "ipython",
    "version": 3
   },
   "file_extension": ".py",
   "mimetype": "text/x-python",
   "name": "python",
   "nbconvert_exporter": "python",
   "pygments_lexer": "ipython3",
   "version": "3.8.3"
  }
 },
 "nbformat": 4,
 "nbformat_minor": 4
}
