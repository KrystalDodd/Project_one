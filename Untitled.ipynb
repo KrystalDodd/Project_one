{
 "cells": [
  {
   "cell_type": "code",
   "execution_count": 67,
   "metadata": {
    "scrolled": true
   },
   "outputs": [
    {
     "name": "stdout",
     "output_type": "stream",
     "text": [
      "3\n"
     ]
    }
   ],
   "source": [
    "import matplotlib.pyplot as plt\n",
    "import pandas as pd\n",
    "import numpy as np\n",
    "from scipy.stats import linregress\n",
    "from yelp.client import Client\n",
    "import json\n",
    "from ratelimit import limits\n",
    "import requests\n",
    "\n",
    "csv\n",
    "\n",
    "# url = \"https://wft-geo-db.p.rapidapi.com/v1/geo/cities\"\n",
    "\n",
    "# querystring = {\"limit\":\"10\",\"countryIds\":\"US\"}\n",
    "\n",
    "# headers = {\n",
    "#     'x-rapidapi-key': \"4164b358bbmsh555d6cdf1cb65e9p18da16jsnacdeccfdbad9\",\n",
    "#     'x-rapidapi-host': \"wft-geo-db.p.rapidapi.com\"\n",
    "#     }\n",
    "\n",
    "# response = requests.request(\"GET\", url, headers=headers, params=querystring).json()\n",
    "\n",
    "# print(len(response))\n"
   ]
  },
  {
   "cell_type": "code",
   "execution_count": 63,
   "metadata": {},
   "outputs": [
    {
     "data": {
      "text/html": [
       "<div>\n",
       "<style scoped>\n",
       "    .dataframe tbody tr th:only-of-type {\n",
       "        vertical-align: middle;\n",
       "    }\n",
       "\n",
       "    .dataframe tbody tr th {\n",
       "        vertical-align: top;\n",
       "    }\n",
       "\n",
       "    .dataframe thead th {\n",
       "        text-align: right;\n",
       "    }\n",
       "</style>\n",
       "<table border=\"1\" class=\"dataframe\">\n",
       "  <thead>\n",
       "    <tr style=\"text-align: right;\">\n",
       "      <th></th>\n",
       "      <th>City</th>\n",
       "    </tr>\n",
       "  </thead>\n",
       "  <tbody>\n",
       "    <tr>\n",
       "      <th>0</th>\n",
       "      <td>Aaronsburg</td>\n",
       "    </tr>\n",
       "    <tr>\n",
       "      <th>1</th>\n",
       "      <td>Aaronsburg</td>\n",
       "    </tr>\n",
       "    <tr>\n",
       "      <th>2</th>\n",
       "      <td>Abanda</td>\n",
       "    </tr>\n",
       "  </tbody>\n",
       "</table>\n",
       "</div>"
      ],
      "text/plain": [
       "         City\n",
       "0  Aaronsburg\n",
       "1  Aaronsburg\n",
       "2      Abanda"
      ]
     },
     "execution_count": 63,
     "metadata": {},
     "output_type": "execute_result"
    }
   ],
   "source": [
    "# city = [for i in sponse[\"data\"][1][\"name\"]\n",
    "# print(city)\n",
    "\n",
    "city_dict = {}\n",
    "city_dict[\"City\"] = [response[\"data\"][i][\"name\"] for i in range(len(response))]\n",
    "city_df = pd.DataFrame(city_dict)\n",
    "city_df.head()"
   ]
  },
  {
   "cell_type": "code",
   "execution_count": null,
   "metadata": {},
   "outputs": [],
   "source": []
  }
 ],
 "metadata": {
  "kernelspec": {
   "display_name": "Python 3",
   "language": "python",
   "name": "python3"
  },
  "language_info": {
   "codemirror_mode": {
    "name": "ipython",
    "version": 3
   },
   "file_extension": ".py",
   "mimetype": "text/x-python",
   "name": "python",
   "nbconvert_exporter": "python",
   "pygments_lexer": "ipython3",
   "version": "3.8.3"
  }
 },
 "nbformat": 4,
 "nbformat_minor": 4
}
